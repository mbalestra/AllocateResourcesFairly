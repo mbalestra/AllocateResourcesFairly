{
  "nbformat": 4,
  "nbformat_minor": 0,
  "metadata": {
    "colab": {
      "name": "experiment2.ipynb",
      "provenance": [],
      "collapsed_sections": []
    },
    "kernelspec": {
      "name": "python3",
      "display_name": "Python 3"
    }
  },
  "cells": [
    {
      "cell_type": "markdown",
      "metadata": {
        "id": "deDIyeeUtGPE"
      },
      "source": [
        "Experiment 1: \n",
        "\n",
        "\n",
        "*   subgroup ratio: 0.8 vs 0.2\n",
        "*   Centroids = 50\n",
        "*   Objective function weights: 0.3 vs 0.7\n",
        "\n",
        "\n",
        "\n",
        "\n",
        "\n"
      ]
    },
    {
      "cell_type": "code",
      "metadata": {
        "id": "TRdL0t17k_h3"
      },
      "source": [
        "from sklearn.datasets import make_classification\n",
        "from matplotlib import pyplot as plt\n",
        "import seaborn as sns\n",
        "import numpy as np\n",
        "import pandas as pd\n",
        "from scipy import stats\n",
        "import matplotlib.pyplot as plt\n",
        "import random\n",
        "import time"
      ],
      "execution_count": 2,
      "outputs": []
    },
    {
      "cell_type": "code",
      "metadata": {
        "id": "RCM1sRuTm-LK",
        "colab": {
          "base_uri": "https://localhost:8080/"
        },
        "outputId": "4246db45-c420-458c-c0be-eba6ad1b5c97"
      },
      "source": [
        "#User input for algorithm:\n",
        "#for synthetic data/potentially for regular datasets user can set the total subgroups/centroids\n",
        "numCentroids = input(\"Enter number of centroids: \")\n",
        "groupNum = input(\"Enter number of groups: \")"
      ],
      "execution_count": 3,
      "outputs": [
        {
          "output_type": "stream",
          "text": [
            "Enter number of centroids: 50\n",
            "Enter number of groups: 2\n"
          ],
          "name": "stdout"
        }
      ]
    },
    {
      "cell_type": "code",
      "metadata": {
        "id": "VnNJ6GLTIqIF"
      },
      "source": [
        "#calculates euclidean distance between points\n",
        "def calc_dist(x,y,x_ref,y_ref):\n",
        "  return np.sqrt((((x-x_ref))**2)+((y-y_ref))**2) "
      ],
      "execution_count": 4,
      "outputs": []
    },
    {
      "cell_type": "code",
      "metadata": {
        "id": "4MvuZpJO9Kg-"
      },
      "source": [
        "#calculuates loss by putting euclidean distance of point->centroid into sigmoid function\n",
        "def calc_loss(x,y,x_ref,y_ref):\n",
        "    # calculate euclidean distance btw person & centroid\n",
        "    distance = calc_dist(x,y,x_ref,y_ref)\n",
        "    # refer to the above distance function to determine individual loss\n",
        "    #loss = 1/(1+ np.exp(-1*(distance))) #converts distances to probability distribution\n",
        "    #return loss\n",
        "    return (np.exp(distance)-1)/(np.exp(distance)+1)"
      ],
      "execution_count": 5,
      "outputs": []
    },
    {
      "cell_type": "code",
      "metadata": {
        "id": "AV8DU-EkimxQ"
      },
      "source": [
        "#this function calculates the summation of all the individual losses within each cluster for minimizing the objective function\n",
        "def sum_loss(df, centroids, subgroup_loss):\n",
        "  #total datapoints\n",
        "  tot_len = 0\n",
        "  #sum of all individual losses between clusters\n",
        "  loss_sum = 0\n",
        "  clusters = []\n",
        "  for i in centroids.keys():\n",
        "    temp = df[df['min_centr']==i]\n",
        "    temp = temp.reset_index()\n",
        "    clusters.append(temp)\n",
        "    #tot_len += len(temp)\n",
        "    #print((temp['min_loss'].sum())/len(temp))\n",
        "    loss_sum += (temp['min_loss'].sum())\n",
        "  #weighting scheme for 2-part cost function (sum of individual losses and subgroup loss)\n",
        "  #tot_loss = .6*(loss_sum/tot_len)\n",
        "  tot_loss = .3*(loss_sum/len(df))\n",
        "  #print('indiv loss: ', tot_loss)\n",
        "  tot_loss += ((.7)*subgroup_loss)\n",
        "  #print('subgroup loss: ', subgroup_loss)\n",
        "  #print('total loss: ', tot_loss)\n",
        "  return tot_loss, (loss_sum/len(df))"
      ],
      "execution_count": 41,
      "outputs": []
    },
    {
      "cell_type": "code",
      "metadata": {
        "id": "_8N7YL7Kxs79"
      },
      "source": [
        "def assign_cluster(df, centroids):\n",
        "  start = time.time()\n",
        "  for i in centroids.keys():\n",
        "    #loss based on euclidean distance for each individual point compared to both centroids\n",
        "    #stored in dataframe\n",
        "    df['loss_from_{}'.format(i)] = calc_loss(df['x_coord'], df['y_coord'], centroids[i][0], centroids[i][1])\n",
        "    df['dist_from_{}'.format(i)] = calc_dist(df['x_coord'], df['y_coord'], centroids[i][0], centroids[i][1])\n",
        "  centroid_dist_col = ['loss_from_{}'.format(i) for i in centroids.keys()]\n",
        "  #df column which holds the value of the closest centroid for each point\n",
        "  df['min_centr'] = df.loc[:, centroid_dist_col].idxmin(axis=1)\n",
        "  df['min_centr'] = df['min_centr'].map(lambda x: int(x.lstrip('loss_from_')))\n",
        "  #value of loss calculated from sigmoid in calc_loss function for individual loss\n",
        "  df['min_loss'] = df[['loss_from_{}'.format(i) for i in centroids.keys()]].min(axis=1)\n",
        "  end = time.time()\n",
        "  #print('Time elapsed Assignment Step: ', end - start)\n",
        "  # for i in range(len(centroids)):\n",
        "  #   del df['loss_from_{}'.format(i)]\n",
        "  #   lst = df['min_centr'].unique()\n",
        "  #   if i not in lst:\n",
        "  #     del df['dist_from_{}'.format(i)]\n",
        "  return df"
      ],
      "execution_count": 7,
      "outputs": []
    },
    {
      "cell_type": "code",
      "metadata": {
        "id": "pHz2LfEQQsZK"
      },
      "source": [
        "# this function compares the loss between two groups at a certain percentile level\n",
        "def compare_loss(group1,group2,percentile):\n",
        "    select_group = [group1, group2]\n",
        "    percentile_loss = []\n",
        "    for s in select_group:\n",
        "        s = s.sort_values(by=['min_loss'])\n",
        "        subgroup = [s['min_loss']] # subset the two different groups of interest\n",
        "        loss_p = stats.scoreatpercentile(subgroup, percentile) # find the level of loss at given percentile\n",
        "        percentile_loss.append(loss_p) # load list with loss    \n",
        "    difference = np.abs(percentile_loss[0]-percentile_loss[1]) # find difference between two @ percentile\n",
        "    #=loss = (np.exp(difference)-1)/(np.exp(difference)+1)\n",
        "    return difference"
      ],
      "execution_count": 8,
      "outputs": []
    },
    {
      "cell_type": "code",
      "metadata": {
        "id": "D6IkySh0EzcV"
      },
      "source": [
        "#calculates gradient for clusters\n",
        "def update_weights(clust, lr, centr, df):\n",
        "  #total number of points in cluster 0 (points nearest to centroid 0)\n",
        "  new_centr_x, new_centr_y = centr[0], centr[1]\n",
        "  #calculate partial derivatives of euclidean distance functions\n",
        "  x = clust['x_coord']\n",
        "  y = clust['y_coord']\n",
        "  center = clust['min_centr']\n",
        "  distance = clust['dist_from_{}'.format(int(center))]\n",
        "  grad_x = (np.exp(-1*distance) * (centr[0]-x)) / (1 + np.exp(-1*distance)*distance)\n",
        "  grad_y = (np.exp(-1*distance) * (centr[1]-y)) / (1 + np.exp(-1*distance)*distance)\n",
        "\n",
        "  return (grad_x, grad_y)"
      ],
      "execution_count": 9,
      "outputs": []
    },
    {
      "cell_type": "code",
      "metadata": {
        "id": "jhdH_V2uYNnV"
      },
      "source": [
        "def softmax(x):\n",
        "  return np.exp(x) / np.sum(np.exp(x), axis=0)"
      ],
      "execution_count": 10,
      "outputs": []
    },
    {
      "cell_type": "code",
      "metadata": {
        "id": "7Atzo5sakSfE"
      },
      "source": [
        "import random\n",
        "def mini_batch(df, b, count, temp_centroids, centroids, groups, cdf1,cdf2):\n",
        "  #weighted mini-batch sampling\n",
        "  samples = []\n",
        "  group_loss = []\n",
        "  for group in groups:\n",
        "    group_loss.append(group['min_loss'].sum()/len(group))\n",
        "  weights = softmax(group_loss)\n",
        "  #print('weights: ', weights)\n",
        "  for i, group in enumerate(groups):\n",
        "    samples.append(group.sample(n=int(b*weights[i]), random_state=1))\n",
        "  samp = pd.concat([samp for samp in samples], ignore_index=True, sort=False)\n",
        "  samp = samp.reset_index()\n",
        "  #initializations\n",
        "  sum_x = {}\n",
        "  for i in centroids.keys():\n",
        "    sum_x[i] = 0\n",
        "  sum_y = {}\n",
        "  for i in centroids.keys():\n",
        "    sum_y[i] = 0\n",
        "  for i in centroids.keys():\n",
        "    count[i] = 0\n",
        "  start = time.time()\n",
        "  #update centroid locations using gradient descent\n",
        "  for s in range(len(samp)):\n",
        "    clust = samp.iloc[s]['min_centr']\n",
        "    clust = int(clust)\n",
        "    count[clust]+=1\n",
        "    lr = 1/count[clust]\n",
        "    temp = update_weights(samp.iloc[s], lr, temp_centroids[clust], df)\n",
        "    sum_x[clust] += temp[0]\n",
        "    sum_y[clust] += temp[1]\n",
        "  for i in range(len(temp_centroids)):\n",
        "    if count[i]!= 0:\n",
        "      temp_centroids[i] = (temp_centroids[i][0]-lr*(sum_x[i]/count[i]), temp_centroids[i][1]-lr*(sum_y[i]/count[i]))\n",
        "  end = time.time()\n",
        "  #print('Time elapsed Batch Step: ', end - start)\n",
        "  return temp_centroids"
      ],
      "execution_count": 11,
      "outputs": []
    },
    {
      "cell_type": "code",
      "metadata": {
        "id": "kkvulHEXxtsV"
      },
      "source": [
        "#updates centroid locations based on gradient descent and loss constraint\n",
        "def update(centroids, df, subgroup_loss, loss,indiv, groups, cdf1, cdf2, perc):\n",
        "  #initializations\n",
        "  tot_loss_lst = []\n",
        "  tot_subgroup = []\n",
        "  overall_loss = []\n",
        "  prev_centr = {}\n",
        "  subgr_losses = {}\n",
        "  for i in range(len(groups)):\n",
        "    subgr_losses[i] = []\n",
        "  for i in centroids.keys():\n",
        "    prev_centr[i] = 0\n",
        "  b = 256\n",
        "  max_iter = 10000\n",
        "  iter_num = 0\n",
        "  conv = 5\n",
        "  j = 0\n",
        "  tot_loss_lst.append(indiv)\n",
        "  overall_loss.append(loss)\n",
        "  #set temporary centroids for assignment\n",
        "  temp_centroids = {}\n",
        "  for i in centroids.keys():\n",
        "    temp_centroids[i] = centroids[i]\n",
        "  count = {}\n",
        "  #beginning of updating \n",
        "  start = time.time()\n",
        "  while iter_num < max_iter:\n",
        "    old_loss = loss\n",
        "    #set up for mini batch gradient descent\n",
        "    temp_centroids = mini_batch(df, b, count, temp_centroids, centroids, groups, cdf1, cdf2)\n",
        "    #testing to see if new centroid locations improve summation of individual loss\n",
        "    temp_df = assign_cluster(df, temp_centroids)\n",
        "    temp_groups = compute_groups(temp_df)\n",
        "    #cdf1, cdf2 = compute_cdf(temp_groups, i*.1)\n",
        "    temp_subgroup_loss = compare_loss(temp_groups[cdf1], temp_groups[cdf2], perc)\n",
        "    temp_loss, indiv = sum_loss(temp_df, temp_centroids, temp_subgroup_loss)\n",
        "    #print('INDIV: ', indiv)\n",
        "    iter_num += 1\n",
        "    if old_loss != temp_loss and j < conv:\n",
        "      #only change centroid locations if it improves subgroup loss\n",
        "      if old_loss > temp_loss:\n",
        "        subgroup_loss = temp_subgroup_loss\n",
        "        loss = temp_loss\n",
        "        df = temp_df\n",
        "        groups = temp_groups\n",
        "        #compute_cdf_graph(groups)\n",
        "        for i in prev_centr.keys():\n",
        "          prev_centr[i] = centroids[i]\n",
        "        for i in centroids.keys():\n",
        "          centroids[i] = temp_centroids[i]\n",
        "        j = 0\n",
        "      else:\n",
        "        j += 1\n",
        "      # loss = sum_loss(temp_df, centroids, subgroup_loss)\n",
        "      tot_loss_lst.append(indiv)\n",
        "      overall_loss.append(loss)\n",
        "      tot_subgroup.append(subgroup_loss)\n",
        "      key = 0\n",
        "      for group in groups:\n",
        "        subgr_losses[key].append(group['min_loss'].sum()/len(group))\n",
        "        key +=1\n",
        "    else:\n",
        "      end = time.time()\n",
        "      #print('Time elapsed End of Update Step: ', end - start)\n",
        "      #plot overall cost \n",
        "      plt.title('Cost per iteration: Individual Loss')\n",
        "      plt.plot(tot_loss_lst)\n",
        "      plt.show()\n",
        "      plt.title('Cost per iteration: Subgroup Loss')\n",
        "      plt.plot(tot_subgroup)\n",
        "      plt.show()\n",
        "      plt.title('Cost per iteration: Overall 2-Part Loss Function')\n",
        "      plt.plot(overall_loss)\n",
        "      plt.show()\n",
        "      compute_cdf_graph(groups)\n",
        "      count = 0\n",
        "      for k,v in subgr_losses.items():\n",
        "        plt.title(\"Cost per iteration for subgroup %i\" % count)\n",
        "        plt.plot(v)\n",
        "        plt.show()\n",
        "        count+=1\n",
        "      return centroids\n",
        "  #plot overall cost\n",
        "  #plt.title('Cost per iteration- Individual Loss')\n",
        "  #plt.plot(tot_loss_lst)\n",
        "  #plt.show()\n",
        "  #plt.title('Cost per iteration: Subgroup Loss')\n",
        "  #plt.plot(tot_subgroup)\n",
        "  #plt.show()\n",
        "  #compute_cdf_graph(groups)\n",
        "  #count = 0\n",
        "  #for k,v in subgr_losses.items():\n",
        "    #plt.title(\"Cost per iteration for subgroup %i\" % count)\n",
        "    #plt.plot(v)\n",
        "    #plt.show()\n",
        "    #count+=1\n",
        "  #print('Reached max iterations')\n",
        "  #return centroids  "
      ],
      "execution_count": 12,
      "outputs": []
    },
    {
      "cell_type": "code",
      "metadata": {
        "id": "gm1uSK1qNWF-"
      },
      "source": [
        "def compute_cdf(groups, percentile):\n",
        "  lst = []\n",
        "  perc = []\n",
        "  for group in groups:\n",
        "    sorted_data = group.sort_values(by=['min_loss'])\n",
        "    sorted_len = len(sorted_data['min_loss'])\n",
        "    yvals = np.arange(sorted_len)/float(sorted_len-1)\n",
        "    lst.append(sorted_data['min_loss'].sum())\n",
        "    subgroup = [sorted_data['min_loss']] # subset the two different groups of interest\n",
        "    perc.append(stats.scoreatpercentile(subgroup, percentile))\n",
        "  min_ind = perc.index(min(perc))\n",
        "  max_ind = perc.index(max(perc))\n",
        "  return (max_ind, min_ind)"
      ],
      "execution_count": 13,
      "outputs": []
    },
    {
      "cell_type": "code",
      "metadata": {
        "id": "96wNyENwo81a"
      },
      "source": [
        "def compute_cdf_graph(groups):\n",
        "  #this function creates the cdf graph of all subgroups\n",
        "  for group in groups:\n",
        "    sorted_data = group.sort_values(by=['min_loss'])\n",
        "    sorted_len = len(sorted_data['min_loss'])\n",
        "    yvals = np.arange(sorted_len)/float(sorted_len-1)\n",
        "    subgroup = [sorted_data['min_loss']] # subset the two different groups of interest\n",
        "    plt.plot(sorted_data['min_loss'], yvals)\n",
        "  plt.xlabel('loss per individual')\n",
        "  plt.ylabel('% of people within certain loss of centroid')\n",
        "  plt.title('Individual loss- CDF stratified by group')\n",
        "  plt.show()"
      ],
      "execution_count": 14,
      "outputs": []
    },
    {
      "cell_type": "code",
      "metadata": {
        "id": "TwUnrQ4UmApY"
      },
      "source": [
        "def compute_groups(df):\n",
        "  #divides the dataframe by subgroup membership\n",
        "  num_groups = df.group.nunique()\n",
        "  groups = []\n",
        "  for i in range(num_groups):\n",
        "    group = df[df['group']==i]\n",
        "    group = group.reset_index()\n",
        "    groups.append(group)\n",
        "  return groups"
      ],
      "execution_count": 15,
      "outputs": []
    },
    {
      "cell_type": "code",
      "metadata": {
        "id": "FsW4eBXvvi4k"
      },
      "source": [
        "def compute_clusters(df):\n",
        "  #divides dataframe by centroid membership\n",
        "  num_clusters = df.min_centr.nunique()\n",
        "  clusters = []\n",
        "  for i in range(num_clusters):\n",
        "    cluster = df[df['min_centr']==i]\n",
        "    cluster = cluster.reset_index()\n",
        "    clusters.append(cluster)\n",
        "  return clusters"
      ],
      "execution_count": 16,
      "outputs": []
    },
    {
      "cell_type": "code",
      "metadata": {
        "id": "l0PFBv30obU-",
        "colab": {
          "base_uri": "https://localhost:8080/",
          "height": 232
        },
        "outputId": "ad07c14f-b8cd-4e6e-e7b8-2c8799a251bd"
      },
      "source": [
        "from sklearn.datasets import make_blobs\n",
        "from sklearn.datasets import make_classification\n",
        "import random\n",
        "import sys\n",
        "from operator import itemgetter\n",
        "\n",
        "# Generate Imbalanced Synthetic Data\n",
        "#center_box = (0,20)\n",
        "# X,y = make_classification(n_samples=800000, n_classes=int(groupNum),shift=15 ,n_informative=4, n_redundant=0,n_repeated=0, n_clusters_per_class=2,class_sep=.8,flip_y=0,weights=[0.65,.15, .12, .08], random_state=55)\n",
        "#X, y = make_blobs(n_samples=[800000,200000], centers=None, cluster_std=.6,random_state=0)\n",
        "# X, y = make_blobs(n_samples=1000000, centers=int(groups), n_features=2,center_box=center_box,random_state=0)\n",
        "# create dataframe to hold x and y coordinates\n",
        "#df = pd.DataFrame({\n",
        "    #'x_coord': X[:,0],\n",
        "    #'y_coord': X[:,1]})\n",
        "#df['group'] = np.random.randint(0,5, df.shape[0])\n",
        "#df['group'] = y\n",
        " \n",
        "#arbitrarily picked random k (number of centroids)\n",
        "k = int(numCentroids)\n",
        "centroids = {}\n",
        "#randomly initialized centroid x and y coordinates (in real data we will actually have these coordinates)\n",
        "centroids[0] = ((random.choice(df['x_coord'])), (random.choice(df['y_coord'])))\n",
        "       \n",
        "#K-Means++ \n",
        "for c in range(k - 1): \n",
        "  ## initialize a list to store distances of data \n",
        "  ## points from nearest centroid \n",
        "  dist = [] \n",
        "  for i in range(df.shape[0]): \n",
        "    point = (df['x_coord'][i],df['y_coord'][i])  \n",
        "    d = sys.maxsize \n",
        "                                                                      \n",
        "    ## compute distance of 'point' from each of the previously \n",
        "    ## selected centroid and store the minimum distance \n",
        "    for j in range(len(centroids)): \n",
        "      temp_dist = calc_dist(point[0], point[1], centroids[j][0], centroids[j][1]) \n",
        "      d = min(d, temp_dist) \n",
        "    dist.append(d) \n",
        "              \n",
        "  ## select data point with maximum distance as our next centroid \n",
        "  dist = np.array(dist) \n",
        "  next_centroid = (df['x_coord'][np.argmax(dist)], df['y_coord'][np.argmax(dist)]) \n",
        "  centroids[c+1] = (next_centroid) \n",
        "  dist = [] \n",
        "\n",
        "#colors for centroids\n",
        "color_map = {}\n",
        "for i in range(k):\n",
        "  color_map[i] = 'g'\n",
        "\n",
        "#plot synthetic data\n",
        "fig = plt.figure(figsize=(5,5))\n",
        "ax = sns.scatterplot(df['x_coord'],df['y_coord'],hue=y)\n",
        "for i in centroids.keys():\n",
        "  plt.scatter(centroids[i][0], centroids[i][1], color=color_map[i])\n",
        "df = assign_cluster(df, centroids)\n",
        "plt.xlim(-15, 15)\n",
        "plt.ylim(-15, 15)\n",
        "ax.set_title(\"Synthetic Data\")\n",
        "plt.show()\n",
        "\n",
        "centroids"
      ],
      "execution_count": 17,
      "outputs": [
        {
          "output_type": "error",
          "ename": "NameError",
          "evalue": "ignored",
          "traceback": [
            "\u001b[0;31m---------------------------------------------------------------------------\u001b[0m",
            "\u001b[0;31mNameError\u001b[0m                                 Traceback (most recent call last)",
            "\u001b[0;32m<ipython-input-17-08f2e20fbb08>\u001b[0m in \u001b[0;36m<module>\u001b[0;34m()\u001b[0m\n\u001b[1;32m     21\u001b[0m \u001b[0mcentroids\u001b[0m \u001b[0;34m=\u001b[0m \u001b[0;34m{\u001b[0m\u001b[0;34m}\u001b[0m\u001b[0;34m\u001b[0m\u001b[0;34m\u001b[0m\u001b[0m\n\u001b[1;32m     22\u001b[0m \u001b[0;31m#randomly initialized centroid x and y coordinates (in real data we will actually have these coordinates)\u001b[0m\u001b[0;34m\u001b[0m\u001b[0;34m\u001b[0m\u001b[0;34m\u001b[0m\u001b[0m\n\u001b[0;32m---> 23\u001b[0;31m \u001b[0mcentroids\u001b[0m\u001b[0;34m[\u001b[0m\u001b[0;36m0\u001b[0m\u001b[0;34m]\u001b[0m \u001b[0;34m=\u001b[0m \u001b[0;34m(\u001b[0m\u001b[0;34m(\u001b[0m\u001b[0mrandom\u001b[0m\u001b[0;34m.\u001b[0m\u001b[0mchoice\u001b[0m\u001b[0;34m(\u001b[0m\u001b[0mdf\u001b[0m\u001b[0;34m[\u001b[0m\u001b[0;34m'x_coord'\u001b[0m\u001b[0;34m]\u001b[0m\u001b[0;34m)\u001b[0m\u001b[0;34m)\u001b[0m\u001b[0;34m,\u001b[0m \u001b[0;34m(\u001b[0m\u001b[0mrandom\u001b[0m\u001b[0;34m.\u001b[0m\u001b[0mchoice\u001b[0m\u001b[0;34m(\u001b[0m\u001b[0mdf\u001b[0m\u001b[0;34m[\u001b[0m\u001b[0;34m'y_coord'\u001b[0m\u001b[0;34m]\u001b[0m\u001b[0;34m)\u001b[0m\u001b[0;34m)\u001b[0m\u001b[0;34m)\u001b[0m\u001b[0;34m\u001b[0m\u001b[0;34m\u001b[0m\u001b[0m\n\u001b[0m\u001b[1;32m     24\u001b[0m \u001b[0;34m\u001b[0m\u001b[0m\n\u001b[1;32m     25\u001b[0m \u001b[0;31m#K-Means++\u001b[0m\u001b[0;34m\u001b[0m\u001b[0;34m\u001b[0m\u001b[0;34m\u001b[0m\u001b[0m\n",
            "\u001b[0;31mNameError\u001b[0m: name 'df' is not defined"
          ]
        }
      ]
    },
    {
      "cell_type": "code",
      "metadata": {
        "colab": {
          "base_uri": "https://localhost:8080/"
        },
        "id": "DDBuy7YUQ-5t",
        "outputId": "b5473dae-b778-4970-ee5b-b7061cb07ec3"
      },
      "source": [
        "from google.colab import drive\n",
        "drive.mount('/drive')"
      ],
      "execution_count": 18,
      "outputs": [
        {
          "output_type": "stream",
          "text": [
            "Mounted at /drive\n"
          ],
          "name": "stdout"
        }
      ]
    },
    {
      "cell_type": "code",
      "metadata": {
        "id": "8Oo8klyCnPcb"
      },
      "source": [
        "df = pd.read_csv('/drive/My Drive/synth_data_1.csv')\n"
      ],
      "execution_count": 19,
      "outputs": []
    },
    {
      "cell_type": "code",
      "metadata": {
        "id": "V1Yukk3mPe8T"
      },
      "source": [
        "df.to_csv('/drive/My Drive/synth_data_1.csv')"
      ],
      "execution_count": 24,
      "outputs": []
    },
    {
      "cell_type": "code",
      "metadata": {
        "id": "DhuQNm9f89UY"
      },
      "source": [
        "prev = []\n",
        "\n",
        "for i in range(len(centroids)):\n",
        "  prev.append(list(centroids[i]))"
      ],
      "execution_count": 80,
      "outputs": []
    },
    {
      "cell_type": "code",
      "metadata": {
        "id": "XzYE3e2VOQVy"
      },
      "source": [
        "prev = [[1.2181984822102403, 4.2879600604770784],\n",
        " [1.0579348893338447, -1.9414017712526928],\n",
        " [4.6442588833988685, 1.1787857431871689],\n",
        " [-0.7891877589763294, 1.2115358623592756],\n",
        " [-1.935000513361575, 5.4694621587955305],\n",
        " [1.4748748461670318, 7.181666624691387],\n",
        " [1.9248293689522575, 0.6819427023002689],\n",
        " [3.722250295972846, 5.1977359430072445],\n",
        " [3.0328161545817, 2.857852339437036],\n",
        " [3.620513287657205, -0.8374623359772058],\n",
        " [-0.9432016269078524, 3.4459523309143067],\n",
        " [0.8391931899037064, 2.338753891349359],\n",
        " [-0.0063536937416454045, 5.884549007951434],\n",
        " [0.32812532801167604, -0.2365816393574633],\n",
        " [2.134900507426457, 5.6534721773096335],\n",
        " [2.086480353101837, -0.8190547204636129],\n",
        " [3.1974559257619624, 1.4031665501710828],\n",
        " [2.6494612168551663, 4.249486815025345],\n",
        " [-0.12327865411017958, 4.5308405853084],\n",
        " [0.5335586658923972, 1.061861099594841],\n",
        " [2.07827201036045, 2.0139310196011837],\n",
        " [1.8504054570190904, 3.2272403276692385],\n",
        " [-0.3619813579953157, 2.365943042612031],\n",
        " [0.2667755257499439, 3.3940935817266435],\n",
        " [3.02793761655183, 0.2051681119161357],\n",
        " [2.9027934255102474, 6.5735765414505005],\n",
        " [-1.8197017018928792, 4.2450739897544505],\n",
        " [4.04627421522434, 2.190326760147335],\n",
        " [1.0282807993734828, 5.404876016926719],\n",
        " [-0.16399740654705194, 6.966439271200937],\n",
        " [4.19735927538173, 0.07159313053462435],\n",
        " [-0.8909270430313359, 5.291980283541674],\n",
        " [1.3335634167534378, -0.13891545282309115],\n",
        " [0.8359320165145172, 6.4176317571444415],\n",
        " [2.8558245877262403, -1.4031755064907232],\n",
        " [0.953377824615618, -1.0035377612402494],\n",
        " [3.4039467654617543, 3.7159922473666565],\n",
        " [1.379615815982535, 1.420476148541583],\n",
        " [-0.22432730301685533, 0.4881294941431527],\n",
        " [-1.2298618275005362, 6.121104881825295],\n",
        " [1.9480520456312749, 4.787130475885292],\n",
        " [2.849046985721558, 5.1091554143263735],\n",
        " [-0.9600394140853304, 4.317209492096063],\n",
        " [3.837041921035764, 0.8449251086506688],\n",
        " [2.0220586918087355, 6.492503152174642],\n",
        " [2.0282047162683288, -1.634285632935876],\n",
        " [1.0398663077682946, 3.1303528782574563],\n",
        " [-0.05586714346289812, 1.6079832171389834],\n",
        " [2.270450624882894, -0.043293906262144584],\n",
        " [2.8492261698910832, -0.5978002572796413]]"
      ],
      "execution_count": 20,
      "outputs": []
    },
    {
      "cell_type": "code",
      "metadata": {
        "id": "hlaHI-jdOQZ6"
      },
      "source": [
        "for i in range(len(prev)):\n",
        "  centroids[i] = (prev[i][0], prev[i][1])"
      ],
      "execution_count": 38,
      "outputs": []
    },
    {
      "cell_type": "code",
      "metadata": {
        "colab": {
          "base_uri": "https://localhost:8080/"
        },
        "id": "H2KxP_4vOQeT",
        "outputId": "52396ba4-15cb-4ed9-aaef-76370131a380"
      },
      "source": [
        "centroids"
      ],
      "execution_count": 40,
      "outputs": [
        {
          "output_type": "execute_result",
          "data": {
            "text/plain": [
              "{0: (1.2181984822102403, 4.2879600604770784),\n",
              " 1: (1.0579348893338447, -1.9414017712526928),\n",
              " 2: (4.6442588833988685, 1.1787857431871689),\n",
              " 3: (-0.7891877589763294, 1.2115358623592756),\n",
              " 4: (-1.935000513361575, 5.4694621587955305),\n",
              " 5: (1.4748748461670318, 7.181666624691387),\n",
              " 6: (1.9248293689522575, 0.6819427023002689),\n",
              " 7: (3.722250295972846, 5.1977359430072445),\n",
              " 8: (3.0328161545817, 2.857852339437036),\n",
              " 9: (3.620513287657205, -0.8374623359772058),\n",
              " 10: (-0.9432016269078524, 3.4459523309143067),\n",
              " 11: (0.8391931899037064, 2.338753891349359),\n",
              " 12: (-0.0063536937416454045, 5.884549007951434),\n",
              " 13: (0.32812532801167604, -0.2365816393574633),\n",
              " 14: (2.134900507426457, 5.6534721773096335),\n",
              " 15: (2.086480353101837, -0.8190547204636129),\n",
              " 16: (3.1974559257619624, 1.4031665501710828),\n",
              " 17: (2.6494612168551663, 4.249486815025345),\n",
              " 18: (-0.12327865411017958, 4.5308405853084),\n",
              " 19: (0.5335586658923972, 1.061861099594841),\n",
              " 20: (2.07827201036045, 2.0139310196011837),\n",
              " 21: (1.8504054570190904, 3.2272403276692385),\n",
              " 22: (-0.3619813579953157, 2.365943042612031),\n",
              " 23: (0.2667755257499439, 3.3940935817266435),\n",
              " 24: (3.02793761655183, 0.2051681119161357),\n",
              " 25: (2.9027934255102474, 6.5735765414505005),\n",
              " 26: (-1.8197017018928792, 4.2450739897544505),\n",
              " 27: (4.04627421522434, 2.190326760147335),\n",
              " 28: (1.0282807993734828, 5.404876016926719),\n",
              " 29: (-0.16399740654705194, 6.966439271200937),\n",
              " 30: (4.19735927538173, 0.07159313053462435),\n",
              " 31: (-0.8909270430313359, 5.291980283541674),\n",
              " 32: (1.3335634167534378, -0.13891545282309115),\n",
              " 33: (0.8359320165145172, 6.4176317571444415),\n",
              " 34: (2.8558245877262403, -1.4031755064907232),\n",
              " 35: (0.953377824615618, -1.0035377612402494),\n",
              " 36: (3.4039467654617543, 3.7159922473666565),\n",
              " 37: (1.379615815982535, 1.420476148541583),\n",
              " 38: (-0.22432730301685533, 0.4881294941431527),\n",
              " 39: (-1.2298618275005362, 6.121104881825295),\n",
              " 40: (1.9480520456312749, 4.787130475885292),\n",
              " 41: (2.849046985721558, 5.1091554143263735),\n",
              " 42: (-0.9600394140853304, 4.317209492096063),\n",
              " 43: (3.837041921035764, 0.8449251086506688),\n",
              " 44: (2.0220586918087355, 6.492503152174642),\n",
              " 45: (2.0282047162683288, -1.634285632935876),\n",
              " 46: (1.0398663077682946, 3.1303528782574563),\n",
              " 47: (-0.05586714346289812, 1.6079832171389834),\n",
              " 48: (2.270450624882894, -0.043293906262144584),\n",
              " 49: (2.8492261698910832, -0.5978002572796413)}"
            ]
          },
          "metadata": {
            "tags": []
          },
          "execution_count": 40
        }
      ]
    },
    {
      "cell_type": "code",
      "metadata": {
        "colab": {
          "base_uri": "https://localhost:8080/",
          "height": 1000
        },
        "id": "FMlCpZcrrI10",
        "outputId": "dd078272-d8c2-4b74-814a-1ae0d6e5053f"
      },
      "source": [
        "df = assign_cluster(df, centroids)\n",
        "groups = compute_groups(df)\n",
        "compute_cdf_graph(groups)\n",
        "clusters = compute_clusters(df)\n",
        "#cdf1, cdf2 = compute_cdf(groups)\n",
        "#subgroup loss between max and min loss\n",
        "percentile_losses = []\n",
        "for i in range(1,10): \n",
        "  cdf1, cdf2 = compute_cdf(groups, i*10)\n",
        "  temp_subgroup_loss = compare_loss(groups[cdf1], groups[cdf2], i*10)\n",
        "  percentile_losses.append(temp_subgroup_loss)\n",
        "subgroup_loss = max(percentile_losses)\n",
        "max_ind = ((percentile_losses.index(subgroup_loss))+1)*10\n",
        "\n",
        "loss, indiv = sum_loss(df, centroids, subgroup_loss)\n",
        "centroids = update(centroids,df, subgroup_loss, loss, indiv, groups, cdf1, cdf2, max_ind)\n",
        "centroids"
      ],
      "execution_count": 42,
      "outputs": [
        {
          "output_type": "display_data",
          "data": {
            "image/png": "[encoded data removed]",
            "text/plain": [
              "<Figure size 432x288 with 1 Axes>"
            ]
          },
          "metadata": {
            "tags": [],
            "needs_background": "light"
          }
        },
        {
          "output_type": "display_data",
          "data": {
            "image/png": "[encoded data removed]",
            "text/plain": [
              "<Figure size 432x288 with 1 Axes>"
            ]
          },
          "metadata": {
            "tags": [],
            "needs_background": "light"
          }
        },
        {
          "output_type": "display_data",
          "data": {
            "image/png": "[encoded data removed]",
            "text/plain": [
              "<Figure size 432x288 with 1 Axes>"
            ]
          },
          "metadata": {
            "tags": [],
            "needs_background": "light"
          }
        },
        {
          "output_type": "display_data",
          "data": {
            "image/png": "[encoded data removed]",
            "text/plain": [
              "<Figure size 432x288 with 1 Axes>"
            ]
          },
          "metadata": {
            "tags": [],
            "needs_background": "light"
          }
        },
        {
          "output_type": "display_data",
          "data": {
            "image/png": "[encoded data removed]",
            "text/plain": [
              "<Figure size 432x288 with 1 Axes>"
            ]
          },
          "metadata": {
            "tags": [],
            "needs_background": "light"
          }
        },
        {
          "output_type": "display_data",
          "data": {
            "image/png": "[encoded data removed]",
            "text/plain": [
              "<Figure size 432x288 with 1 Axes>"
            ]
          },
          "metadata": {
            "tags": [],
            "needs_background": "light"
          }
        },
        {
          "output_type": "display_data",
          "data": {
            "image/png": "[encoded data removed]",
            "text/plain": [
              "<Figure size 432x288 with 1 Axes>"
            ]
          },
          "metadata": {
            "tags": [],
            "needs_background": "light"
          }
        },
        {
          "output_type": "execute_result",
          "data": {
            "text/plain": [
              "{0: (1.1479678378284612, 4.295765663685573),\n",
              " 1: (1.0579348893338447, -1.9414017712526928),\n",
              " 2: (4.6442588833988685, 1.1787857431871689),\n",
              " 3: (-0.7891877589763294, 1.2115358623592756),\n",
              " 4: (-1.935000513361575, 5.4694621587955305),\n",
              " 5: (1.4748748461670318, 7.181666624691387),\n",
              " 6: (2.0940390383633827, 0.8027120867284502),\n",
              " 7: (3.722250295972846, 5.1977359430072445),\n",
              " 8: (3.0328161545817, 2.857852339437036),\n",
              " 9: (3.711313618420075, -0.6038216692178121),\n",
              " 10: (-0.9432016269078524, 3.4459523309143067),\n",
              " 11: (1.038467726708124, 1.8958122056800435),\n",
              " 12: (0.19213401339647723, 5.5009930140096905),\n",
              " 13: (0.6395085171668327, 0.10471894996426571),\n",
              " 14: (2.134900507426457, 5.6534721773096335),\n",
              " 15: (1.9288411536398724, -0.7388969773635489),\n",
              " 16: (2.8105293669760734, 1.342161674770505),\n",
              " 17: (2.0603532221979535, 4.055565782789168),\n",
              " 18: (0.04756492982599413, 4.517923542178786),\n",
              " 19: (0.8838789296018935, 1.1290443480200472),\n",
              " 20: (2.110958207158086, 1.7139007235309065),\n",
              " 21: (1.7492038010863145, 3.337140773443546),\n",
              " 22: (-0.3619813579953157, 2.365943042612031),\n",
              " 23: (0.4698757697027199, 3.725373782384452),\n",
              " 24: (2.8369154892359187, 0.48074163113418844),\n",
              " 25: (2.9027934255102474, 6.5735765414505005),\n",
              " 26: (-1.8197017018928792, 4.2450739897544505),\n",
              " 27: (4.04627421522434, 2.190326760147335),\n",
              " 28: (0.9297931020335142, 5.016723304385184),\n",
              " 29: (-0.16399740654705194, 6.966439271200937),\n",
              " 30: (4.19735927538173, 0.07159313053462435),\n",
              " 31: (-0.8909270430313359, 5.291980283541674),\n",
              " 32: (1.4542546464669206, 0.2974185261684309),\n",
              " 33: (0.8359320165145172, 6.4176317571444415),\n",
              " 34: (2.8558245877262403, -1.4031755064907232),\n",
              " 35: (1.2011267407575879, -0.5964768290839862),\n",
              " 36: (3.4039467654617543, 3.7159922473666565),\n",
              " 37: (1.6551038528173267, 1.2124835410044525),\n",
              " 38: (-0.22432730301685533, 0.4881294941431527),\n",
              " 39: (-1.2298618275005362, 6.121104881825295),\n",
              " 40: (1.6574678795602678, 4.678116222368003),\n",
              " 41: (2.849046985721558, 5.1091554143263735),\n",
              " 42: (-0.9600394140853304, 4.317209492096063),\n",
              " 43: (3.7337286966787637, 0.41061953435161425),\n",
              " 44: (2.0220586918087355, 6.492503152174642),\n",
              " 45: (2.0282047162683288, -1.634285632935876),\n",
              " 46: (1.0937693875062293, 3.3293116302317234),\n",
              " 47: (-0.05586714346289812, 1.6079832171389834),\n",
              " 48: (2.222423960236704, 0.21808926986020766),\n",
              " 49: (2.694910412545508, -0.17156266018330338)}"
            ]
          },
          "metadata": {
            "tags": []
          },
          "execution_count": 42
        }
      ]
    },
    {
      "cell_type": "code",
      "metadata": {
        "colab": {
          "base_uri": "https://localhost:8080/"
        },
        "id": "KlTaTmqvuO8U",
        "outputId": "a663615f-d7b4-4d9c-c0a6-cef529354340"
      },
      "source": [
        "max_ind"
      ],
      "execution_count": 45,
      "outputs": [
        {
          "output_type": "execute_result",
          "data": {
            "text/plain": [
              "60"
            ]
          },
          "metadata": {
            "tags": []
          },
          "execution_count": 45
        }
      ]
    },
    {
      "cell_type": "code",
      "metadata": {
        "id": "MZJS1sHsl5ej",
        "colab": {
          "base_uri": "https://localhost:8080/",
          "height": 624
        },
        "outputId": "952848cb-7792-498a-d8ee-cd28ee054971"
      },
      "source": [
        "from sklearn.cluster import MiniBatchKMeans\n",
        "from sklearn.cluster import KMeans\n",
        "def KMeans_orig(df, data, centr, prev_cen):\n",
        "  df = assign_cluster(df, prev_cen)\n",
        "  groups = compute_groups(df)\n",
        "  clusters = compute_clusters(df)\n",
        "  cdf1, cdf2 = compute_cdf(groups, max_ind)\n",
        "  subgroup_loss = compare_loss(groups[cdf1], groups[cdf2], max_ind)\n",
        "  print(subgroup_loss)\n",
        "\n",
        "  loss, indiv = sum_loss(df, prev_cen, subgroup_loss)\n",
        "  print(loss)\n",
        "  print(indiv)\n",
        "  compute_cdf_graph(groups)\n",
        "  #kmeans = KMeans(init=centr, n_clusters=10, random_state=0, max_iter=250).fit(data)\n",
        "  kmeans = MiniBatchKMeans(n_clusters=50,\n",
        "                        random_state=0,\n",
        "                          batch_size=256,\n",
        "                          max_iter=160,\n",
        "                           max_no_improvement=5).fit(data)\n",
        "  centr =  kmeans.cluster_centers_\n",
        "  centroids = {}\n",
        "  for i in range(len(centr)):\n",
        "    centroids[i] = centr[i]\n",
        "  df = assign_cluster(df, centroids)\n",
        "  groups = compute_groups(df)\n",
        "  cdf1, cdf2 = compute_cdf(groups, max_ind)\n",
        "  subgroup_loss = compare_loss(groups[cdf1], groups[cdf2], max_ind)\n",
        "  loss,indiv = sum_loss(df, centroids, subgroup_loss)\n",
        "  compute_cdf_graph(groups)\n",
        "  return (subgroup_loss, loss, kmeans)\n",
        "subgroup, tot, kmeans = KMeans_orig(df, X, np.array(prev), prev_cen)\n",
        "\n",
        "\n",
        "\n"
      ],
      "execution_count": 50,
      "outputs": [
        {
          "output_type": "stream",
          "text": [
            "0.014710858844812852\n",
            "0.07162392001587525\n",
            "0.2044210627483542\n"
          ],
          "name": "stdout"
        },
        {
          "output_type": "display_data",
          "data": {
            "image/png": "[encoded data removed]",
            "text/plain": [
              "<Figure size 432x288 with 1 Axes>"
            ]
          },
          "metadata": {
            "tags": [],
            "needs_background": "light"
          }
        },
        {
          "output_type": "display_data",
          "data": {
            "image/png": "[encoded data removed]",
            "text/plain": [
              "<Figure size 432x288 with 1 Axes>"
            ]
          },
          "metadata": {
            "tags": [],
            "needs_background": "light"
          }
        }
      ]
    },
    {
      "cell_type": "code",
      "metadata": {
        "colab": {
          "base_uri": "https://localhost:8080/"
        },
        "id": "B73oISo6nmXw",
        "outputId": "1be40264-b2d4-4933-942e-51abe475809e"
      },
      "source": [
        "print(subgroup)\n",
        "print(loss)"
      ],
      "execution_count": 51,
      "outputs": [
        {
          "output_type": "stream",
          "text": [
            "0.04208887344531591\n",
            "0.07162392001587525\n"
          ],
          "name": "stdout"
        }
      ]
    },
    {
      "cell_type": "code",
      "metadata": {
        "id": "qHsW5urooi4q"
      },
      "source": [
        "prev_cen = {}\n",
        "for i in range(len(prev)):\n",
        "  prev_cen[i] = (prev[i][0], prev[i][1])"
      ],
      "execution_count": 47,
      "outputs": []
    },
    {
      "cell_type": "code",
      "metadata": {
        "colab": {
          "base_uri": "https://localhost:8080/"
        },
        "id": "sXNckQEyaxZc",
        "outputId": "d8f048d1-9c18-454d-d633-ce850a3d83da"
      },
      "source": [
        "prev_cen"
      ],
      "execution_count": 32,
      "outputs": [
        {
          "output_type": "execute_result",
          "data": {
            "text/plain": [
              "{0: (1.2181984822102403, 4.2879600604770784),\n",
              " 1: (1.0579348893338447, -1.9414017712526928),\n",
              " 2: (4.6442588833988685, 1.1787857431871689),\n",
              " 3: (-0.7891877589763294, 1.2115358623592756),\n",
              " 4: (-1.935000513361575, 5.4694621587955305),\n",
              " 5: (1.4748748461670318, 7.181666624691387),\n",
              " 6: (1.9248293689522575, 0.6819427023002689),\n",
              " 7: (3.722250295972846, 5.1977359430072445),\n",
              " 8: (3.0328161545817, 2.857852339437036),\n",
              " 9: (3.620513287657205, -0.8374623359772058),\n",
              " 10: (-0.9432016269078524, 3.4459523309143067),\n",
              " 11: (0.8391931899037064, 2.338753891349359),\n",
              " 12: (-0.0063536937416454045, 5.884549007951434),\n",
              " 13: (0.32812532801167604, -0.2365816393574633),\n",
              " 14: (2.134900507426457, 5.6534721773096335),\n",
              " 15: (2.086480353101837, -0.8190547204636129),\n",
              " 16: (3.1974559257619624, 1.4031665501710828),\n",
              " 17: (2.6494612168551663, 4.249486815025345),\n",
              " 18: (-0.12327865411017958, 4.5308405853084),\n",
              " 19: (0.5335586658923972, 1.061861099594841),\n",
              " 20: (2.07827201036045, 2.0139310196011837),\n",
              " 21: (1.8504054570190904, 3.2272403276692385),\n",
              " 22: (-0.3619813579953157, 2.365943042612031),\n",
              " 23: (0.2667755257499439, 3.3940935817266435),\n",
              " 24: (3.02793761655183, 0.2051681119161357),\n",
              " 25: (2.9027934255102474, 6.5735765414505005),\n",
              " 26: (-1.8197017018928792, 4.2450739897544505),\n",
              " 27: (4.04627421522434, 2.190326760147335),\n",
              " 28: (1.0282807993734828, 5.404876016926719),\n",
              " 29: (-0.16399740654705194, 6.966439271200937),\n",
              " 30: (4.19735927538173, 0.07159313053462435),\n",
              " 31: (-0.8909270430313359, 5.291980283541674),\n",
              " 32: (1.3335634167534378, -0.13891545282309115),\n",
              " 33: (0.8359320165145172, 6.4176317571444415),\n",
              " 34: (2.8558245877262403, -1.4031755064907232),\n",
              " 35: (0.953377824615618, -1.0035377612402494),\n",
              " 36: (3.4039467654617543, 3.7159922473666565),\n",
              " 37: (1.379615815982535, 1.420476148541583),\n",
              " 38: (-0.22432730301685533, 0.4881294941431527),\n",
              " 39: (-1.2298618275005362, 6.121104881825295),\n",
              " 40: (1.9480520456312749, 4.787130475885292),\n",
              " 41: (2.849046985721558, 5.1091554143263735),\n",
              " 42: (-0.9600394140853304, 4.317209492096063),\n",
              " 43: (3.837041921035764, 0.8449251086506688),\n",
              " 44: (2.0220586918087355, 6.492503152174642),\n",
              " 45: (2.0282047162683288, -1.634285632935876),\n",
              " 46: (1.0398663077682946, 3.1303528782574563),\n",
              " 47: (-0.05586714346289812, 1.6079832171389834),\n",
              " 48: (2.270450624882894, -0.043293906262144584),\n",
              " 49: (2.8492261698910832, -0.5978002572796413)}"
            ]
          },
          "metadata": {
            "tags": []
          },
          "execution_count": 32
        }
      ]
    },
    {
      "cell_type": "code",
      "metadata": {
        "id": "LKrselDecB9Y"
      },
      "source": [
        "X = []\n",
        "for i in range(len(df)):\n",
        "  X.append([df['x_coord'][i], df['y_coord'][i]])"
      ],
      "execution_count": 48,
      "outputs": []
    },
    {
      "cell_type": "code",
      "metadata": {
        "colab": {
          "base_uri": "https://localhost:8080/"
        },
        "id": "1yLP2WEp5J3P",
        "outputId": "091857ed-957e-4495-dc2b-5d4b39936d29"
      },
      "source": [
        "X = np.array(X)\n",
        "X"
      ],
      "execution_count": 49,
      "outputs": [
        {
          "output_type": "execute_result",
          "data": {
            "text/plain": [
              "array([[1.3908334 , 3.8267917 ],\n",
              "       [1.06126771, 4.06341965],\n",
              "       [2.25395627, 0.29343099],\n",
              "       ...,\n",
              "       [1.58217867, 4.22342979],\n",
              "       [0.5260326 , 3.37498678],\n",
              "       [2.39856728, 1.24294393]])"
            ]
          },
          "metadata": {
            "tags": []
          },
          "execution_count": 49
        }
      ]
    },
    {
      "cell_type": "code",
      "metadata": {
        "id": "-CtO0PGG5MQh"
      },
      "source": [
        ""
      ],
      "execution_count": null,
      "outputs": []
    }
  ]
}