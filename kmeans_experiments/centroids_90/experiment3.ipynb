{
  "nbformat": 4,
  "nbformat_minor": 0,
  "metadata": {
    "colab": {
      "name": "experiment3.ipynb",
      "provenance": [],
      "collapsed_sections": []
    },
    "kernelspec": {
      "name": "python3",
      "display_name": "Python 3"
    }
  },
  "cells": [
    {
      "cell_type": "markdown",
      "metadata": {
        "id": "deDIyeeUtGPE"
      },
      "source": [
        "Experiment 1: \n",
        "\n",
        "\n",
        "*   subgroup ratio: 0.8 vs 0.2\n",
        "*   Centroids = 90\n",
        "*   Objective function weights: 0.5 vs 0.5\n",
        "\n",
        "\n",
        "\n",
        "\n",
        "\n"
      ]
    },
    {
      "cell_type": "code",
      "metadata": {
        "id": "TRdL0t17k_h3"
      },
      "source": [
        "from sklearn.datasets import make_classification\n",
        "from matplotlib import pyplot as plt\n",
        "import seaborn as sns\n",
        "import numpy as np\n",
        "import pandas as pd\n",
        "from scipy import stats\n",
        "import matplotlib.pyplot as plt\n",
        "import random\n",
        "import time"
      ],
      "execution_count": 1,
      "outputs": []
    },
    {
      "cell_type": "code",
      "metadata": {
        "id": "RCM1sRuTm-LK",
        "colab": {
          "base_uri": "https://localhost:8080/"
        },
        "outputId": "7b32cb77-a7bd-42b7-e870-06140a37df04"
      },
      "source": [
        "#User input for algorithm:\n",
        "#for synthetic data/potentially for regular datasets user can set the total subgroups/centroids\n",
        "numCentroids = input(\"Enter number of centroids: \")\n",
        "groupNum = input(\"Enter number of groups: \")"
      ],
      "execution_count": 2,
      "outputs": [
        {
          "output_type": "stream",
          "text": [
            "Enter number of centroids: 90\n",
            "Enter number of groups: 2\n"
          ],
          "name": "stdout"
        }
      ]
    },
    {
      "cell_type": "code",
      "metadata": {
        "id": "VnNJ6GLTIqIF"
      },
      "source": [
        "#calculates euclidean distance between points\n",
        "def calc_dist(x,y,x_ref,y_ref):\n",
        "  return np.sqrt((((x-x_ref))**2)+((y-y_ref))**2) "
      ],
      "execution_count": 3,
      "outputs": []
    },
    {
      "cell_type": "code",
      "metadata": {
        "id": "4MvuZpJO9Kg-"
      },
      "source": [
        "#calculuates loss by putting euclidean distance of point->centroid into sigmoid function\n",
        "def calc_loss(x,y,x_ref,y_ref):\n",
        "    # calculate euclidean distance btw person & centroid\n",
        "    distance = calc_dist(x,y,x_ref,y_ref)\n",
        "    # refer to the above distance function to determine individual loss\n",
        "    #loss = 1/(1+ np.exp(-1*(distance))) #converts distances to probability distribution\n",
        "    #return loss\n",
        "    return (np.exp(distance)-1)/(np.exp(distance)+1)"
      ],
      "execution_count": 4,
      "outputs": []
    },
    {
      "cell_type": "code",
      "metadata": {
        "id": "AV8DU-EkimxQ"
      },
      "source": [
        "#this function calculates the summation of all the individual losses within each cluster for minimizing the objective function\n",
        "def sum_loss(df, centroids, subgroup_loss):\n",
        "  #total datapoints\n",
        "  tot_len = 0\n",
        "  #sum of all individual losses between clusters\n",
        "  loss_sum = 0\n",
        "  clusters = []\n",
        "  for i in centroids.keys():\n",
        "    temp = df[df['min_centr']==i]\n",
        "    temp = temp.reset_index()\n",
        "    clusters.append(temp)\n",
        "    #tot_len += len(temp)\n",
        "    #print((temp['min_loss'].sum())/len(temp))\n",
        "    loss_sum += (temp['min_loss'].sum())\n",
        "  #weighting scheme for 2-part cost function (sum of individual losses and subgroup loss)\n",
        "  #tot_loss = .6*(loss_sum/tot_len)\n",
        "  tot_loss = .5*(loss_sum/len(df))\n",
        "  #print('indiv loss: ', tot_loss)\n",
        "  tot_loss += ((.5)*subgroup_loss)\n",
        "  #print('subgroup loss: ', subgroup_loss)\n",
        "  #print('total loss: ', tot_loss)\n",
        "  return tot_loss, (loss_sum/len(df))"
      ],
      "execution_count": 5,
      "outputs": []
    },
    {
      "cell_type": "code",
      "metadata": {
        "id": "_8N7YL7Kxs79"
      },
      "source": [
        "def assign_cluster(df, centroids):\n",
        "  start = time.time()\n",
        "  for i in centroids.keys():\n",
        "    #loss based on euclidean distance for each individual point compared to both centroids\n",
        "    #stored in dataframe\n",
        "    df['loss_from_{}'.format(i)] = calc_loss(df['x_coord'], df['y_coord'], centroids[i][0], centroids[i][1])\n",
        "    df['dist_from_{}'.format(i)] = calc_dist(df['x_coord'], df['y_coord'], centroids[i][0], centroids[i][1])\n",
        "  centroid_dist_col = ['loss_from_{}'.format(i) for i in centroids.keys()]\n",
        "  #df column which holds the value of the closest centroid for each point\n",
        "  df['min_centr'] = df.loc[:, centroid_dist_col].idxmin(axis=1)\n",
        "  df['min_centr'] = df['min_centr'].map(lambda x: int(x.lstrip('loss_from_')))\n",
        "  #value of loss calculated from sigmoid in calc_loss function for individual loss\n",
        "  df['min_loss'] = df[['loss_from_{}'.format(i) for i in centroids.keys()]].min(axis=1)\n",
        "  end = time.time()\n",
        "  #print('Time elapsed Assignment Step: ', end - start)\n",
        "  # for i in range(len(centroids)):\n",
        "  #   del df['loss_from_{}'.format(i)]\n",
        "  #   lst = df['min_centr'].unique()\n",
        "  #   if i not in lst:\n",
        "  #     del df['dist_from_{}'.format(i)]\n",
        "  return df"
      ],
      "execution_count": 6,
      "outputs": []
    },
    {
      "cell_type": "code",
      "metadata": {
        "id": "pHz2LfEQQsZK"
      },
      "source": [
        "# this function compares the loss between two groups at a certain percentile level\n",
        "def compare_loss(group1,group2,percentile):\n",
        "    select_group = [group1, group2]\n",
        "    percentile_loss = []\n",
        "    for s in select_group:\n",
        "        s = s.sort_values(by=['min_loss'])\n",
        "        subgroup = [s['min_loss']] # subset the two different groups of interest\n",
        "        loss_p = stats.scoreatpercentile(subgroup, percentile) # find the level of loss at given percentile\n",
        "        percentile_loss.append(loss_p) # load list with loss    \n",
        "    difference = np.abs(percentile_loss[0]-percentile_loss[1]) # find difference between two @ percentile\n",
        "    #=loss = (np.exp(difference)-1)/(np.exp(difference)+1)\n",
        "    return difference"
      ],
      "execution_count": 7,
      "outputs": []
    },
    {
      "cell_type": "code",
      "metadata": {
        "id": "D6IkySh0EzcV"
      },
      "source": [
        "#calculates gradient for clusters\n",
        "def update_weights(clust, lr, centr, df):\n",
        "  #total number of points in cluster 0 (points nearest to centroid 0)\n",
        "  new_centr_x, new_centr_y = centr[0], centr[1]\n",
        "  #calculate partial derivatives of euclidean distance functions\n",
        "  x = clust['x_coord']\n",
        "  y = clust['y_coord']\n",
        "  center = clust['min_centr']\n",
        "  distance = clust['dist_from_{}'.format(int(center))]\n",
        "  grad_x = (np.exp(-1*distance) * (centr[0]-x)) / (1 + np.exp(-1*distance)*distance)\n",
        "  grad_y = (np.exp(-1*distance) * (centr[1]-y)) / (1 + np.exp(-1*distance)*distance)\n",
        "\n",
        "  return (grad_x, grad_y)"
      ],
      "execution_count": 8,
      "outputs": []
    },
    {
      "cell_type": "code",
      "metadata": {
        "id": "jhdH_V2uYNnV"
      },
      "source": [
        "def softmax(x):\n",
        "  return np.exp(x) / np.sum(np.exp(x), axis=0)"
      ],
      "execution_count": 9,
      "outputs": []
    },
    {
      "cell_type": "code",
      "metadata": {
        "id": "7Atzo5sakSfE"
      },
      "source": [
        "import random\n",
        "def mini_batch(df, b, count, temp_centroids, centroids, groups, cdf1,cdf2):\n",
        "  #weighted mini-batch sampling\n",
        "  samples = []\n",
        "  group_loss = []\n",
        "  for group in groups:\n",
        "    group_loss.append(group['min_loss'].sum()/len(group))\n",
        "  weights = softmax(group_loss)\n",
        "  #print('weights: ', weights)\n",
        "  for i, group in enumerate(groups):\n",
        "    samples.append(group.sample(n=int(b*weights[i]), random_state=1))\n",
        "  samp = pd.concat([samp for samp in samples], ignore_index=True, sort=False)\n",
        "  samp = samp.reset_index()\n",
        "  #initializations\n",
        "  sum_x = {}\n",
        "  for i in centroids.keys():\n",
        "    sum_x[i] = 0\n",
        "  sum_y = {}\n",
        "  for i in centroids.keys():\n",
        "    sum_y[i] = 0\n",
        "  for i in centroids.keys():\n",
        "    count[i] = 0\n",
        "  start = time.time()\n",
        "  #update centroid locations using gradient descent\n",
        "  for s in range(len(samp)):\n",
        "    clust = samp.iloc[s]['min_centr']\n",
        "    clust = int(clust)\n",
        "    count[clust]+=1\n",
        "    lr = 1/count[clust]\n",
        "    temp = update_weights(samp.iloc[s], lr, temp_centroids[clust], df)\n",
        "    sum_x[clust] += temp[0]\n",
        "    sum_y[clust] += temp[1]\n",
        "  for i in range(len(temp_centroids)):\n",
        "    if count[i]!= 0:\n",
        "      temp_centroids[i] = (temp_centroids[i][0]-lr*(sum_x[i]/count[i]), temp_centroids[i][1]-lr*(sum_y[i]/count[i]))\n",
        "  end = time.time()\n",
        "  #print('Time elapsed Batch Step: ', end - start)\n",
        "  return temp_centroids"
      ],
      "execution_count": 10,
      "outputs": []
    },
    {
      "cell_type": "code",
      "metadata": {
        "id": "kkvulHEXxtsV"
      },
      "source": [
        "#updates centroid locations based on gradient descent and loss constraint\n",
        "def update(centroids, df, subgroup_loss, loss,indiv, groups, cdf1, cdf2, perc):\n",
        "  #initializations\n",
        "  tot_loss_lst = []\n",
        "  tot_subgroup = []\n",
        "  overall_loss = []\n",
        "  prev_centr = {}\n",
        "  subgr_losses = {}\n",
        "  for i in range(len(groups)):\n",
        "    subgr_losses[i] = []\n",
        "  for i in centroids.keys():\n",
        "    prev_centr[i] = 0\n",
        "  b = 256\n",
        "  max_iter = 10000\n",
        "  iter_num = 0\n",
        "  conv = 5\n",
        "  j = 0\n",
        "  tot_loss_lst.append(indiv)\n",
        "  overall_loss.append(loss)\n",
        "  #set temporary centroids for assignment\n",
        "  temp_centroids = {}\n",
        "  for i in centroids.keys():\n",
        "    temp_centroids[i] = centroids[i]\n",
        "  count = {}\n",
        "  #beginning of updating \n",
        "  start = time.time()\n",
        "  while iter_num < max_iter:\n",
        "    old_loss = loss\n",
        "    #set up for mini batch gradient descent\n",
        "    temp_centroids = mini_batch(df, b, count, temp_centroids, centroids, groups, cdf1, cdf2)\n",
        "    #testing to see if new centroid locations improve summation of individual loss\n",
        "    temp_df = assign_cluster(df, temp_centroids)\n",
        "    temp_groups = compute_groups(temp_df)\n",
        "    #cdf1, cdf2 = compute_cdf(temp_groups, i*.1)\n",
        "    temp_subgroup_loss = compare_loss(temp_groups[cdf1], temp_groups[cdf2], perc)\n",
        "    temp_loss, indiv = sum_loss(temp_df, temp_centroids, temp_subgroup_loss)\n",
        "    #print('INDIV: ', indiv)\n",
        "    iter_num += 1\n",
        "    if old_loss != temp_loss and j < conv:\n",
        "      #only change centroid locations if it improves subgroup loss\n",
        "      if old_loss > temp_loss:\n",
        "        subgroup_loss = temp_subgroup_loss\n",
        "        loss = temp_loss\n",
        "        df = temp_df\n",
        "        groups = temp_groups\n",
        "        #compute_cdf_graph(groups)\n",
        "        for i in prev_centr.keys():\n",
        "          prev_centr[i] = centroids[i]\n",
        "        for i in centroids.keys():\n",
        "          centroids[i] = temp_centroids[i]\n",
        "        j = 0\n",
        "      else:\n",
        "        j += 1\n",
        "      # loss = sum_loss(temp_df, centroids, subgroup_loss)\n",
        "      tot_loss_lst.append(indiv)\n",
        "      overall_loss.append(loss)\n",
        "      tot_subgroup.append(subgroup_loss)\n",
        "      key = 0\n",
        "      for group in groups:\n",
        "        subgr_losses[key].append(group['min_loss'].sum()/len(group))\n",
        "        key +=1\n",
        "    else:\n",
        "      end = time.time()\n",
        "      #print('Time elapsed End of Update Step: ', end - start)\n",
        "      #plot overall cost \n",
        "      plt.title('Cost per iteration: Individual Loss')\n",
        "      plt.plot(tot_loss_lst)\n",
        "      plt.show()\n",
        "      plt.title('Cost per iteration: Subgroup Loss')\n",
        "      plt.plot(tot_subgroup)\n",
        "      plt.show()\n",
        "      plt.title('Cost per iteration: Overall 2-Part Loss Function')\n",
        "      plt.plot(overall_loss)\n",
        "      plt.show()\n",
        "      compute_cdf_graph(groups)\n",
        "      count = 0\n",
        "      for k,v in subgr_losses.items():\n",
        "        plt.title(\"Cost per iteration for subgroup %i\" % count)\n",
        "        plt.plot(v)\n",
        "        plt.show()\n",
        "        count+=1\n",
        "      return centroids\n",
        "  #plot overall cost\n",
        "  #plt.title('Cost per iteration- Individual Loss')\n",
        "  #plt.plot(tot_loss_lst)\n",
        "  #plt.show()\n",
        "  #plt.title('Cost per iteration: Subgroup Loss')\n",
        "  #plt.plot(tot_subgroup)\n",
        "  #plt.show()\n",
        "  #compute_cdf_graph(groups)\n",
        "  #count = 0\n",
        "  #for k,v in subgr_losses.items():\n",
        "    #plt.title(\"Cost per iteration for subgroup %i\" % count)\n",
        "    #plt.plot(v)\n",
        "    #plt.show()\n",
        "    #count+=1\n",
        "  #print('Reached max iterations')\n",
        "  #return centroids  "
      ],
      "execution_count": 11,
      "outputs": []
    },
    {
      "cell_type": "code",
      "metadata": {
        "id": "gm1uSK1qNWF-"
      },
      "source": [
        "def compute_cdf(groups, percentile):\n",
        "  lst = []\n",
        "  perc = []\n",
        "  for group in groups:\n",
        "    sorted_data = group.sort_values(by=['min_loss'])\n",
        "    sorted_len = len(sorted_data['min_loss'])\n",
        "    yvals = np.arange(sorted_len)/float(sorted_len-1)\n",
        "    lst.append(sorted_data['min_loss'].sum())\n",
        "    subgroup = [sorted_data['min_loss']] # subset the two different groups of interest\n",
        "    perc.append(stats.scoreatpercentile(subgroup, percentile))\n",
        "  min_ind = perc.index(min(perc))\n",
        "  max_ind = perc.index(max(perc))\n",
        "  return (max_ind, min_ind)"
      ],
      "execution_count": 12,
      "outputs": []
    },
    {
      "cell_type": "code",
      "metadata": {
        "id": "96wNyENwo81a"
      },
      "source": [
        "def compute_cdf_graph(groups):\n",
        "  #this function creates the cdf graph of all subgroups\n",
        "  for group in groups:\n",
        "    sorted_data = group.sort_values(by=['min_loss'])\n",
        "    sorted_len = len(sorted_data['min_loss'])\n",
        "    yvals = np.arange(sorted_len)/float(sorted_len-1)\n",
        "    subgroup = [sorted_data['min_loss']] # subset the two different groups of interest\n",
        "    plt.plot(sorted_data['min_loss'], yvals)\n",
        "  plt.xlabel('loss per individual')\n",
        "  plt.ylabel('% of people within certain loss of centroid')\n",
        "  plt.title('Individual loss- CDF stratified by group')\n",
        "  plt.show()"
      ],
      "execution_count": 13,
      "outputs": []
    },
    {
      "cell_type": "code",
      "metadata": {
        "id": "TwUnrQ4UmApY"
      },
      "source": [
        "def compute_groups(df):\n",
        "  #divides the dataframe by subgroup membership\n",
        "  num_groups = df.group.nunique()\n",
        "  groups = []\n",
        "  for i in range(num_groups):\n",
        "    group = df[df['group']==i]\n",
        "    group = group.reset_index()\n",
        "    groups.append(group)\n",
        "  return groups"
      ],
      "execution_count": 14,
      "outputs": []
    },
    {
      "cell_type": "code",
      "metadata": {
        "id": "FsW4eBXvvi4k"
      },
      "source": [
        "def compute_clusters(df):\n",
        "  #divides dataframe by centroid membership\n",
        "  num_clusters = df.min_centr.nunique()\n",
        "  clusters = []\n",
        "  for i in range(num_clusters):\n",
        "    cluster = df[df['min_centr']==i]\n",
        "    cluster = cluster.reset_index()\n",
        "    clusters.append(cluster)\n",
        "  return clusters"
      ],
      "execution_count": 15,
      "outputs": []
    },
    {
      "cell_type": "code",
      "metadata": {
        "id": "l0PFBv30obU-",
        "colab": {
          "base_uri": "https://localhost:8080/",
          "height": 232
        },
        "outputId": "977ee1dc-31a9-4234-bf1c-984528a81e48"
      },
      "source": [
        "from sklearn.datasets import make_blobs\n",
        "from sklearn.datasets import make_classification\n",
        "import random\n",
        "import sys\n",
        "from operator import itemgetter\n",
        "\n",
        "# Generate Imbalanced Synthetic Data\n",
        "#center_box = (0,20)\n",
        "# X,y = make_classification(n_samples=800000, n_classes=int(groupNum),shift=15 ,n_informative=4, n_redundant=0,n_repeated=0, n_clusters_per_class=2,class_sep=.8,flip_y=0,weights=[0.65,.15, .12, .08], random_state=55)\n",
        "#X, y = make_blobs(n_samples=[800000,200000], centers=None, cluster_std=.6,random_state=0)\n",
        "# X, y = make_blobs(n_samples=1000000, centers=int(groups), n_features=2,center_box=center_box,random_state=0)\n",
        "# create dataframe to hold x and y coordinates\n",
        "#df = pd.DataFrame({\n",
        "    #'x_coord': X[:,0],\n",
        "    #'y_coord': X[:,1]})\n",
        "#df['group'] = np.random.randint(0,5, df.shape[0])\n",
        "#df['group'] = y\n",
        " \n",
        "#arbitrarily picked random k (number of centroids)\n",
        "k = int(numCentroids)\n",
        "centroids = {}\n",
        "#randomly initialized centroid x and y coordinates (in real data we will actually have these coordinates)\n",
        "centroids[0] = ((random.choice(df['x_coord'])), (random.choice(df['y_coord'])))\n",
        "       \n",
        "#K-Means++ \n",
        "for c in range(k - 1): \n",
        "  ## initialize a list to store distances of data \n",
        "  ## points from nearest centroid \n",
        "  dist = [] \n",
        "  for i in range(df.shape[0]): \n",
        "    point = (df['x_coord'][i],df['y_coord'][i])  \n",
        "    d = sys.maxsize \n",
        "                                                                      \n",
        "    ## compute distance of 'point' from each of the previously \n",
        "    ## selected centroid and store the minimum distance \n",
        "    for j in range(len(centroids)): \n",
        "      temp_dist = calc_dist(point[0], point[1], centroids[j][0], centroids[j][1]) \n",
        "      d = min(d, temp_dist) \n",
        "    dist.append(d) \n",
        "              \n",
        "  ## select data point with maximum distance as our next centroid \n",
        "  dist = np.array(dist) \n",
        "  next_centroid = (df['x_coord'][np.argmax(dist)], df['y_coord'][np.argmax(dist)]) \n",
        "  centroids[c+1] = (next_centroid) \n",
        "  dist = [] \n",
        "\n",
        "#colors for centroids\n",
        "color_map = {}\n",
        "for i in range(k):\n",
        "  color_map[i] = 'g'\n",
        "\n",
        "#plot synthetic data\n",
        "\n",
        "\n",
        "centroids"
      ],
      "execution_count": 17,
      "outputs": [
        {
          "output_type": "error",
          "ename": "NameError",
          "evalue": "ignored",
          "traceback": [
            "\u001b[0;31m---------------------------------------------------------------------------\u001b[0m",
            "\u001b[0;31mNameError\u001b[0m                                 Traceback (most recent call last)",
            "\u001b[0;32m<ipython-input-17-90931777c006>\u001b[0m in \u001b[0;36m<module>\u001b[0;34m()\u001b[0m\n\u001b[1;32m     21\u001b[0m \u001b[0mcentroids\u001b[0m \u001b[0;34m=\u001b[0m \u001b[0;34m{\u001b[0m\u001b[0;34m}\u001b[0m\u001b[0;34m\u001b[0m\u001b[0;34m\u001b[0m\u001b[0m\n\u001b[1;32m     22\u001b[0m \u001b[0;31m#randomly initialized centroid x and y coordinates (in real data we will actually have these coordinates)\u001b[0m\u001b[0;34m\u001b[0m\u001b[0;34m\u001b[0m\u001b[0;34m\u001b[0m\u001b[0m\n\u001b[0;32m---> 23\u001b[0;31m \u001b[0mcentroids\u001b[0m\u001b[0;34m[\u001b[0m\u001b[0;36m0\u001b[0m\u001b[0;34m]\u001b[0m \u001b[0;34m=\u001b[0m \u001b[0;34m(\u001b[0m\u001b[0;34m(\u001b[0m\u001b[0mrandom\u001b[0m\u001b[0;34m.\u001b[0m\u001b[0mchoice\u001b[0m\u001b[0;34m(\u001b[0m\u001b[0mdf\u001b[0m\u001b[0;34m[\u001b[0m\u001b[0;34m'x_coord'\u001b[0m\u001b[0;34m]\u001b[0m\u001b[0;34m)\u001b[0m\u001b[0;34m)\u001b[0m\u001b[0;34m,\u001b[0m \u001b[0;34m(\u001b[0m\u001b[0mrandom\u001b[0m\u001b[0;34m.\u001b[0m\u001b[0mchoice\u001b[0m\u001b[0;34m(\u001b[0m\u001b[0mdf\u001b[0m\u001b[0;34m[\u001b[0m\u001b[0;34m'y_coord'\u001b[0m\u001b[0;34m]\u001b[0m\u001b[0;34m)\u001b[0m\u001b[0;34m)\u001b[0m\u001b[0;34m)\u001b[0m\u001b[0;34m\u001b[0m\u001b[0;34m\u001b[0m\u001b[0m\n\u001b[0m\u001b[1;32m     24\u001b[0m \u001b[0;34m\u001b[0m\u001b[0m\n\u001b[1;32m     25\u001b[0m \u001b[0;31m#K-Means++\u001b[0m\u001b[0;34m\u001b[0m\u001b[0;34m\u001b[0m\u001b[0;34m\u001b[0m\u001b[0m\n",
            "\u001b[0;31mNameError\u001b[0m: name 'df' is not defined"
          ]
        }
      ]
    },
    {
      "cell_type": "code",
      "metadata": {
        "colab": {
          "base_uri": "https://localhost:8080/"
        },
        "id": "DDBuy7YUQ-5t",
        "outputId": "5e1d6cf8-9df7-4724-c117-a642c983863b"
      },
      "source": [
        "from google.colab import drive\n",
        "drive.mount('/drive')"
      ],
      "execution_count": 18,
      "outputs": [
        {
          "output_type": "stream",
          "text": [
            "Drive already mounted at /drive; to attempt to forcibly remount, call drive.mount(\"/drive\", force_remount=True).\n"
          ],
          "name": "stdout"
        }
      ]
    },
    {
      "cell_type": "code",
      "metadata": {
        "id": "8Oo8klyCnPcb"
      },
      "source": [
        "df = pd.read_csv('/drive/My Drive/synth_data_1.csv')\n"
      ],
      "execution_count": 16,
      "outputs": []
    },
    {
      "cell_type": "code",
      "metadata": {
        "id": "V1Yukk3mPe8T"
      },
      "source": [
        "df.to_csv('/drive/My Drive/synth_data_1.csv')"
      ],
      "execution_count": null,
      "outputs": []
    },
    {
      "cell_type": "code",
      "metadata": {
        "id": "DhuQNm9f89UY"
      },
      "source": [
        "prev = []\n",
        "\n",
        "for i in range(len(centroids)):\n",
        "  prev.append(list(centroids[i]))"
      ],
      "execution_count": 18,
      "outputs": []
    },
    {
      "cell_type": "code",
      "metadata": {
        "colab": {
          "base_uri": "https://localhost:8080/"
        },
        "id": "CHL-jhw8pwjk",
        "outputId": "b15c266f-6dae-4a6d-a679-9bde35914976"
      },
      "source": [
        "prev"
      ],
      "execution_count": 19,
      "outputs": [
        {
          "output_type": "execute_result",
          "data": {
            "text/plain": [
              "[[1.3217736288954316, 4.309781096533058],\n",
              " [1.0579348893338447, -1.9414017712526928],\n",
              " [4.6442588833988685, 1.1787857431871689],\n",
              " [-0.7891877589763294, 1.2115358623592756],\n",
              " [-1.935000513361575, 5.4694621587955305],\n",
              " [1.4748748461670318, 7.181666624691387],\n",
              " [1.9248293689522575, 0.6819427023002689],\n",
              " [3.722250295972846, 5.1977359430072445],\n",
              " [-0.8099490780871186, 3.4872301475151604],\n",
              " [3.620513287657205, -0.8374623359772058],\n",
              " [2.9913596936804336, 2.705588835240054],\n",
              " [0.8340598863046347, 2.365005838497162],\n",
              " [0.020481524861133082, 5.822355055902361],\n",
              " [0.32812532801167604, -0.2365816393574633],\n",
              " [2.1748352127956707, 5.707506216860608],\n",
              " [2.086480353101837, -0.8190547204636129],\n",
              " [3.346972624257142, 0.5689676657154799],\n",
              " [2.7333844236946563, 4.11655601749812],\n",
              " [0.6503800905682333, 1.04993700258431],\n",
              " [0.02041819792103061, 4.508014622652707],\n",
              " [1.8186456065688557, 3.154044805601276],\n",
              " [2.0153016618377544, 1.925277702760101],\n",
              " [-1.8197017018928792, 4.2450739897544505],\n",
              " [-0.3619813579953157, 2.365943042612031],\n",
              " [4.04627421522434, 2.190326760147335],\n",
              " [-0.16399740654705194, 6.966439271200937],\n",
              " [0.5269767903042724, 3.4745063466553834],\n",
              " [1.0795586848487588, 5.416869273431189],\n",
              " [2.9027934255102474, 6.5735765414505005],\n",
              " [-0.8737208931120022, 5.175647894365294],\n",
              " [3.0638312194156008, 1.617292364859364],\n",
              " [4.314619969426664, 0.1800282509613288],\n",
              " [1.3335634167534378, -0.13891545282309115],\n",
              " [0.8411765176110361, 6.3998720631643495],\n",
              " [-1.2298618275005362, 6.121104881825295],\n",
              " [2.5891811155997613, -0.010599392262584441],\n",
              " [2.8558245877262403, -1.4031755064907232],\n",
              " [0.953377824615618, -1.0035377612402494],\n",
              " [2.111337037324331, 4.792930814473062],\n",
              " [-0.22432730301685533, 0.4881294941431527],\n",
              " [3.6562375155706857, 4.304183518066372],\n",
              " [3.332535297641213, 3.4918397754481716],\n",
              " [-0.9453660512998274, 4.327568337975759],\n",
              " [2.8766522555380947, 5.214266212228657],\n",
              " [2.0569497634978395, 6.539554823264508],\n",
              " [3.8189725585829373, 1.2726330892942903],\n",
              " [1.23649220427389, 1.6346302847041845],\n",
              " [0.17920978414610467, 1.7432273789218329],\n",
              " [2.0282047162683288, -1.634285632935876],\n",
              " [2.6633623934257584, 0.9470917006539116],\n",
              " [1.986803384867259, 3.91157313816132],\n",
              " [-0.1486928807715373, 3.1022814741965146],\n",
              " [2.559447236178033, 3.34470718532898],\n",
              " [-1.2473962097202542, 2.863971927927115],\n",
              " [0.3773076054198993, 5.163609892809559],\n",
              " [1.502568084149218, 6.020687112122643],\n",
              " [3.307649737987585, -0.16725143078203694],\n",
              " [1.2050125779202068, 0.5783341027665432],\n",
              " [1.2422558637794514, 3.590538656497901],\n",
              " [1.5595739119178866, 2.4796135950789533],\n",
              " [-0.1675390601439528, 3.817078744902836],\n",
              " [2.2661550006643765, 2.593220805906664],\n",
              " [2.807507204653919, -0.6893070724794446],\n",
              " [-0.37763658975133696, -0.28554068653446185],\n",
              " [0.6344617552338854, 4.168764677202207],\n",
              " [-1.4987415069386685, 4.9277550080303945],\n",
              " [0.5676005367308561, 0.3832330418233855],\n",
              " [-0.0947590066508628, 1.139163748820164],\n",
              " [4.275600748128393, -0.7695330816011914],\n",
              " [2.8080283759453284, 5.883596423026358],\n",
              " [-1.5307329787496644, 3.4533227928588497],\n",
              " [1.112581704390654, 2.9526193970208596],\n",
              " [3.380646518100317, 2.1867449124870992],\n",
              " [1.798861158571272, 1.3178392113816189],\n",
              " [0.903977020913496, 4.797463310310384],\n",
              " [1.950313736961655, 0.0338904088483164],\n",
              " [-0.5603682765794249, 6.091408361229331],\n",
              " [1.6978007442176302, 5.274310179483488],\n",
              " [0.23576383807814785, 2.5741298933837564],\n",
              " [-0.2479352549707168, 5.079209604682141],\n",
              " [2.635816469584083, 2.080111338850732],\n",
              " [0.3318126021097947, -0.9292851150779292],\n",
              " [0.5345531581151319, 6.934290082195081],\n",
              " [3.0711584986438103, 4.62160820698874],\n",
              " [0.6293021726954909, 5.822201265137849],\n",
              " [3.9570448745716313, 0.6844218780396495],\n",
              " [1.4211948932835683, -1.4639891421350018],\n",
              " [2.445313228168786, 1.5083852810862677],\n",
              " [0.07890325605731463, 6.419729847839224],\n",
              " [1.4855723053786607, -0.7379659497875586]]"
            ]
          },
          "metadata": {
            "tags": []
          },
          "execution_count": 19
        }
      ]
    },
    {
      "cell_type": "code",
      "metadata": {
        "id": "hlaHI-jdOQZ6"
      },
      "source": [
        "for i in range(len(prev)):\n",
        "  centroids[i] = (prev[i][0], prev[i][1])"
      ],
      "execution_count": 32,
      "outputs": []
    },
    {
      "cell_type": "code",
      "metadata": {
        "colab": {
          "base_uri": "https://localhost:8080/",
          "height": 1000
        },
        "id": "FMlCpZcrrI10",
        "outputId": "8468cd50-7ac3-4acc-afb8-12e824a8164b"
      },
      "source": [
        "df = assign_cluster(df, centroids)\n",
        "groups = compute_groups(df)\n",
        "compute_cdf_graph(groups)\n",
        "clusters = compute_clusters(df)\n",
        "#cdf1, cdf2 = compute_cdf(groups)\n",
        "#subgroup loss between max and min loss\n",
        "percentile_losses = []\n",
        "for i in range(1,10): \n",
        "  cdf1, cdf2 = compute_cdf(groups, i*10)\n",
        "  temp_subgroup_loss = compare_loss(groups[cdf1], groups[cdf2], i*10)\n",
        "  percentile_losses.append(temp_subgroup_loss)\n",
        "subgroup_loss = max(percentile_losses)\n",
        "max_ind = ((percentile_losses.index(subgroup_loss))+1)*10\n",
        "\n",
        "loss, indiv = sum_loss(df, centroids, subgroup_loss)\n",
        "centroids = update(centroids,df, subgroup_loss, loss, indiv, groups, cdf1, cdf2, max_ind)\n",
        "centroids"
      ],
      "execution_count": 20,
      "outputs": [
        {
          "output_type": "display_data",
          "data": {
            "image/png": "[encoded data removed]",
            "text/plain": [
              "<Figure size 432x288 with 1 Axes>"
            ]
          },
          "metadata": {
            "tags": [],
            "needs_background": "light"
          }
        },
        {
          "output_type": "display_data",
          "data": {
            "image/png": "[encoded data removed]",
            "text/plain": [
              "<Figure size 432x288 with 1 Axes>"
            ]
          },
          "metadata": {
            "tags": [],
            "needs_background": "light"
          }
        },
        {
          "output_type": "display_data",
          "data": {
            "image/png": "[encoded data removed]",
            "text/plain": [
              "<Figure size 432x288 with 1 Axes>"
            ]
          },
          "metadata": {
            "tags": [],
            "needs_background": "light"
          }
        },
        {
          "output_type": "display_data",
          "data": {
            "image/png": "[encoded data removed]",
            "text/plain": [
              "<Figure size 432x288 with 1 Axes>"
            ]
          },
          "metadata": {
            "tags": [],
            "needs_background": "light"
          }
        },
        {
          "output_type": "display_data",
          "data": {
            "image/png": "[encoded data removed]",
            "text/plain": [
              "<Figure size 432x288 with 1 Axes>"
            ]
          },
          "metadata": {
            "tags": [],
            "needs_background": "light"
          }
        },
        {
          "output_type": "display_data",
          "data": {
            "image/png": "[encoded data removed]",
            "text/plain": [
              "<Figure size 432x288 with 1 Axes>"
            ]
          },
          "metadata": {
            "tags": [],
            "needs_background": "light"
          }
        },
        {
          "output_type": "display_data",
          "data": {
            "image/png": "[encoded data removed]",
            "text/plain": [
              "<Figure size 432x288 with 1 Axes>"
            ]
          },
          "metadata": {
            "tags": [],
            "needs_background": "light"
          }
        },
        {
          "output_type": "execute_result",
          "data": {
            "text/plain": [
              "{0: (1.399648608375374, 4.24217090612893),\n",
              " 1: (1.0579348893338447, -1.9414017712526928),\n",
              " 2: (4.6442588833988685, 1.1787857431871689),\n",
              " 3: (-0.7891877589763294, 1.2115358623592756),\n",
              " 4: (-1.935000513361575, 5.4694621587955305),\n",
              " 5: (1.4748748461670318, 7.181666624691387),\n",
              " 6: (2.00587855374603, 0.6600538538915149),\n",
              " 7: (3.722250295972846, 5.1977359430072445),\n",
              " 8: (-0.8099490780871186, 3.4872301475151604),\n",
              " 9: (3.708973936689935, -0.6098419644616981),\n",
              " 10: (2.9913596936804336, 2.705588835240054),\n",
              " 11: (0.9361004285042919, 1.9831403559705894),\n",
              " 12: (0.2569950224148, 5.767420706764018),\n",
              " 13: (0.32812532801167604, -0.2365816393574633),\n",
              " 14: (2.1748352127956707, 5.707506216860608),\n",
              " 15: (2.0878566484785424, -0.6577086437881775),\n",
              " 16: (3.0241515903209186, 0.6098450128539694),\n",
              " 17: (2.7333844236946563, 4.11655601749812),\n",
              " 18: (0.7106880134288468, 1.1985335159639632),\n",
              " 19: (0.09861138901371162, 4.543678428938627),\n",
              " 20: (1.6726670082439137, 3.3166836632399397),\n",
              " 21: (2.0072116826736397, 1.699652185902479),\n",
              " 22: (-1.8197017018928792, 4.2450739897544505),\n",
              " 23: (-0.3619813579953157, 2.365943042612031),\n",
              " 24: (4.04627421522434, 2.190326760147335),\n",
              " 25: (-0.16399740654705194, 6.966439271200937),\n",
              " 26: (0.5863493095297085, 3.540053339702803),\n",
              " 27: (1.051377389381714, 5.36042752530313),\n",
              " 28: (2.9027934255102474, 6.5735765414505005),\n",
              " 29: (-0.8737208931120022, 5.175647894365294),\n",
              " 30: (2.9554091329452254, 1.423196273570389),\n",
              " 31: (4.314619969426664, 0.1800282509613288),\n",
              " 32: (1.4109590000845482, 0.19220925011147333),\n",
              " 33: (0.8411765176110361, 6.3998720631643495),\n",
              " 34: (-1.2298618275005362, 6.121104881825295),\n",
              " 35: (2.5430393028726592, 0.05349472017473528),\n",
              " 36: (2.8558245877262403, -1.4031755064907232),\n",
              " 37: (0.953377824615618, -1.0035377612402494),\n",
              " 38: (1.7711709248079561, 4.641314864208423),\n",
              " 39: (-0.22432730301685533, 0.4881294941431527),\n",
              " 40: (3.6562375155706857, 4.304183518066372),\n",
              " 41: (3.332535297641213, 3.4918397754481716),\n",
              " 42: (-0.9453660512998274, 4.327568337975759),\n",
              " 43: (2.8766522555380947, 5.214266212228657),\n",
              " 44: (2.0569497634978395, 6.539554823264508),\n",
              " 45: (3.8189725585829373, 1.2726330892942903),\n",
              " 46: (1.1752461750452923, 1.5657867577733482),\n",
              " 47: (0.17920978414610467, 1.7432273789218329),\n",
              " 48: (2.0282047162683288, -1.634285632935876),\n",
              " 49: (2.5390007731112205, 0.8550829870126758),\n",
              " 50: (1.972353951276892, 4.0108933924301216),\n",
              " 51: (-0.1486928807715373, 3.1022814741965146),\n",
              " 52: (2.325472588443385, 3.3553601866021654),\n",
              " 53: (-1.2473962097202542, 2.863971927927115),\n",
              " 54: (0.5030686017608477, 5.020642137280833),\n",
              " 55: (1.502568084149218, 6.020687112122643),\n",
              " 56: (3.023780272995973, -0.020012860268401534),\n",
              " 57: (1.303504768803058, 0.7698670998940165),\n",
              " 58: (1.2170096915088235, 3.5624147149216103),\n",
              " 59: (1.6370756559953776, 2.2172337312976698),\n",
              " 60: (0.1075293915547186, 3.907439076205131),\n",
              " 61: (2.2661550006643765, 2.593220805906664),\n",
              " 62: (2.807507204653919, -0.6893070724794446),\n",
              " 63: (-0.37763658975133696, -0.28554068653446185),\n",
              " 64: (0.7646091143168137, 4.2060579827551035),\n",
              " 65: (-1.4987415069386685, 4.9277550080303945),\n",
              " 66: (0.6471657311831968, 0.131457490910807),\n",
              " 67: (-0.0947590066508628, 1.139163748820164),\n",
              " 68: (4.275600748128393, -0.7695330816011914),\n",
              " 69: (2.8080283759453284, 5.883596423026358),\n",
              " 70: (-1.5307329787496644, 3.4533227928588497),\n",
              " 71: (0.9608763809090813, 3.0596359921369523),\n",
              " 72: (3.380646518100317, 2.1867449124870992),\n",
              " 73: (1.8912772544300158, 1.2492174771166913),\n",
              " 74: (1.0003474441165197, 4.732676464219149),\n",
              " 75: (1.9344069405742745, 0.02964563799988656),\n",
              " 76: (-0.5603682765794249, 6.091408361229331),\n",
              " 77: (1.4683307989065053, 5.036993905687487),\n",
              " 78: (0.23576383807814785, 2.5741298933837564),\n",
              " 79: (-0.15835240371012183, 4.956066956657762),\n",
              " 80: (2.5853012446838544, 1.9503146356252656),\n",
              " 81: (0.3318126021097947, -0.9292851150779292),\n",
              " 82: (0.5345531581151319, 6.934290082195081),\n",
              " 83: (3.0711584986438103, 4.62160820698874),\n",
              " 84: (0.6293021726954909, 5.822201265137849),\n",
              " 85: (3.745029947768872, 0.41385459757262366),\n",
              " 86: (1.4211948932835683, -1.4639891421350018),\n",
              " 87: (2.4916617027844286, 1.3877509010872164),\n",
              " 88: (0.07890325605731463, 6.419729847839224),\n",
              " 89: (1.4720034947907008, -0.6895113631887956)}"
            ]
          },
          "metadata": {
            "tags": []
          },
          "execution_count": 20
        }
      ]
    },
    {
      "cell_type": "code",
      "metadata": {
        "colab": {
          "base_uri": "https://localhost:8080/"
        },
        "id": "KlTaTmqvuO8U",
        "outputId": "c5742ad3-4e81-4b58-cd31-31341f396713"
      },
      "source": [
        "max_ind"
      ],
      "execution_count": 21,
      "outputs": [
        {
          "output_type": "execute_result",
          "data": {
            "text/plain": [
              "90"
            ]
          },
          "metadata": {
            "tags": []
          },
          "execution_count": 21
        }
      ]
    },
    {
      "cell_type": "code",
      "metadata": {
        "id": "MZJS1sHsl5ej",
        "colab": {
          "base_uri": "https://localhost:8080/",
          "height": 624
        },
        "outputId": "6106fd1d-2b1c-4913-d59d-7b42e80d1483"
      },
      "source": [
        "from sklearn.cluster import MiniBatchKMeans\n",
        "from sklearn.cluster import KMeans\n",
        "def KMeans_orig(df, data, centr, prev_cen):\n",
        "  df = assign_cluster(df, prev_cen)\n",
        "  groups = compute_groups(df)\n",
        "  clusters = compute_clusters(df)\n",
        "  cdf1, cdf2 = compute_cdf(groups, max_ind)\n",
        "  subgroup_loss = compare_loss(groups[cdf1], groups[cdf2], max_ind)\n",
        "  print(subgroup_loss)\n",
        "\n",
        "  loss, indiv = sum_loss(df, prev_cen, subgroup_loss)\n",
        "  print(loss)\n",
        "  print(indiv)\n",
        "  compute_cdf_graph(groups)\n",
        "  #kmeans = KMeans(init=centr, n_clusters=10, random_state=0, max_iter=250).fit(data)\n",
        "  kmeans = MiniBatchKMeans(n_clusters=90,\n",
        "                        random_state=0,\n",
        "                          batch_size=256,\n",
        "                          max_iter=30,\n",
        "                           max_no_improvement=5).fit(data)\n",
        "  centr =  kmeans.cluster_centers_\n",
        "  centroids = {}\n",
        "  for i in range(len(centr)):\n",
        "    centroids[i] = centr[i]\n",
        "  df = assign_cluster(df, centroids)\n",
        "  groups = compute_groups(df)\n",
        "  cdf1, cdf2 = compute_cdf(groups, max_ind)\n",
        "  subgroup_loss = compare_loss(groups[cdf1], groups[cdf2], max_ind)\n",
        "  loss,indiv = sum_loss(df, centroids, subgroup_loss)\n",
        "  compute_cdf_graph(groups)\n",
        "  return (subgroup_loss, loss, kmeans)\n",
        "subgroup, tot, kmeans = KMeans_orig(df, X, np.array(prev), prev_cen)\n",
        "\n",
        "\n",
        "\n"
      ],
      "execution_count": 25,
      "outputs": [
        {
          "output_type": "stream",
          "text": [
            "0.007825763683352777\n",
            "0.07037015959666348\n",
            "0.1329145555099742\n"
          ],
          "name": "stdout"
        },
        {
          "output_type": "display_data",
          "data": {
            "image/png": "[encoded data removed]",
            "text/plain": [
              "<Figure size 432x288 with 1 Axes>"
            ]
          },
          "metadata": {
            "tags": [],
            "needs_background": "light"
          }
        },
        {
          "output_type": "display_data",
          "data": {
            "image/png": "[encoded data removed]",
            "text/plain": [
              "<Figure size 432x288 with 1 Axes>"
            ]
          },
          "metadata": {
            "tags": [],
            "needs_background": "light"
          }
        }
      ]
    },
    {
      "cell_type": "code",
      "metadata": {
        "colab": {
          "base_uri": "https://localhost:8080/"
        },
        "id": "B73oISo6nmXw",
        "outputId": "7c6c8341-8a75-460a-886f-6f2e8554a311"
      },
      "source": [
        "print(subgroup)\n",
        "print(loss)"
      ],
      "execution_count": 27,
      "outputs": [
        {
          "output_type": "stream",
          "text": [
            "0.04823193472601725\n",
            "0.07037015959666348\n"
          ],
          "name": "stdout"
        }
      ]
    },
    {
      "cell_type": "code",
      "metadata": {
        "id": "qHsW5urooi4q"
      },
      "source": [
        "prev_cen = {}\n",
        "for i in range(len(prev)):\n",
        "  prev_cen[i] = (prev[i][0], prev[i][1])"
      ],
      "execution_count": 24,
      "outputs": []
    },
    {
      "cell_type": "code",
      "metadata": {
        "id": "sXNckQEyaxZc"
      },
      "source": [
        "centroids = {0: (1.3217736288954316, 4.309781096533058),\n",
        " 1: (1.0579348893338447, -1.9414017712526928),\n",
        " 2: (4.6442588833988685, 1.1787857431871689),\n",
        " 3: (-0.7891877589763294, 1.2115358623592756),\n",
        " 4: (-1.935000513361575, 5.4694621587955305),\n",
        " 5: (1.4748748461670318, 7.181666624691387),\n",
        " 6: (1.9248293689522575, 0.6819427023002689),\n",
        " 7: (3.722250295972846, 5.1977359430072445),\n",
        " 8: (-0.8099490780871186, 3.4872301475151604),\n",
        " 9: (3.620513287657205, -0.8374623359772058),\n",
        " 10: (2.9913596936804336, 2.705588835240054),\n",
        " 11: (0.8340598863046347, 2.365005838497162),\n",
        " 12: (0.020481524861133082, 5.822355055902361),\n",
        " 13: (0.32812532801167604, -0.2365816393574633),\n",
        " 14: (2.1748352127956707, 5.707506216860608),\n",
        " 15: (2.086480353101837, -0.8190547204636129),\n",
        " 16: (3.346972624257142, 0.5689676657154799),\n",
        " 17: (2.7333844236946563, 4.11655601749812),\n",
        " 18: (0.6503800905682333, 1.04993700258431),\n",
        " 19: (0.02041819792103061, 4.508014622652707),\n",
        " 20: (1.8186456065688557, 3.154044805601276),\n",
        " 21: (2.0153016618377544, 1.925277702760101),\n",
        " 22: (-1.8197017018928792, 4.2450739897544505),\n",
        " 23: (-0.3619813579953157, 2.365943042612031),\n",
        " 24: (4.04627421522434, 2.190326760147335),\n",
        " 25: (-0.16399740654705194, 6.966439271200937),\n",
        " 26: (0.5269767903042724, 3.4745063466553834),\n",
        " 27: (1.0795586848487588, 5.416869273431189),\n",
        " 28: (2.9027934255102474, 6.5735765414505005),\n",
        " 29: (-0.8737208931120022, 5.175647894365294),\n",
        " 30: (3.0638312194156008, 1.617292364859364),\n",
        " 31: (4.314619969426664, 0.1800282509613288),\n",
        " 32: (1.3335634167534378, -0.13891545282309115),\n",
        " 33: (0.8411765176110361, 6.3998720631643495),\n",
        " 34: (-1.2298618275005362, 6.121104881825295),\n",
        " 35: (2.5891811155997613, -0.010599392262584441),\n",
        " 36: (2.8558245877262403, -1.4031755064907232),\n",
        " 37: (0.953377824615618, -1.0035377612402494),\n",
        " 38: (2.111337037324331, 4.792930814473062),\n",
        " 39: (-0.22432730301685533, 0.4881294941431527),\n",
        " 40: (3.6562375155706857, 4.304183518066372),\n",
        " 41: (3.332535297641213, 3.4918397754481716),\n",
        " 42: (-0.9453660512998274, 4.327568337975759),\n",
        " 43: (2.8766522555380947, 5.214266212228657),\n",
        " 44: (2.0569497634978395, 6.539554823264508),\n",
        " 45: (3.8189725585829373, 1.2726330892942903),\n",
        " 46: (1.23649220427389, 1.6346302847041845),\n",
        " 47: (0.17920978414610467, 1.7432273789218329),\n",
        " 48: (2.0282047162683288, -1.634285632935876),\n",
        " 49: (2.6633623934257584, 0.9470917006539116),\n",
        " 50: (1.986803384867259, 3.91157313816132),\n",
        " 51: (-0.1486928807715373, 3.1022814741965146),\n",
        " 52: (2.559447236178033, 3.34470718532898),\n",
        " 53: (-1.2473962097202542, 2.863971927927115),\n",
        " 54: (0.3773076054198993, 5.163609892809559),\n",
        " 55: (1.502568084149218, 6.020687112122643),\n",
        " 56: (3.307649737987585, -0.16725143078203694),\n",
        " 57: (1.2050125779202068, 0.5783341027665432),\n",
        " 58: (1.2422558637794514, 3.590538656497901),\n",
        " 59: (1.5595739119178866, 2.4796135950789533),\n",
        " 60: (-0.1675390601439528, 3.817078744902836),\n",
        " 61: (2.2661550006643765, 2.593220805906664),\n",
        " 62: (2.807507204653919, -0.6893070724794446),\n",
        " 63: (-0.37763658975133696, -0.28554068653446185),\n",
        " 64: (0.6344617552338854, 4.168764677202207),\n",
        " 65: (-1.4987415069386685, 4.9277550080303945),\n",
        " 66: (0.5676005367308561, 0.3832330418233855),\n",
        " 67: (-0.0947590066508628, 1.139163748820164),\n",
        " 68: (4.275600748128393, -0.7695330816011914),\n",
        " 69: (2.8080283759453284, 5.883596423026358),\n",
        " 70: (-1.5307329787496644, 3.4533227928588497),\n",
        " 71: (1.112581704390654, 2.9526193970208596),\n",
        " 72: (3.380646518100317, 2.1867449124870992),\n",
        " 73: (1.798861158571272, 1.3178392113816189),\n",
        " 74: (0.903977020913496, 4.797463310310384),\n",
        " 75: (1.950313736961655, 0.0338904088483164),\n",
        " 76: (-0.5603682765794249, 6.091408361229331),\n",
        " 77: (1.6978007442176302, 5.274310179483488),\n",
        " 78: (0.23576383807814785, 2.5741298933837564),\n",
        " 79: (-0.2479352549707168, 5.079209604682141),\n",
        " 80: (2.635816469584083, 2.080111338850732),\n",
        " 81: (0.3318126021097947, -0.9292851150779292),\n",
        " 82: (0.5345531581151319, 6.934290082195081),\n",
        " 83: (3.0711584986438103, 4.62160820698874),\n",
        " 84: (0.6293021726954909, 5.822201265137849),\n",
        " 85: (3.9570448745716313, 0.6844218780396495),\n",
        " 86: (1.4211948932835683, -1.4639891421350018),\n",
        " 87: (2.445313228168786, 1.5083852810862677),\n",
        " 88: (0.07890325605731463, 6.419729847839224),\n",
        " 89: (1.4855723053786607, -0.7379659497875586)}"
      ],
      "execution_count": 17,
      "outputs": []
    },
    {
      "cell_type": "code",
      "metadata": {
        "id": "LKrselDecB9Y"
      },
      "source": [
        "X = []\n",
        "for i in range(len(df)):\n",
        "  X.append([df['x_coord'][i], df['y_coord'][i]])"
      ],
      "execution_count": 22,
      "outputs": []
    },
    {
      "cell_type": "code",
      "metadata": {
        "colab": {
          "base_uri": "https://localhost:8080/"
        },
        "id": "1yLP2WEp5J3P",
        "outputId": "7bbef4b7-a6ed-4ea0-e15d-385ab7607521"
      },
      "source": [
        "X = np.array(X)\n",
        "X"
      ],
      "execution_count": 23,
      "outputs": [
        {
          "output_type": "execute_result",
          "data": {
            "text/plain": [
              "array([[1.3908334 , 3.8267917 ],\n",
              "       [1.06126771, 4.06341965],\n",
              "       [2.25395627, 0.29343099],\n",
              "       ...,\n",
              "       [1.58217867, 4.22342979],\n",
              "       [0.5260326 , 3.37498678],\n",
              "       [2.39856728, 1.24294393]])"
            ]
          },
          "metadata": {
            "tags": []
          },
          "execution_count": 23
        }
      ]
    },
    {
      "cell_type": "code",
      "metadata": {
        "id": "-CtO0PGG5MQh"
      },
      "source": [
        ""
      ],
      "execution_count": null,
      "outputs": []
    }
  ]
}