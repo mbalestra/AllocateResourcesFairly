{
  "nbformat": 4,
  "nbformat_minor": 0,
  "metadata": {
    "colab": {
      "name": "synth_data.ipynb",
      "provenance": [],
      "collapsed_sections": []
    },
    "kernelspec": {
      "name": "python3",
      "display_name": "Python 3"
    }
  },
  "cells": [
    {
      "cell_type": "code",
      "metadata": {
        "id": "TRdL0t17k_h3"
      },
      "source": [
        "from sklearn.datasets import make_classification\n",
        "from matplotlib import pyplot as plt\n",
        "import seaborn as sns\n",
        "import numpy as np\n",
        "import pandas as pd\n",
        "from scipy import stats\n",
        "import matplotlib.pyplot as plt\n",
        "import random\n",
        "import time"
      ],
      "execution_count": null,
      "outputs": []
    },
    {
      "cell_type": "code",
      "metadata": {
        "id": "RCM1sRuTm-LK",
        "colab": {
          "base_uri": "https://localhost:8080/"
        },
        "outputId": "79053d3c-7927-4785-b497-cbd1b2adfc00"
      },
      "source": [
        "#User input for algorithm:\n",
        "#for synthetic data/potentially for regular datasets user can set the total subgroups/centroids\n",
        "centroids = input(\"Enter number of centroids: \")\n",
        "groupNum = input(\"Enter number of groups: \")"
      ],
      "execution_count": null,
      "outputs": [
        {
          "output_type": "stream",
          "text": [
            "Enter number of centroids: 10\n",
            "Enter number of groups: 5\n"
          ],
          "name": "stdout"
        }
      ]
    },
    {
      "cell_type": "code",
      "metadata": {
        "id": "VnNJ6GLTIqIF"
      },
      "source": [
        "#calculates euclidean distance between points\n",
        "def calc_dist(x,y,x_ref,y_ref):\n",
        "  return np.sqrt((((x-x_ref)**2)+((y-y_ref)**2))) "
      ],
      "execution_count": null,
      "outputs": []
    },
    {
      "cell_type": "code",
      "metadata": {
        "id": "4MvuZpJO9Kg-"
      },
      "source": [
        "#calculuates loss by putting euclidean distance of point->centroid into sigmoid function\n",
        "def calc_loss(x,y,x_ref,y_ref):\n",
        "    # calculate euclidean distance btw person & centroid\n",
        "    distance = calc_dist(x,y,x_ref,y_ref)\n",
        "    # refer to the above distance function to determine individual loss\n",
        "    loss = 1/(1+ np.exp(-1*(distance))) #converts distances to probability distribution\n",
        "    #return loss\n",
        "    return loss"
      ],
      "execution_count": null,
      "outputs": []
    },
    {
      "cell_type": "code",
      "metadata": {
        "id": "AV8DU-EkimxQ"
      },
      "source": [
        "#this function calculates the summation of all the individual losses within each cluster for minimizing the objective function\n",
        "def sum_loss(df, centroids, subgroup_loss):\n",
        "  #total datapoints\n",
        "  tot_len = 0\n",
        "  #sum of all individual losses between clusters\n",
        "  loss_sum = 0\n",
        "  clusters = []\n",
        "  max_val = df['min_loss'].max()\n",
        "  min_val = df['min_loss'].min()\n",
        "  for i in centroids.keys():\n",
        "    temp = df[df['min_centr']==i]\n",
        "    temp = temp.reset_index()\n",
        "    clusters.append(temp)\n",
        "    tot_len += len(temp)\n",
        "    loss_sum += temp['min_loss'].sum()\n",
        "  #weighting scheme for 2-part cost function (sum of individual losses and subgroup loss)\n",
        "  tot_loss = 1*(loss_sum/tot_len)\n",
        "  tot_loss += ((1)*subgroup_loss)\n",
        "  print(subgroup_loss)\n",
        "  print('total: ', tot_loss)\n",
        "  return tot_loss"
      ],
      "execution_count": null,
      "outputs": []
    },
    {
      "cell_type": "code",
      "metadata": {
        "id": "_8N7YL7Kxs79"
      },
      "source": [
        "def assign_cluster(df, centroids):\n",
        "  start = time.time()\n",
        "  for i in centroids.keys():\n",
        "    #loss based on euclidean distance for each individual point compared to both centroids\n",
        "    #stored in dataframe\n",
        "    df['loss_from_{}'.format(i)] = calc_loss(df['x_coord'], df['y_coord'], centroids[i][0], centroids[i][1])\n",
        "    df['dist_from_{}'.format(i)] = calc_dist(df['x_coord'], df['y_coord'], centroids[i][0], centroids[i][1])\n",
        "  centroid_dist_col = ['loss_from_{}'.format(i) for i in centroids.keys()]\n",
        "  #df column which holds the value of the closest centroid for each point\n",
        "  df['min_centr'] = df.loc[:, centroid_dist_col].idxmin(axis=1)\n",
        "  df['min_centr'] = df['min_centr'].map(lambda x: int(x.lstrip('loss_from_')))\n",
        "  #value of loss calculated from sigmoid in calc_loss function for individual loss\n",
        "  df['min_loss'] = df[['loss_from_{}'.format(i) for i in centroids.keys()]].min(axis=1)\n",
        "  end = time.time()\n",
        "  print('Time elapsed Assignment Step: ', end - start)\n",
        "  # for i in range(len(centroids)):\n",
        "  #   del df['loss_from_{}'.format(i)]\n",
        "  #   lst = df['min_centr'].unique()\n",
        "  #   if i not in lst:\n",
        "  #     del df['dist_from_{}'.format(i)]\n",
        "  return df"
      ],
      "execution_count": null,
      "outputs": []
    },
    {
      "cell_type": "code",
      "metadata": {
        "id": "2mEXNOxYBr4S"
      },
      "source": [
        "from sklearn.neighbors import NearestNeighbors\n",
        "d1 = [df['x_coord'][0],df['y_coord'][0]]\n",
        "d2 = [df['x_coord'][1],df['y_coord'][1]]\n",
        "d3 = [df['x_coord'][2],df['y_coord'][2]]\n",
        "X = np.array([d1,d2,d3])\n",
        "nbrs = NearestNeighbors(n_neighbors=2,algorithm='ball_tree').fit(X)\n",
        "distances, indices = nbrs.kneighbors(X)"
      ],
      "execution_count": null,
      "outputs": []
    },
    {
      "cell_type": "code",
      "metadata": {
        "id": "MF-ci1V0Ehpc"
      },
      "source": [
        "X = []\n",
        "for i in range(len(df)):\n",
        "  X.append([df['x_coord'][i],df['y_coord'][i]])\n",
        "nbrs = NearestNeighbors(n_neighbors=2,algorithm='ball_tree').fit(X)\n",
        "distances, indices = nbrs.kneighbors(X)"
      ],
      "execution_count": null,
      "outputs": []
    },
    {
      "cell_type": "code",
      "metadata": {
        "id": "e5NO-U7BBdCQ"
      },
      "source": [
        "nbrs.kneighbors_graph(x).toarray()"
      ],
      "execution_count": null,
      "outputs": []
    },
    {
      "cell_type": "code",
      "metadata": {
        "id": "4yxY28UWExt2"
      },
      "source": [
        "assignment = []\n",
        "for i in range(len(indices)):\n",
        "  assignment.append(indices[i][1])"
      ],
      "execution_count": null,
      "outputs": []
    },
    {
      "cell_type": "code",
      "metadata": {
        "id": "redlcIf-B2YW"
      },
      "source": [
        "for group in assignment:\n",
        "  print(group)"
      ],
      "execution_count": null,
      "outputs": []
    },
    {
      "cell_type": "code",
      "metadata": {
        "id": "XC6A_PKADItW"
      },
      "source": [
        "distances"
      ],
      "execution_count": null,
      "outputs": []
    },
    {
      "cell_type": "code",
      "metadata": {
        "id": "nSwRJ0BN_9FI"
      },
      "source": [
        "df.head(3)"
      ],
      "execution_count": null,
      "outputs": []
    },
    {
      "cell_type": "code",
      "metadata": {
        "id": "pHz2LfEQQsZK"
      },
      "source": [
        "# this function compares the loss between two groups at a certain percentile level\n",
        "def compare_loss(group1,group2,percentile):\n",
        "    select_group = [group1, group2]\n",
        "    percentile_loss = []\n",
        "    for s in select_group:\n",
        "        s.sort_values(by=['min_loss'])\n",
        "        subgroup = [s['min_loss']] # subset the two different groups of interest\n",
        "        loss_p = stats.scoreatpercentile(subgroup, percentile) # find the level of loss at given percentile\n",
        "        percentile_loss.append(loss_p) # load list with loss    \n",
        "    difference = percentile_loss[0]-percentile_loss[1] # find difference between two @ percentile\n",
        "    return np.abs(difference)"
      ],
      "execution_count": null,
      "outputs": []
    },
    {
      "cell_type": "code",
      "metadata": {
        "id": "D6IkySh0EzcV"
      },
      "source": [
        "#calculates gradient for clusters\n",
        "def update_weights(clust, lr, centr, df):\n",
        "  #total number of points in cluster 0 (points nearest to centroid 0)\n",
        "  new_centr_x, new_centr_y = centr[0], centr[1]\n",
        "  #calculate partial derivatives of euclidean distance functions\n",
        "  x = clust['x_coord']\n",
        "  y = clust['y_coord']\n",
        "  center = clust['min_centr']\n",
        "  distance = clust['dist_from_{}'.format(int(center))]\n",
        "  grad_x = (np.exp(-1*distance) * (centr[0]-x)) / (1 + np.exp(-1*distance)*distance)\n",
        "  grad_y = (np.exp(-1*distance) * (centr[1]-y)) / (1 + np.exp(-1*distance)*distance)\n",
        "\n",
        "  return (grad_x, grad_y)"
      ],
      "execution_count": null,
      "outputs": []
    },
    {
      "cell_type": "code",
      "metadata": {
        "id": "jhdH_V2uYNnV"
      },
      "source": [
        "def softmax(x):\n",
        "  return np.exp(x) / np.sum(np.exp(x), axis=0)"
      ],
      "execution_count": null,
      "outputs": []
    },
    {
      "cell_type": "code",
      "metadata": {
        "id": "7Atzo5sakSfE"
      },
      "source": [
        "import random\n",
        "def mini_batch(df, b, count, temp_centroids, centroids, groups, cdf1,cdf2, subgr_losses):\n",
        "  #weighted mini-batch sampling\n",
        "  samples = []\n",
        "  group_loss = []\n",
        "  for group in groups:\n",
        "    group_loss.append(group['min_loss'].sum()/len(group))\n",
        "  for key in subgr_losses.keys():\n",
        "    subgr_losses[key].append(group_loss)\n",
        "  weights = softmax(group_loss)\n",
        "  #print('weights: ', weights)\n",
        "  for i, group in enumerate(groups):\n",
        "    samples.append(group.sample(n=int(b*weights[i]), random_state=1))\n",
        "  samp = pd.concat([samp for samp in samples], ignore_index=True, sort=False)\n",
        "  samp = samp.reset_index()\n",
        "  #initializations\n",
        "  sum_x = {}\n",
        "  for i in centroids.keys():\n",
        "    sum_x[i] = 0\n",
        "  sum_y = {}\n",
        "  for i in centroids.keys():\n",
        "    sum_y[i] = 0\n",
        "  for i in centroids.keys():\n",
        "    count[i] = 0\n",
        "  start = time.time()\n",
        "  #update centroid locations using gradient descent\n",
        "  for s in range(len(samp)):\n",
        "    clust = samp.iloc[s]['min_centr']\n",
        "    clust = int(clust)\n",
        "    count[clust]+=1\n",
        "    lr = 1/count[clust]\n",
        "    temp = update_weights(samp.iloc[s], lr, temp_centroids[clust], df)\n",
        "    sum_x[clust] += temp[0]\n",
        "    sum_y[clust] += temp[1]\n",
        "  for i in range(len(temp_centroids)):\n",
        "    if count[i]!= 0:\n",
        "      temp_centroids[i] = (temp_centroids[i][0]-lr*(sum_x[i]/count[i]), temp_centroids[i][1]-lr*(sum_y[i]/count[i]))\n",
        "  end = time.time()\n",
        "  print('Time elapsed Batch Step: ', end - start)\n",
        "  return temp_centroids"
      ],
      "execution_count": null,
      "outputs": []
    },
    {
      "cell_type": "code",
      "metadata": {
        "id": "kkvulHEXxtsV"
      },
      "source": [
        "#updates centroid locations based on gradient descent and loss constraint\n",
        "def update(centroids, df, subgroup_loss, loss, groups, cdf1, cdf2):\n",
        "  #initializations\n",
        "  tot_loss_lst = []\n",
        "  tot_subgroup = []\n",
        "  prev_centr = {}\n",
        "  subgr_losses = {}\n",
        "  for i in range(len(groups)):\n",
        "    subgr_losses[i] = []\n",
        "  for i in centroids.keys():\n",
        "    prev_centr[i] = 0\n",
        "  b = 32\n",
        "  max_iter = 10000\n",
        "  iter_num = 0\n",
        "  conv = 10\n",
        "  j = 0\n",
        "  tot_loss_lst.append(loss)\n",
        "  #set temporary centroids for assignment\n",
        "  temp_centroids = {}\n",
        "  for i in centroids.keys():\n",
        "    temp_centroids[i] = centroids[i]\n",
        "  count = {}\n",
        "  #beginning of updating \n",
        "  start = time.time()\n",
        "  while iter_num < max_iter:\n",
        "    old_loss = loss\n",
        "    #set up for mini batch gradient descent\n",
        "    temp_centroids = mini_batch(df, b, count, temp_centroids, centroids, groups, cdf1, cdf2, subgr_losses)\n",
        "    #testing to see if new centroid locations improve summation of individual loss\n",
        "    temp_df = assign_cluster(df, temp_centroids)\n",
        "    groups = compute_groups(temp_df)\n",
        "    cdf1, cdf2 = compute_cdf(groups)\n",
        "    temp_subgroup_loss = compare_loss(groups[cdf1], groups[cdf2], 40)   \n",
        "    temp_loss = sum_loss(temp_df, temp_centroids, temp_subgroup_loss)\n",
        "    iter_num += 1\n",
        "    if old_loss != temp_loss and j < conv:\n",
        "      #only change centroid locations if it improves subgroup loss\n",
        "      if old_loss > temp_loss:\n",
        "        subgroup_loss = temp_subgroup_loss\n",
        "        loss = temp_loss\n",
        "        df = temp_df\n",
        "        groups = compute_groups(df)\n",
        "        #compute_cdf_graph(groups)\n",
        "        for i in prev_centr.keys():\n",
        "          prev_centr[i] = centroids[i]\n",
        "        for i in centroids.keys():\n",
        "          centroids[i] = temp_centroids[i]\n",
        "        print('c ', centroids)\n",
        "        j = 0\n",
        "      else:\n",
        "        j += 1\n",
        "      # loss = sum_loss(temp_df, centroids, subgroup_loss)\n",
        "      tot_loss_lst.append(loss)\n",
        "      tot_subgroup.append(subgroup_loss)\n",
        "    else:\n",
        "      end = time.time()\n",
        "      print('Time elapsed End of Update Step: ', end - start)\n",
        "      #plot overall cost \n",
        "      plt.title('Cost per iteration')\n",
        "      plt.plot(tot_loss_lst)\n",
        "      plt.show()\n",
        "      plt.plot(tot_subgroup)\n",
        "      plt.show()\n",
        "      count = 0\n",
        "      for k,v in subgr_losses.items():\n",
        "        plt.title(\"Cost per iteration for subgroup %i\" % count)\n",
        "        plt.plot(v[count])\n",
        "        print(v[count])\n",
        "        plt.show()\n",
        "        count+=1\n",
        "      return centroids\n",
        "  #plot overall cost\n",
        "  plt.title('Cost per iteration')\n",
        "  plt.plot(tot_loss_lst)\n",
        "  plt.show()\n",
        "  plt.plot(tot_subgroup)\n",
        "  plt.show()\n",
        "  for k,v in subgr_losses.items():\n",
        "    plt.title(\"Cost per iteration for subgroup %i\" % count)\n",
        "    print(v[count])\n",
        "    plt.plot(v[count])\n",
        "    plt.show()\n",
        "    count+=1\n",
        "  print('Reached max iterations')\n",
        "  print('prev centroids: ', prev_centr)\n",
        "  return centroids  "
      ],
      "execution_count": null,
      "outputs": []
    },
    {
      "cell_type": "code",
      "metadata": {
        "id": "gm1uSK1qNWF-"
      },
      "source": [
        "def compute_cdf(groups):\n",
        "  lst = []\n",
        "  perc = []\n",
        "  for group in groups:\n",
        "    sorted_data = group.sort_values(by=['min_loss'])\n",
        "    sorted_len = len(sorted_data['min_loss'])\n",
        "    yvals = np.arange(sorted_len)/float(sorted_len-1)\n",
        "    lst.append(sorted_data['min_loss'].sum())\n",
        "    subgroup = [sorted_data['min_loss']] # subset the two different groups of interest\n",
        "    perc.append(stats.scoreatpercentile(subgroup, 40))\n",
        "  min_ind = perc.index(min(perc))\n",
        "  max_ind = perc.index(max(perc))\n",
        "  return (max_ind, min_ind)"
      ],
      "execution_count": null,
      "outputs": []
    },
    {
      "cell_type": "code",
      "metadata": {
        "id": "96wNyENwo81a"
      },
      "source": [
        "def compute_cdf_graph(groups):\n",
        "  #this function creates the cdf graph of all subgroups\n",
        "  for group in groups:\n",
        "    sorted_data = group.sort_values(by=['min_loss'])\n",
        "    sorted_len = len(sorted_data['min_loss'])\n",
        "    yvals = np.arange(sorted_len)/float(sorted_len-1)\n",
        "    subgroup = [sorted_data['min_loss']] # subset the two different groups of interest\n",
        "    plt.plot(sorted_data['min_loss'], yvals)\n",
        "  plt.xlabel('loss per individual')\n",
        "  plt.ylabel('% of people within certain loss of centroid')\n",
        "  plt.title('Individual loss- CDF stratified by group')\n",
        "  plt.show()"
      ],
      "execution_count": null,
      "outputs": []
    },
    {
      "cell_type": "code",
      "metadata": {
        "id": "TwUnrQ4UmApY"
      },
      "source": [
        "def compute_groups(df):\n",
        "  #divides the dataframe by subgroup membership\n",
        "  num_groups = df.group.nunique()\n",
        "  groups = []\n",
        "  for i in range(num_groups):\n",
        "    group = df[df['group']==i]\n",
        "    group = group.reset_index()\n",
        "    groups.append(group)\n",
        "  return groups"
      ],
      "execution_count": null,
      "outputs": []
    },
    {
      "cell_type": "code",
      "metadata": {
        "id": "FsW4eBXvvi4k"
      },
      "source": [
        "def compute_clusters(df):\n",
        "  #divides dataframe by centroid membership\n",
        "  num_clusters = df.min_centr.nunique()\n",
        "  clusters = []\n",
        "  for i in range(num_clusters):\n",
        "    cluster = df[df['min_centr']==i]\n",
        "    cluster = cluster.reset_index()\n",
        "    clusters.append(cluster)\n",
        "  return clusters"
      ],
      "execution_count": null,
      "outputs": []
    },
    {
      "cell_type": "code",
      "metadata": {
        "id": "lOSOEF5DnDJE"
      },
      "source": [
        "weights = [.7,.1,.1,.05,.05]"
      ],
      "execution_count": null,
      "outputs": []
    },
    {
      "cell_type": "code",
      "metadata": {
        "id": "l0PFBv30obU-",
        "colab": {
          "base_uri": "https://localhost:8080/",
          "height": 577
        },
        "outputId": "77496433-e5b9-467f-d4c9-b61cfd95de62"
      },
      "source": [
        "from sklearn.datasets import make_blobs\n",
        "from sklearn.datasets import make_classification\n",
        "import random\n",
        "import sys\n",
        "from operator import itemgetter\n",
        "\n",
        "# Generate Imbalanced Synthetic Data\n",
        "center_box = (0,20)\n",
        "# X,y = make_classification(n_samples=800000, n_classes=int(groupNum),shift=15 ,n_informative=4, n_redundant=0,n_repeated=0, n_clusters_per_class=2,class_sep=.8,flip_y=0,weights=[0.65,.15, .12, .08], random_state=55)\n",
        "X, y = make_blobs(n_samples=800000, centers=int(centroids), cluster_std=.6,random_state=0)\n",
        "# X, y = make_blobs(n_samples=1000000, centers=int(groups), n_features=2,center_box=center_box,random_state=0)\n",
        "# create dataframe to hold x and y coordinates\n",
        "df = pd.DataFrame({\n",
        "    'x_coord': X[:,0],\n",
        "    'y_coord': X[:,1]})\n",
        "df['group'] = np.random.randint(0,5, df.shape[0])\n",
        "\n",
        "numList = [i for i in range(int(groupNum))]\n",
        "j = 0\n",
        "for i in range(len(weights)):\n",
        "  df.loc[df.sample(frac=weights[i], replace=False).index, 'group'] = numList[j]\n",
        "  j+=1\n",
        "\n",
        "\n",
        " \n",
        "#arbitrarily picked random k (number of centroids)\n",
        "k = int(centroids)\n",
        "centroids = {}\n",
        "#randomly initialized centroid x and y coordinates (in real data we will actually have these coordinates)\n",
        "centroids[0] = ((random.choice(X[:,0])), (random.choice(X[:,1])))\n",
        "       \n",
        "#K-Means++ \n",
        "for c in range(k - 1): \n",
        "  ## initialize a list to store distances of data \n",
        "  ## points from nearest centroid \n",
        "  dist = [] \n",
        "  for i in range(df.shape[0]): \n",
        "    point = (df['x_coord'][i],df['y_coord'][i])  \n",
        "    d = sys.maxsize \n",
        "                                                                      \n",
        "    ## compute distance of 'point' from each of the previously \n",
        "    ## selected centroid and store the minimum distance \n",
        "    for j in range(len(centroids)): \n",
        "      temp_dist = calc_dist(point[0], point[1], centroids[j][0], centroids[j][1]) \n",
        "      d = min(d, temp_dist) \n",
        "    dist.append(d) \n",
        "              \n",
        "  ## select data point with maximum distance as our next centroid \n",
        "  dist = np.array(dist) \n",
        "  next_centroid = (df['x_coord'][np.argmax(dist)], df['y_coord'][np.argmax(dist)]) \n",
        "  centroids[c+1] = (next_centroid) \n",
        "  dist = [] \n",
        "\n",
        "#colors for centroids\n",
        "color_map = {}\n",
        "for i in range(k):\n",
        "  color_map[i] = 'g'\n",
        "\n",
        "#plot synthetic data\n",
        "fig = plt.figure(figsize=(5,5))\n",
        "ax = sns.scatterplot(X[:,0],X[:,1],hue=y)\n",
        "for i in centroids.keys():\n",
        "  plt.scatter(centroids[i][0], centroids[i][1], color=color_map[i])\n",
        "df = assign_cluster(df, centroids)\n",
        "plt.xlim(-15, 15)\n",
        "plt.ylim(-15, 15)\n",
        "ax.set_title(\"Synthetic Data\")\n",
        "plt.show()\n",
        "\n",
        "centroids"
      ],
      "execution_count": null,
      "outputs": [
        {
          "output_type": "stream",
          "text": [
            "/usr/local/lib/python3.6/dist-packages/seaborn/_decorators.py:43: FutureWarning: Pass the following variables as keyword args: x, y. From version 0.12, the only valid positional argument will be `data`, and passing other arguments without an explicit keyword will result in an error or misinterpretation.\n",
            "  FutureWarning\n"
          ],
          "name": "stderr"
        },
        {
          "output_type": "stream",
          "text": [
            "Time elapsed Assignment Step:  2.5998075008392334\n"
          ],
          "name": "stdout"
        },
        {
          "output_type": "display_data",
          "data": {
            "image/png": "[encoded data removed]",
            "text/plain": [
              "<Figure size 360x360 with 1 Axes>"
            ]
          },
          "metadata": {
            "tags": [],
            "needs_background": "light"
          }
        },
        {
          "output_type": "execute_result",
          "data": {
            "text/plain": [
              "{0: (-7.8080538007012255, 7.156630202096811),\n",
              " 1: (11.782107863650204, -3.4358425839281894),\n",
              " 2: (-9.040484081276762, -10.795649150476276),\n",
              " 3: (6.309683485260199, 9.855549124487371),\n",
              " 4: (0.49757395003321836, -0.8549191390732627),\n",
              " 5: (-0.3674602083129297, 6.560285782397058),\n",
              " 6: (7.305228608395928, 2.529938599643929),\n",
              " 7: (-8.080674068421725, -5.3795347087261876),\n",
              " 8: (-3.909935738657538, 2.303067417698226),\n",
              " 9: (5.380649987759226, -2.1540407595415796)}"
            ]
          },
          "metadata": {
            "tags": []
          },
          "execution_count": 26
        }
      ]
    },
    {
      "cell_type": "code",
      "metadata": {
        "id": "DbWQBWi4D084"
      },
      "source": [
        "centroids=10"
      ],
      "execution_count": null,
      "outputs": []
    },
    {
      "cell_type": "code",
      "metadata": {
        "id": "DhuQNm9f89UY"
      },
      "source": [
        "prev = []\n",
        "\n",
        "for i in range(len(centroids)):\n",
        "  prev.append(list(centroids[i]))"
      ],
      "execution_count": null,
      "outputs": []
    },
    {
      "cell_type": "code",
      "metadata": {
        "id": "OyirNr0kwdTt",
        "colab": {
          "base_uri": "https://localhost:8080/"
        },
        "outputId": "d0c90e6a-b8c2-4922-a0c3-8565cb0521c5"
      },
      "source": [
        "prev"
      ],
      "execution_count": null,
      "outputs": [
        {
          "output_type": "execute_result",
          "data": {
            "text/plain": [
              "[[-7.8080538007012255, 7.156630202096811],\n",
              " [11.782107863650204, -3.4358425839281894],\n",
              " [-9.040484081276762, -10.795649150476276],\n",
              " [6.309683485260199, 9.855549124487371],\n",
              " [0.49757395003321836, -0.8549191390732627],\n",
              " [-0.3674602083129297, 6.560285782397058],\n",
              " [7.305228608395928, 2.529938599643929],\n",
              " [-8.080674068421725, -5.3795347087261876],\n",
              " [-3.909935738657538, 2.303067417698226],\n",
              " [5.380649987759226, -2.1540407595415796]]"
            ]
          },
          "metadata": {
            "tags": []
          },
          "execution_count": 28
        }
      ]
    },
    {
      "cell_type": "code",
      "metadata": {
        "id": "2MEKHTpLhcNV",
        "colab": {
          "base_uri": "https://localhost:8080/",
          "height": 1000
        },
        "outputId": "3aa9bdd4-26e9-44be-da4b-769066f0c864"
      },
      "source": [
        "df = assign_cluster(df, centroids)\n",
        "groups = compute_groups(df)\n",
        "compute_cdf_graph(groups)\n",
        "clusters = compute_clusters(df)\n",
        "cdf1, cdf2 = compute_cdf(groups)\n",
        "#subgroup loss between max and min loss\n",
        "subgroup_loss = compare_loss(groups[cdf1], groups[cdf2], 40)\n",
        "loss = sum_loss(df, centroids, subgroup_loss)\n",
        "update(centroids,df, subgroup_loss, loss, groups, cdf1, cdf2)"
      ],
      "execution_count": null,
      "outputs": [
        {
          "output_type": "stream",
          "text": [
            "Time elapsed Assignment Step:  2.6038899421691895\n"
          ],
          "name": "stdout"
        },
        {
          "output_type": "display_data",
          "data": {
            "image/png": "[encoded data removed]",
            "text/plain": [
              "<Figure size 432x288 with 1 Axes>"
            ]
          },
          "metadata": {
            "tags": [],
            "needs_background": "light"
          }
        },
        {
          "output_type": "stream",
          "text": [
            "0.0003993224831486675\n",
            "total:  0.9025990011856458\n",
            "Time elapsed Batch Step:  0.011980772018432617\n",
            "Time elapsed Assignment Step:  2.506446361541748\n",
            "0.0005644396539072893\n",
            "total:  0.897701596283443\n",
            "c  {0: (-7.921072706691665, 7.133020425601976), 1: (11.71033162245324, -3.415627077448494), 2: (-9.04890748694252, -10.724022001784414), 3: (6.304343964769344, 9.774365780295671), 4: (0.5395483227172766, -0.8012487773790227), 5: (-0.3745781218047204, 6.60738444189643), 6: (7.2591057574253, 2.4510812073201897), 7: (-8.10192854628884, -5.454320157255596), 8: (-3.810503240473286, 2.299320834671603), 9: (5.430457756150821, -2.146375819783088)}\n",
            "Time elapsed Batch Step:  0.012098312377929688\n",
            "Time elapsed Assignment Step:  2.526702404022217\n",
            "0.0005915840323853505\n",
            "total:  0.8922150310929934\n",
            "c  {0: (-8.036134896362114, 7.108831857021585), 1: (11.635790214626969, -3.3946340171274607), 2: (-9.057669226261195, -10.649517884343012), 3: (6.298780714346767, 9.689865678232737), 4: (0.5830640890727057, -0.7455971776371151), 5: (-0.3814673830208328, 6.653826901586985), 6: (7.212081370304057, 2.370640121253607), 7: (-8.124052966776935, -5.532167521728178), 8: (-3.7068272722441127, 2.2954143591235754), 9: (5.481879476704638, -2.1384625378613813)}\n",
            "Time elapsed Batch Step:  0.012321233749389648\n",
            "Time elapsed Assignment Step:  2.9861338138580322\n",
            "0.00061436991371977\n",
            "total:  0.8863109079577083\n",
            "c  {0: (-8.152406700050998, 7.084167326190841), 1: (11.568923402374248, -3.370912625070625), 2: (-9.066789031642871, -10.571969006604684), 3: (6.292982069071073, 9.601889024758847), 4: (0.6282007125012059, -0.687861892947845), 5: (-0.3880957064143459, 6.699543799065608), 6: (7.164308191530265, 2.288876435439354), 7: (-8.147094186898563, -5.613241701508474), 8: (-3.598795921290799, 2.2913437742220997), 9: (5.535616658335642, -2.129426659930285)}\n",
            "Time elapsed Batch Step:  0.017633914947509766\n",
            "Time elapsed Assignment Step:  3.7969772815704346\n",
            "0.0005017359061187943\n",
            "total:  0.8798093860030203\n",
            "c  {0: (-8.268744653099692, 7.05917144221878), 1: (11.499624196304493, -3.3463110985198523), 2: (-9.076287423876874, -10.491200873159057), 3: (6.286936492794503, 9.510281898461509), 4: (0.6750398202939898, -0.6279378297313507), 5: (-0.39443298151234124, 6.744470075581514), 6: (7.115979664605294, 2.2061371938942846), 7: (-8.171099378413572, -5.6977086596489865), 8: (-3.4863471924102756, 2.2871067440088146), 9: (5.591190918753709, -2.1200818781980244)}\n",
            "Time elapsed Batch Step:  0.012227058410644531\n",
            "Time elapsed Assignment Step:  2.504470109939575\n",
            "0.0004339772131661812\n",
            "total:  0.87290014873068\n",
            "c  {0: (-8.383625764795834, 7.034044248759472), 1: (11.427782732609524, -3.3207872668540173), 2: (-9.086185523422877, -10.407033889390176), 3: (6.280632907875695, 9.414902334844141), 4: (0.7236643318661617, -0.5657184687241604), 5: (-0.40045151708963383, 6.788545408799278), 6: (7.067329587216155, 2.122869046151656), 7: (-8.196114984363772, -5.7857317248548386), 8: (-3.36949082655036, 2.282703635519352), 9: (5.64870735257379, -2.1104105210621236)}\n",
            "Time elapsed Batch Step:  0.013500690460205078\n",
            "Time elapsed Assignment Step:  2.527146816253662\n",
            "0.0005999268255689749\n",
            "total:  0.8657978833183552\n",
            "c  {0: (-8.495084336190898, 7.009062597739337), 1: (11.353290762426303, -3.294298911655768), 2: (-9.09650476283027, -10.319285806874694), 3: (6.274061140355423, 9.315628555225553), 4: (0.7741572181682599, -0.501097607724501), 5: (-0.40612620080969486, 6.831714561649555), 6: (7.0186257180720855, 2.0396287122497156), 7: (-8.222185259134427, -5.877466415532031), 8: (-3.2483366892174015, 2.2781385884489698), 9: (5.708278288041835, -2.1003937005889806)}\n",
            "Time elapsed Batch Step:  0.012128829956054688\n",
            "Time elapsed Assignment Step:  2.5335752964019775\n",
            "0.0007004820160081415\n",
            "total:  0.8582449945589092\n",
            "c  {0: (-8.600686982446426, 6.984616568465697), 1: (11.276044359737954, -3.2668045881332146), 2: (-9.107266466414233, -10.227775297542358), 3: (6.267212508049444, 9.212369947371835), 4: (0.826599779548046, -0.4339717913150457), 5: (-0.41143457652277293, 6.873927655442504), 6: (6.970154332839306, 1.9570852220348955), 7: (-8.24935026351826, -5.97305332814169), 8: (-3.1231312310075956, 2.2734208889730887), 9: (5.770023671117467, -2.0900112479305726)}\n",
            "Time elapsed Batch Step:  0.013610601425170898\n",
            "Time elapsed Assignment Step:  2.5190792083740234\n",
            "0.0005570642621681721\n",
            "total:  0.8501178615907337\n",
            "c  {0: (-8.697619209227499, 6.961274622003838), 1: (11.195947531287247, -3.2382647286120445), 2: (-9.118491253322382, -10.13232702960805), 3: (6.260080580166752, 9.105081538742645), 4: (0.8810692987044727, -0.36424364042485013), 5: (-0.41635684673861095, 6.915140375662668), 6: (6.922193866236468, 1.8760063041393833), 7: (-8.27764315301804, -6.072608512762377), 8: (-2.9943036255585547, 2.2685667082097587), 9: (5.834071404706983, -2.0792416562826115)}\n",
            "Time elapsed Batch Step:  0.012326955795288086\n",
            "Time elapsed Assignment Step:  2.526308536529541\n",
            "0.0005177613247285828\n",
            "total:  0.8418274550567916\n",
            "c  {0: (-8.783039383078789, 6.939892563177585), 1: (11.112916969468982, -3.208643100450409), 2: (-9.130198207687764, -10.032778724049548), 3: (6.252662133368607, 8.993782843641178), 4: (0.9376358874654194, -0.2918263547141316), 5: (-0.420875811647713, 6.95531411764236), 6: (6.874980119756645, 1.7972202256731913), 7: (-8.307086558646251, -6.176210618339598), 8: (-2.8625230772284525, 2.2636012615536996), 9: (5.900557612711909, -2.068062036484923)}\n",
            "Time elapsed Batch Step:  0.012076139450073242\n",
            "Time elapsed Assignment Step:  2.518040180206299\n",
            "0.0005578491580263689\n",
            "total:  0.833411163360564\n",
            "c  {0: (-8.85495867854724, 6.921703579749394), 1: (11.02688824108999, -3.1779087034058793), 2: (-9.142403744352965, -9.928990799749963), 3: (6.244958315589501, 8.878582094931888), 4: (0.9963582996692092, -0.21664973596708292), 5: (-0.4249767582345758, 6.994416077245214), 6: (6.828673547693887, 1.721548932045389), 7: (-8.337687815564111, -6.283883931149101), 8: (-2.7287681710665637, 2.258561421759822), 9: (5.969626787360854, -2.056448092247674)}\n",
            "Time elapsed Batch Step:  0.01267385482788086\n",
            "Time elapsed Assignment Step:  2.515442132949829\n",
            "0.0006407498337859252\n",
            "total:  0.8250042082619956\n",
            "c  {0: (-8.913556355649705, 6.907964100857073), 1: (10.945051690431388, -3.1436287140257266), 2: (-9.155120080464, -9.820859370066659), 3: (6.2369759962954, 8.759706951537245), 4: (1.057278426192177, -0.13866817358179256), 5: (-0.4286473135696077, 7.032419289431037), 6: (6.783346291473299, 1.6497221693781272), 7: (-8.369432748509324, -6.39557626103604), 8: (-2.594407380232437, 2.2534987524356547), 9: (5.969626787360854, -2.056448092247674)}\n",
            "Time elapsed Batch Step:  0.011977672576904297\n",
            "Time elapsed Assignment Step:  2.5250723361968994\n",
            "0.0005963209562905858\n",
            "total:  0.8163639596822637\n",
            "c  {0: (-8.9612397786736, 6.898949894803676), 1: (10.860376463156665, -3.108080885980998), 2: (-9.168353202149717, -9.708333532863595), 3: (6.228729214045282, 8.637542728670304), 4: (1.1204141210761263, -0.05787114595927033), 5: (-0.4318772755546896, 7.0693026156632905), 6: (6.739002674773846, 1.582300189474756), 7: (-8.402277679709446, -6.511130471017606), 8: (-2.461285620431383, 2.248482769383307), 9: (5.969626787360854, -2.056448092247674)}\n",
            "Time elapsed Batch Step:  0.01255178451538086\n",
            "Time elapsed Assignment Step:  2.512652635574341\n",
            "0.000710285593905402\n",
            "total:  0.8078448158765317\n",
            "c  {0: (-9.00081723935225, 6.893863416780376), 1: (10.77285347510002, -3.0712437276604927), 2: (-9.182100192154286, -9.591438094581953), 3: (6.2202405019528655, 8.51267887720554), 4: (1.1857499291881322, 0.025703075540692635), 5: (-0.43465843262111814, 7.105050679924683), 6: (6.695627752979937, 1.519636898715554), 7: (-8.43613929662357, -6.630248339575549), 8: (-2.3318024272565596, 2.2436038862953773), 9: (5.969626787360854, -2.056448092247674)}\n",
            "Time elapsed Batch Step:  0.01239633560180664\n",
            "Time elapsed Assignment Step:  2.5248162746429443\n",
            "0.0005087697642766065\n",
            "total:  0.7990799049734022\n",
            "c  {0: (-9.034406774335077, 6.891656004865776), 1: (10.682515665082862, -3.0331089741304598), 2: (-9.196345760378962, -9.470303072250422), 3: (6.211541636259721, 8.385963540796133), 4: (1.2532251963890213, 0.11194968459069479), 5: (-0.4369843815593784, 7.139653752779899), 6: (6.653239553740381, 1.4618946680325866), 7: (-8.470882027538263, -6.752445480610578), 8: (-2.20894848825292, 2.2389747912708122), 9: (5.969626787360854, -2.056448092247674)}\n",
            "Time elapsed Batch Step:  0.012298345565795898\n",
            "Time elapsed Assignment Step:  2.5073699951171875\n",
            "0.0010186277321717618\n",
            "total:  0.7915244975216554\n",
            "c  {0: (-9.063446445280812, 6.8914559355283425), 1: (10.58945144138625, -2.9936858442500003), 2: (-9.211057798648504, -9.345201492852832), 3: (6.20267295861525, 8.258563956395076), 4: (1.2990417206620435, 0.185504475973424), 5: (-0.4409843067142488, 7.1809947464212645), 6: (6.6119211659454065, 1.4090932279920747), 7: (-8.506302672539352, -6.876996410156479), 8: (-2.096233906581303, 2.234727743813941), 9: (5.969626787360854, -2.056448092247674)}\n",
            "Time elapsed Batch Step:  0.012553215026855469\n",
            "Time elapsed Assignment Step:  2.5421271324157715\n",
            "0.0010614901622891804\n",
            "total:  0.7836183344965039\n",
            "c  {0: (-9.08891861089988, 6.892623141613616), 1: (10.493821137160259, -2.953006015401434), 2: (-9.22618177192228, -9.216597086811195), 3: (6.193679845290487, 8.13202614188296), 4: (1.3705122539327887, 0.27547244679532173), 5: (-0.4442892090117844, 7.22062336893725), 6: (6.5718252155099055, 1.3611638940034005), 7: (-8.542112328749338, -7.002869932760983), 8: (-2.0261004222900345, 2.2426955705842992), 9: (5.969626787360854, -2.056448092247674)}\n",
            "Time elapsed Batch Step:  0.01203775405883789\n",
            "Time elapsed Assignment Step:  2.5343575477600098\n",
            "0.0014004230998158063\n",
            "total:  0.7767811423493703\n",
            "c  {0: (-9.11151628287093, 6.894703483998888), 1: (10.39587673206249, -2.911129194443467), 2: (-9.241633778504692, -9.08520329943071), 3: (6.184604312646655, 8.008318925945186), 4: (1.4181004857774941, 0.35259356747833015), 5: (-0.4469016146216578, 7.258553436297121), 6: (6.533157350776786, 1.3179893239499763), 7: (-8.577916342686356, -7.128657633356671), 8: (-1.9389621948350106, 2.2361044449895875), 9: (5.969626787360854, -2.056448092247674)}\n",
            "Time elapsed Batch Step:  0.0123748779296875\n",
            "Time elapsed Assignment Step:  2.5420515537261963\n",
            "0.0016204083534849811\n",
            "total:  0.7700685630830206\n",
            "c  {0: (-9.131745178978324, 6.897376918379766), 1: (10.295984807763661, -2.8681489744531667), 2: (-9.25729220051738, -8.952054289839246), 3: (6.1754700205381345, 7.889832764374183), 4: (1.4929143583686175, 0.44471513746974073), 5: (-0.4488260334835087, 7.294807971116147), 6: (6.496149249148058, 1.2794231462790557), 7: (-8.613194531475939, -7.25250400581701), 8: (-1.8822588080732023, 2.244726789221896), 9: (5.969626787360854, -2.056448092247674)}\n",
            "Time elapsed Batch Step:  0.012604475021362305\n",
            "Time elapsed Assignment Step:  2.5314316749572754\n",
            "0.001565622876422812\n",
            "total:  0.7643650634994424\n",
            "c  {0: (-9.149985563835141, 6.900417645672835), 1: (10.19465212311372, -2.8241983891819515), 2: (-9.272988107215905, -8.818586534924005), 3: (6.166262521785043, 7.779283288779734), 4: (1.5413582932846732, 0.5240517973627619), 5: (-0.45006864445537464, 7.329418328170148), 6: (6.4610294919904705, 1.245292934828487), 7: (-8.647286967266968, -7.37205849939634), 8: (-1.829475914906362, 2.2357111853190146), 9: (5.969626787360854, -2.056448092247674)}\n",
            "Time elapsed Batch Step:  0.012456893920898438\n",
            "Time elapsed Assignment Step:  2.5017037391662598\n",
            "0.0014407213873699476\n",
            "total:  0.7594438530281157\n",
            "c  {0: (-9.16653076606076, 6.903666020854892), 1: (10.092552143056434, -2.7794542328906897), 2: (-9.28849514382386, -8.686724808092604), 3: (6.156917492774514, 7.679455042942365), 4: (1.5901810666547391, 0.6033598220384798), 5: (-0.45063701869600176, 7.362423249124474), 6: (6.427997608954111, 1.215393526287989), 7: (-8.679396223287817, -7.4844915305168405), 8: (-1.7941077878870078, 2.229670117752191), 9: (5.969626787360854, -2.056448092247674)}\n",
            "Time elapsed Batch Step:  0.012265205383300781\n",
            "Time elapsed Assignment Step:  2.5066733360290527\n",
            "0.0013990847421707642\n",
            "total:  0.7554563882646955\n",
            "c  {0: (-9.18161202665422, 6.907009137790335), 1: (9.990549121794375, -2.7341389212543534), 2: (-9.3035208780035, -8.558955763243599), 3: (6.147346079803501, 7.592749943360219), 4: (1.6390723513525651, 0.6820019939733262), 5: (-0.4505398752779391, 7.3938678729433205), 6: (6.397204378849885, 1.1894780953817086), 7: (-8.708625562200345, -7.586649784752886), 8: (-1.7724597305675691, 2.2259725123662566), 9: (5.969626787360854, -2.056448092247674)}\n",
            "Time elapsed Batch Step:  0.011997461318969727\n",
            "Time elapsed Assignment Step:  2.5457730293273926\n",
            "0.0012205806516764062\n",
            "total:  0.7521164557344303\n",
            "c  {0: (-9.195415081234904, 6.910367388861551), 1: (9.889713791300098, -2.688518742525238), 2: (-9.317704038495846, -8.438351415570356), 3: (6.13752177038445, 7.520627138683015), 4: (1.6876317112114652, 0.7592133060630961), 5: (-0.4497868630780437, 7.423802729674781), 6: (6.368739848196963, 1.1672532656507217), 7: (-8.734080608740019, -7.67545485643267), 8: (-1.760172157071594, 2.223873728292085), 9: (5.969626787360854, -2.056448092247674)}\n",
            "Time elapsed Batch Step:  0.012717962265014648\n",
            "Time elapsed Assignment Step:  2.5318195819854736\n",
            "0.0010554861825877726\n",
            "total:  0.7494588328065177\n",
            "c  {0: (-9.208091564986807, 6.913685077930214), 1: (9.791321584692016, -2.6428983674665307), 2: (-9.330626294532156, -8.328468977127455), 3: (6.127587761354964, 7.463195211394764), 4: (1.7353493258260015, 0.8341113683286278), 5: (-0.44838836387727693, 7.452282744387639), 6: (6.34262918533508, 1.1483822404776902), 7: (-8.755054729393587, -7.748605668904566), 8: (-1.7535618881368744, 2.222744658572118), 9: (5.969626787360854, -2.056448092247674)}\n",
            "Time elapsed Batch Step:  0.01263880729675293\n",
            "Time elapsed Assignment Step:  2.5264499187469482\n",
            "0.0013846441714295832\n",
            "total:  0.7478267865368288\n",
            "c  {0: (-9.2197670649532, 6.916923792463881), 1: (9.696821754089235, -2.5976141138006987), 2: (-9.34185235941217, -8.233009842153812), 3: (6.1178724289981865, 7.419231658108915), 4: (1.7815890527729128, 0.9057388175056232), 5: (-0.4463553128613734, 7.479366275339976), 6: (6.318835533147367, 1.1324967910284318), 7: (-8.771265551599628, -7.805404636232913), 8: (-1.7501226692594245, 2.2221572213689997), 9: (5.969626787360854, -2.056448092247674)}\n",
            "Time elapsed Batch Step:  0.013059616088867188\n",
            "Time elapsed Assignment Step:  2.5464563369750977\n",
            "0.0013214812330218928\n",
            "total:  0.746223175841049\n",
            "c  {0: (-9.230546935040215, 6.920057672923489), 1: (9.607765979831838, -2.5530325741291504), 2: (-9.351012386763058, -8.15511894301894), 3: (6.108769270283582, 7.386634478310589), 4: (1.8255866046427964, 0.9731592846158456), 5: (-0.44369903401266403, 7.50511420651448), 6: (6.297268520489759, 1.1192157231926092), 7: (-8.783005751309297, -7.847142103592678), 8: (-1.7483669053827167, 2.2218573273937046), 9: (5.969626787360854, -2.056448092247674)}\n",
            "Time elapsed Batch Step:  0.012521505355834961\n",
            "Time elapsed Assignment Step:  2.525331974029541\n",
            "0.0013201414966408365\n",
            "total:  0.7450362917067713\n",
            "c  {0: (-9.2405205779656, 6.923070002755183), 1: (9.525690069342913, -2.509564340092453), 2: (-9.357921228321256, -8.096370659816902), 3: (6.1005863074741224, 7.363021014706209), 4: (1.8664913870554856, 1.0356221741279565), 5: (-0.440431089011311, 7.529589110023439), 6: (6.2777967526068865, 1.1081652873268122), 7: (-8.791043134023258, -7.876556616315984), 8: (-1.7474796205775056, 2.2217057743454935), 9: (5.969626787360854, -2.056448092247674)}\n",
            "Time elapsed Batch Step:  0.012333393096923828\n",
            "Time elapsed Assignment Step:  2.5334503650665283\n",
            "0.0015881086151140478\n",
            "total:  0.7444300458371017\n",
            "c  {0: (-9.249764652128514, 6.925950729015021), 1: (9.451949025182243, -2.4676991829023462), 2: (-9.362679960001175, -8.05590550888538), 3: (6.093476718273804, 7.346181906514842), 4: (1.9034915574877935, 1.0927659349761643), 5: (-0.43656313911832845, 7.5528544890787614), 6: (6.26026217907462, 1.0989967685315472), 7: (-8.796316039717407, -7.896761072024776), 8: (-1.747033579456211, 2.22162958810725), 9: (5.969626787360854, -2.056448092247674)}\n",
            "Time elapsed Batch Step:  0.012441396713256836\n",
            "Time elapsed Assignment Step:  2.547926425933838\n",
            "0.0014245702322867038\n",
            "total:  0.7436589294744713\n",
            "c  {0: (-9.258345509207379, 6.9286946464901895), 1: (9.387500311321642, -2.4280515835273744), 2: (-9.365667876694827, -8.030498213809336), 3: (6.087455079628747, 7.334294456825767), 4: (1.936019577229642, 1.1447408845994598), 5: (-0.4321068200690566, 7.574974107647195), 6: (6.244494004496973, 1.091398166451678), 7: (-8.799667274958598, -7.910457480693099), 8: (-1.7468099530514292, 2.2215913915066703), 9: (5.969626787360854, -2.056448092247674)}\n",
            "Time elapsed Batch Step:  0.01256561279296875\n",
            "Time elapsed Assignment Step:  2.5132734775543213\n",
            "0.0015755996401191075\n",
            "total:  0.7434201391770271\n",
            "c  {0: (-9.266321071534744, 6.931300059894239), 1: (9.33260450378544, -2.391352268349503), 2: (-9.367398067451493, -8.015785799910436), 3: (6.082447238526326, 7.325955938335232), 4: (1.9639201448201804, 1.1921208599930497), 5: (-0.4270736302916522, 7.5960114088538555), 6: (6.230320210102624, 1.085099341447144), 7: (-8.801740112700964, -7.919688899654533), 8: (-1.7466979876068538, 2.2215722672025913), 9: (5.969626787360854, -2.056448092247674)}\n",
            "Time elapsed Batch Step:  0.012078046798706055\n",
            "Time elapsed Assignment Step:  2.5532641410827637\n",
            "0.001587004665861147\n",
            "total:  0.7432092349169839\n",
            "c  {0: (-9.273742295153962, 6.933767793789279), 1: (9.28652027086222, -2.358207509481051), 2: (-9.368341433315397, -8.00776403179361), 3: (6.078336130045387, 7.320130149598009), 4: (1.9874389574246767, 1.2356546748925366), 5: (-0.42147483283545295, 7.616029020824055), 6: (6.217575732065204, 1.0798719028514372), 7: (-8.802985508153933, -7.925899122054294), 8: (-1.7466419667257034, 2.221562698532811), 9: (5.969626787360854, -2.056448092247674)}\n",
            "Time elapsed Batch Step:  0.012192726135253906\n",
            "Time elapsed Assignment Step:  2.541123628616333\n",
            "0.0015736455147002948\n",
            "total:  0.7430972143759205\n",
            "c  {0: (-9.280654322278078, 6.93610045751679), 1: (9.247736941806986, -2.3286815101163607), 2: (-9.368836201926614, -8.003556842173403), 3: (6.074992269978603, 7.316069896077302), 4: (2.0070635090034896, 1.2760500630252347), 5: (-0.41532137131281865, 7.63508834602767), 6: (6.206107355016252, 1.075525825338332), 7: (-8.803705977910441, -7.930077000012932), 8: (-1.7466139467330803, 2.22155791256638), 9: (5.969626787360854, -2.056448092247674)}\n",
            "Time elapsed Batch Step:  0.014402389526367188\n",
            "Time elapsed Assignment Step:  2.5346670150756836\n",
            "0.0018106319828355977\n",
            "total:  0.7433260375145623\n",
            "Time elapsed Batch Step:  0.012579679489135742\n",
            "Time elapsed Assignment Step:  2.5168380737304688\n",
            "0.0018341565480179955\n",
            "total:  0.7434076795966663\n",
            "Time elapsed Batch Step:  0.012313604354858398\n",
            "Time elapsed Assignment Step:  2.5269813537597656\n",
            "0.0019455242473235268\n",
            "total:  0.7436260971418274\n",
            "Time elapsed Batch Step:  0.012439250946044922\n",
            "Time elapsed Assignment Step:  2.529172658920288\n",
            "0.001733796021680778\n",
            "total:  0.7435574497905562\n",
            "Time elapsed Batch Step:  0.012506961822509766\n",
            "Time elapsed Assignment Step:  2.541390895843506\n",
            "0.0016292410548914837\n",
            "total:  0.7436225028781894\n",
            "Time elapsed Batch Step:  0.012152910232543945\n",
            "Time elapsed Assignment Step:  2.546287775039673\n",
            "0.0016248228248079144\n",
            "total:  0.7438067707060699\n",
            "Time elapsed Batch Step:  0.012516975402832031\n",
            "Time elapsed Assignment Step:  2.5383265018463135\n",
            "0.0017464665261188728\n",
            "total:  0.7441305559530477\n",
            "Time elapsed Batch Step:  0.01227116584777832\n",
            "Time elapsed Assignment Step:  2.543262004852295\n",
            "0.0017057868309767743\n",
            "total:  0.7443011634406255\n",
            "Time elapsed Batch Step:  0.012431144714355469\n",
            "Time elapsed Assignment Step:  2.5361948013305664\n",
            "0.0017946911769974871\n",
            "total:  0.7446072100532671\n",
            "Time elapsed Batch Step:  0.012697458267211914\n",
            "Time elapsed Assignment Step:  2.548772096633911\n",
            "0.0017570952059671185\n",
            "total:  0.7447899090821607\n",
            "Time elapsed Batch Step:  0.012537479400634766\n",
            "Time elapsed Assignment Step:  2.5514657497406006\n",
            "0.0016579069772737487\n",
            "total:  0.7449118452446736\n",
            "Time elapsed End of Update Step:  152.96863222122192\n"
          ],
          "name": "stdout"
        },
        {
          "output_type": "display_data",
          "data": {
            "image/png": "[encoded data removed]",
            "text/plain": [
              "<Figure size 432x288 with 1 Axes>"
            ]
          },
          "metadata": {
            "tags": [],
            "needs_background": "light"
          }
        },
        {
          "output_type": "display_data",
          "data": {
            "image/png": "[encoded data removed]",
            "text/plain": [
              "<Figure size 432x288 with 1 Axes>"
            ]
          },
          "metadata": {
            "tags": [],
            "needs_background": "light"
          }
        },
        {
          "output_type": "stream",
          "text": [
            "[0.9021944915244422, 0.9022336363965737, 0.902376345723419, 0.9021694346181632, 0.9019622184863436]\n"
          ],
          "name": "stdout"
        },
        {
          "output_type": "display_data",
          "data": {
            "image/png": "[encoded data removed]",
            "text/plain": [
              "<Figure size 432x288 with 1 Axes>"
            ]
          },
          "metadata": {
            "tags": [],
            "needs_background": "light"
          }
        },
        {
          "output_type": "stream",
          "text": [
            "[0.8971285598465822, 0.897186155799812, 0.8973271814138876, 0.8970872490287437, 0.8968999072978746]\n"
          ],
          "name": "stdout"
        },
        {
          "output_type": "display_data",
          "data": {
            "image/png": "[encoded data removed]",
            "text/plain": [
              "<Figure size 432x288 with 1 Axes>"
            ]
          },
          "metadata": {
            "tags": [],
            "needs_background": "light"
          }
        },
        {
          "output_type": "stream",
          "text": [
            "[0.8916110066823653, 0.8916883571260089, 0.8918266316089177, 0.8915536753064753, 0.8913882991037267]\n"
          ],
          "name": "stdout"
        },
        {
          "output_type": "display_data",
          "data": {
            "image/png": "[encoded data removed]",
            "text/plain": [
              "<Figure size 432x288 with 1 Axes>"
            ]
          },
          "metadata": {
            "tags": [],
            "needs_background": "light"
          }
        },
        {
          "output_type": "stream",
          "text": [
            "[0.8856802589434998, 0.8857777891756845, 0.8859119586832358, 0.8856054894774193, 0.8854655834876315]\n"
          ],
          "name": "stdout"
        },
        {
          "output_type": "display_data",
          "data": {
            "image/png": "[encoded data removed]",
            "text/plain": [
              "<Figure size 432x288 with 1 Axes>"
            ]
          },
          "metadata": {
            "tags": [],
            "needs_background": "light"
          }
        },
        {
          "output_type": "stream",
          "text": [
            "[0.8792873767787106, 0.8794053716746957, 0.8795352737272182, 0.8791921909167145, 0.8790847274561888]\n"
          ],
          "name": "stdout"
        },
        {
          "output_type": "display_data",
          "data": {
            "image/png": "[encoded data removed]",
            "text/plain": [
              "<Figure size 432x288 with 1 Axes>"
            ]
          },
          "metadata": {
            "tags": [],
            "needs_background": "light"
          }
        },
        {
          "output_type": "execute_result",
          "data": {
            "text/plain": [
              "{0: (-9.280654322278078, 6.93610045751679),\n",
              " 1: (9.247736941806986, -2.3286815101163607),\n",
              " 2: (-9.368836201926614, -8.003556842173403),\n",
              " 3: (6.074992269978603, 7.316069896077302),\n",
              " 4: (2.0070635090034896, 1.2760500630252347),\n",
              " 5: (-0.41532137131281865, 7.63508834602767),\n",
              " 6: (6.206107355016252, 1.075525825338332),\n",
              " 7: (-8.803705977910441, -7.930077000012932),\n",
              " 8: (-1.7466139467330803, 2.22155791256638),\n",
              " 9: (5.969626787360854, -2.056448092247674)}"
            ]
          },
          "metadata": {
            "tags": []
          },
          "execution_count": 29
        }
      ]
    },
    {
      "cell_type": "code",
      "metadata": {
        "id": "TAMQEXmAYTC_",
        "colab": {
          "base_uri": "https://localhost:8080/",
          "height": 434
        },
        "outputId": "3e80659d-9a2a-481d-f835-356d80ecc6d5"
      },
      "source": [
        "from sklearn.cluster import KMeans\n",
        "def KMeans_orig(df, data, centr):\n",
        "  kmeans = KMeans(init=centr, n_clusters=10, random_state=0).fit(data)\n",
        "  centr =  kmeans.cluster_centers_\n",
        "  centroids = {}\n",
        "  for i in range(len(centr)):\n",
        "    centroids[i] = centr[i]\n",
        "  df = assign_cluster(df, centroids)\n",
        "  df['min_centr'] = kmeans.labels_\n",
        "  df['min_loss'] = df[['loss_from_{}'.format(i) for i in centroids.keys()]].min(axis=1)\n",
        "  groups = compute_groups(df)\n",
        "  compute_cdf_graph(groups)\n",
        "  clusters = compute_clusters(df)\n",
        "  cdf1, cdf2 = compute_cdf(groups)\n",
        "  #subgroup loss between max and min loss\n",
        "  subgroup_loss = compare_loss(groups[cdf1], groups[cdf2], 40)\n",
        "  loss = sum_loss(df, centroids, subgroup_loss)\n",
        "  return (subgroup_loss, loss, kmeans)\n",
        "subgroup, tot, kmeans = KMeans_orig(df, X, np.array(prev))\n",
        "print('subgroup ', subgroup)\n",
        "print('tot ', tot)"
      ],
      "execution_count": null,
      "outputs": [
        {
          "output_type": "stream",
          "text": [
            "/usr/local/lib/python3.6/dist-packages/ipykernel_launcher.py:3: RuntimeWarning: Explicit initial center position passed: performing only one init in k-means instead of n_init=10\n",
            "  This is separate from the ipykernel package so we can avoid doing imports until\n"
          ],
          "name": "stderr"
        },
        {
          "output_type": "stream",
          "text": [
            "Time elapsed Assignment Step:  2.536813974380493\n"
          ],
          "name": "stdout"
        },
        {
          "output_type": "display_data",
          "data": {
            "image/png": "[encoded data removed]",
            "text/plain": [
              "<Figure size 432x288 with 1 Axes>"
            ]
          },
          "metadata": {
            "tags": [],
            "needs_background": "light"
          }
        },
        {
          "output_type": "stream",
          "text": [
            "0.001550589824971249\n",
            "total:  0.7226820634372852\n",
            "subgroup  0.001550589824971249\n",
            "tot  0.7226820634372852\n"
          ],
          "name": "stdout"
        }
      ]
    },
    {
      "cell_type": "code",
      "metadata": {
        "id": "atv_Uao4cI5h",
        "colab": {
          "base_uri": "https://localhost:8080/"
        },
        "outputId": "8495f1f6-a00a-4ac3-9559-a598bf55f9b0"
      },
      "source": [
        "df = assign_cluster(df, centroids)\n",
        "df"
      ],
      "execution_count": null,
      "outputs": [
        {
          "output_type": "stream",
          "text": [
            "Time elapsed Assignment Step:  2.536750078201294\n"
          ],
          "name": "stdout"
        },
        {
          "output_type": "execute_result",
          "data": {
            "text/html": [
              "<div>\n",
              "<style scoped>\n",
              "    .dataframe tbody tr th:only-of-type {\n",
              "        vertical-align: middle;\n",
              "    }\n",
              "\n",
              "    .dataframe tbody tr th {\n",
              "        vertical-align: top;\n",
              "    }\n",
              "\n",
              "    .dataframe thead th {\n",
              "        text-align: right;\n",
              "    }\n",
              "</style>\n",
              "<table border=\"1\" class=\"dataframe\">\n",
              "  <thead>\n",
              "    <tr style=\"text-align: right;\">\n",
              "      <th></th>\n",
              "      <th>x_coord</th>\n",
              "      <th>y_coord</th>\n",
              "      <th>group</th>\n",
              "      <th>loss_from_0</th>\n",
              "      <th>dist_from_0</th>\n",
              "      <th>loss_from_1</th>\n",
              "      <th>dist_from_1</th>\n",
              "      <th>loss_from_2</th>\n",
              "      <th>dist_from_2</th>\n",
              "      <th>loss_from_3</th>\n",
              "      <th>dist_from_3</th>\n",
              "      <th>loss_from_4</th>\n",
              "      <th>dist_from_4</th>\n",
              "      <th>loss_from_5</th>\n",
              "      <th>dist_from_5</th>\n",
              "      <th>loss_from_6</th>\n",
              "      <th>dist_from_6</th>\n",
              "      <th>loss_from_7</th>\n",
              "      <th>dist_from_7</th>\n",
              "      <th>loss_from_8</th>\n",
              "      <th>dist_from_8</th>\n",
              "      <th>loss_from_9</th>\n",
              "      <th>dist_from_9</th>\n",
              "      <th>min_centr</th>\n",
              "      <th>min_loss</th>\n",
              "    </tr>\n",
              "  </thead>\n",
              "  <tbody>\n",
              "    <tr>\n",
              "      <th>0</th>\n",
              "      <td>-1.482851</td>\n",
              "      <td>7.359652</td>\n",
              "      <td>2</td>\n",
              "      <td>0.999594</td>\n",
              "      <td>7.809298</td>\n",
              "      <td>0.999999</td>\n",
              "      <td>14.457155</td>\n",
              "      <td>1.000000</td>\n",
              "      <td>17.268960</td>\n",
              "      <td>0.999478</td>\n",
              "      <td>7.557969</td>\n",
              "      <td>0.999101</td>\n",
              "      <td>7.013539</td>\n",
              "      <td>0.750726</td>\n",
              "      <td>1.102490</td>\n",
              "      <td>0.999951</td>\n",
              "      <td>9.930273</td>\n",
              "      <td>1.000000</td>\n",
              "      <td>16.952013</td>\n",
              "      <td>0.994204</td>\n",
              "      <td>5.144860</td>\n",
              "      <td>0.999994</td>\n",
              "      <td>12.008429</td>\n",
              "      <td>5</td>\n",
              "      <td>0.750726</td>\n",
              "    </tr>\n",
              "    <tr>\n",
              "      <th>1</th>\n",
              "      <td>-9.008597</td>\n",
              "      <td>7.132723</td>\n",
              "      <td>0</td>\n",
              "      <td>0.583139</td>\n",
              "      <td>0.335672</td>\n",
              "      <td>1.000000</td>\n",
              "      <td>20.562391</td>\n",
              "      <td>1.000000</td>\n",
              "      <td>15.140566</td>\n",
              "      <td>1.000000</td>\n",
              "      <td>15.084704</td>\n",
              "      <td>0.999996</td>\n",
              "      <td>12.475792</td>\n",
              "      <td>0.999817</td>\n",
              "      <td>8.607947</td>\n",
              "      <td>1.000000</td>\n",
              "      <td>16.376107</td>\n",
              "      <td>1.000000</td>\n",
              "      <td>15.064194</td>\n",
              "      <td>0.999844</td>\n",
              "      <td>8.766752</td>\n",
              "      <td>1.000000</td>\n",
              "      <td>17.572366</td>\n",
              "      <td>0</td>\n",
              "      <td>0.583139</td>\n",
              "    </tr>\n",
              "    <tr>\n",
              "      <th>2</th>\n",
              "      <td>-1.180691</td>\n",
              "      <td>8.795453</td>\n",
              "      <td>2</td>\n",
              "      <td>0.999754</td>\n",
              "      <td>8.310631</td>\n",
              "      <td>1.000000</td>\n",
              "      <td>15.247901</td>\n",
              "      <td>1.000000</td>\n",
              "      <td>18.688297</td>\n",
              "      <td>0.999392</td>\n",
              "      <td>7.404966</td>\n",
              "      <td>0.999716</td>\n",
              "      <td>8.167202</td>\n",
              "      <td>0.800600</td>\n",
              "      <td>1.390049</td>\n",
              "      <td>0.999977</td>\n",
              "      <td>10.684665</td>\n",
              "      <td>1.000000</td>\n",
              "      <td>18.380797</td>\n",
              "      <td>0.998639</td>\n",
              "      <td>6.598209</td>\n",
              "      <td>0.999998</td>\n",
              "      <td>12.995799</td>\n",
              "      <td>5</td>\n",
              "      <td>0.800600</td>\n",
              "    </tr>\n",
              "    <tr>\n",
              "      <th>3</th>\n",
              "      <td>-1.712523</td>\n",
              "      <td>3.300831</td>\n",
              "      <td>1</td>\n",
              "      <td>0.999774</td>\n",
              "      <td>8.395940</td>\n",
              "      <td>0.999996</td>\n",
              "      <td>12.321473</td>\n",
              "      <td>0.999999</td>\n",
              "      <td>13.653143</td>\n",
              "      <td>0.999843</td>\n",
              "      <td>8.761708</td>\n",
              "      <td>0.985727</td>\n",
              "      <td>4.234980</td>\n",
              "      <td>0.989273</td>\n",
              "      <td>4.524215</td>\n",
              "      <td>0.999732</td>\n",
              "      <td>8.225368</td>\n",
              "      <td>0.999998</td>\n",
              "      <td>13.282250</td>\n",
              "      <td>0.746458</td>\n",
              "      <td>1.079811</td>\n",
              "      <td>0.999914</td>\n",
              "      <td>9.365674</td>\n",
              "      <td>8</td>\n",
              "      <td>0.746458</td>\n",
              "    </tr>\n",
              "    <tr>\n",
              "      <th>4</th>\n",
              "      <td>-8.500992</td>\n",
              "      <td>-9.305200</td>\n",
              "      <td>4</td>\n",
              "      <td>1.000000</td>\n",
              "      <td>16.260004</td>\n",
              "      <td>1.000000</td>\n",
              "      <td>19.070637</td>\n",
              "      <td>0.826988</td>\n",
              "      <td>1.564426</td>\n",
              "      <td>1.000000</td>\n",
              "      <td>22.107147</td>\n",
              "      <td>1.000000</td>\n",
              "      <td>14.912481</td>\n",
              "      <td>1.000000</td>\n",
              "      <td>18.771027</td>\n",
              "      <td>1.000000</td>\n",
              "      <td>18.001618</td>\n",
              "      <td>0.803458</td>\n",
              "      <td>1.408048</td>\n",
              "      <td>0.999998</td>\n",
              "      <td>13.359932</td>\n",
              "      <td>1.000000</td>\n",
              "      <td>16.184660</td>\n",
              "      <td>7</td>\n",
              "      <td>0.803458</td>\n",
              "    </tr>\n",
              "    <tr>\n",
              "      <th>...</th>\n",
              "      <td>...</td>\n",
              "      <td>...</td>\n",
              "      <td>...</td>\n",
              "      <td>...</td>\n",
              "      <td>...</td>\n",
              "      <td>...</td>\n",
              "      <td>...</td>\n",
              "      <td>...</td>\n",
              "      <td>...</td>\n",
              "      <td>...</td>\n",
              "      <td>...</td>\n",
              "      <td>...</td>\n",
              "      <td>...</td>\n",
              "      <td>...</td>\n",
              "      <td>...</td>\n",
              "      <td>...</td>\n",
              "      <td>...</td>\n",
              "      <td>...</td>\n",
              "      <td>...</td>\n",
              "      <td>...</td>\n",
              "      <td>...</td>\n",
              "      <td>...</td>\n",
              "      <td>...</td>\n",
              "      <td>...</td>\n",
              "      <td>...</td>\n",
              "    </tr>\n",
              "    <tr>\n",
              "      <th>799995</th>\n",
              "      <td>9.586739</td>\n",
              "      <td>-1.920573</td>\n",
              "      <td>0</td>\n",
              "      <td>1.000000</td>\n",
              "      <td>20.842725</td>\n",
              "      <td>0.629610</td>\n",
              "      <td>0.530542</td>\n",
              "      <td>1.000000</td>\n",
              "      <td>19.907700</td>\n",
              "      <td>0.999949</td>\n",
              "      <td>9.881697</td>\n",
              "      <td>0.999733</td>\n",
              "      <td>8.226170</td>\n",
              "      <td>0.999999</td>\n",
              "      <td>13.832999</td>\n",
              "      <td>0.989199</td>\n",
              "      <td>4.517220</td>\n",
              "      <td>1.000000</td>\n",
              "      <td>19.347418</td>\n",
              "      <td>0.999994</td>\n",
              "      <td>12.066571</td>\n",
              "      <td>0.973907</td>\n",
              "      <td>3.619663</td>\n",
              "      <td>1</td>\n",
              "      <td>0.629610</td>\n",
              "    </tr>\n",
              "    <tr>\n",
              "      <th>799996</th>\n",
              "      <td>5.119517</td>\n",
              "      <td>0.631933</td>\n",
              "      <td>3</td>\n",
              "      <td>1.000000</td>\n",
              "      <td>15.719652</td>\n",
              "      <td>0.993819</td>\n",
              "      <td>5.080102</td>\n",
              "      <td>1.000000</td>\n",
              "      <td>16.866655</td>\n",
              "      <td>0.998833</td>\n",
              "      <td>6.752083</td>\n",
              "      <td>0.960013</td>\n",
              "      <td>3.178404</td>\n",
              "      <td>0.999867</td>\n",
              "      <td>8.926288</td>\n",
              "      <td>0.763804</td>\n",
              "      <td>1.173650</td>\n",
              "      <td>1.000000</td>\n",
              "      <td>16.345157</td>\n",
              "      <td>0.999131</td>\n",
              "      <td>7.047741</td>\n",
              "      <td>0.943725</td>\n",
              "      <td>2.819589</td>\n",
              "      <td>6</td>\n",
              "      <td>0.763804</td>\n",
              "    </tr>\n",
              "    <tr>\n",
              "      <th>799997</th>\n",
              "      <td>1.245637</td>\n",
              "      <td>8.073367</td>\n",
              "      <td>1</td>\n",
              "      <td>0.999975</td>\n",
              "      <td>10.587548</td>\n",
              "      <td>0.999998</td>\n",
              "      <td>13.123880</td>\n",
              "      <td>1.000000</td>\n",
              "      <td>19.264851</td>\n",
              "      <td>0.992523</td>\n",
              "      <td>4.888371</td>\n",
              "      <td>0.998931</td>\n",
              "      <td>6.839831</td>\n",
              "      <td>0.847846</td>\n",
              "      <td>1.717809</td>\n",
              "      <td>0.999812</td>\n",
              "      <td>8.577648</td>\n",
              "      <td>1.000000</td>\n",
              "      <td>18.897076</td>\n",
              "      <td>0.998604</td>\n",
              "      <td>6.572460</td>\n",
              "      <td>0.999986</td>\n",
              "      <td>11.177174</td>\n",
              "      <td>5</td>\n",
              "      <td>0.847846</td>\n",
              "    </tr>\n",
              "    <tr>\n",
              "      <th>799998</th>\n",
              "      <td>1.066690</td>\n",
              "      <td>4.346718</td>\n",
              "      <td>0</td>\n",
              "      <td>0.999977</td>\n",
              "      <td>10.666417</td>\n",
              "      <td>0.999974</td>\n",
              "      <td>10.558905</td>\n",
              "      <td>1.000000</td>\n",
              "      <td>16.168781</td>\n",
              "      <td>0.997048</td>\n",
              "      <td>5.822383</td>\n",
              "      <td>0.961262</td>\n",
              "      <td>3.211433</td>\n",
              "      <td>0.973581</td>\n",
              "      <td>3.606902</td>\n",
              "      <td>0.997745</td>\n",
              "      <td>6.092151</td>\n",
              "      <td>1.000000</td>\n",
              "      <td>15.752600</td>\n",
              "      <td>0.971412</td>\n",
              "      <td>3.525760</td>\n",
              "      <td>0.999686</td>\n",
              "      <td>8.064696</td>\n",
              "      <td>4</td>\n",
              "      <td>0.961262</td>\n",
              "    </tr>\n",
              "    <tr>\n",
              "      <th>799999</th>\n",
              "      <td>1.569900</td>\n",
              "      <td>8.281168</td>\n",
              "      <td>1</td>\n",
              "      <td>0.999982</td>\n",
              "      <td>10.933606</td>\n",
              "      <td>0.999998</td>\n",
              "      <td>13.096491</td>\n",
              "      <td>1.000000</td>\n",
              "      <td>19.617548</td>\n",
              "      <td>0.990120</td>\n",
              "      <td>4.607306</td>\n",
              "      <td>0.999106</td>\n",
              "      <td>7.018745</td>\n",
              "      <td>0.889703</td>\n",
              "      <td>2.087707</td>\n",
              "      <td>0.999810</td>\n",
              "      <td>8.568296</td>\n",
              "      <td>1.000000</td>\n",
              "      <td>19.246199</td>\n",
              "      <td>0.999001</td>\n",
              "      <td>6.907832</td>\n",
              "      <td>0.999987</td>\n",
              "      <td>11.234941</td>\n",
              "      <td>5</td>\n",
              "      <td>0.889703</td>\n",
              "    </tr>\n",
              "  </tbody>\n",
              "</table>\n",
              "<p>800000 rows × 25 columns</p>\n",
              "</div>"
            ],
            "text/plain": [
              "         x_coord   y_coord  group  ...  dist_from_9  min_centr  min_loss\n",
              "0      -1.482851  7.359652      2  ...    12.008429          5  0.750726\n",
              "1      -9.008597  7.132723      0  ...    17.572366          0  0.583139\n",
              "2      -1.180691  8.795453      2  ...    12.995799          5  0.800600\n",
              "3      -1.712523  3.300831      1  ...     9.365674          8  0.746458\n",
              "4      -8.500992 -9.305200      4  ...    16.184660          7  0.803458\n",
              "...          ...       ...    ...  ...          ...        ...       ...\n",
              "799995  9.586739 -1.920573      0  ...     3.619663          1  0.629610\n",
              "799996  5.119517  0.631933      3  ...     2.819589          6  0.763804\n",
              "799997  1.245637  8.073367      1  ...    11.177174          5  0.847846\n",
              "799998  1.066690  4.346718      0  ...     8.064696          4  0.961262\n",
              "799999  1.569900  8.281168      1  ...    11.234941          5  0.889703\n",
              "\n",
              "[800000 rows x 25 columns]"
            ]
          },
          "metadata": {
            "tags": []
          },
          "execution_count": 31
        }
      ]
    },
    {
      "cell_type": "code",
      "metadata": {
        "id": "o-GfpEEiEZBo"
      },
      "source": [
        ""
      ],
      "execution_count": null,
      "outputs": []
    }
  ]
}