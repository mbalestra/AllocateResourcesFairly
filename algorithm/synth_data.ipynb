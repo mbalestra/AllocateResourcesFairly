{
  "nbformat": 4,
  "nbformat_minor": 0,
  "metadata": {
    "colab": {
      "name": "synth_data.ipynb",
      "provenance": [],
      "collapsed_sections": []
    },
    "kernelspec": {
      "name": "python3",
      "display_name": "Python 3"
    }
  },
  "cells": [
    {
      "cell_type": "code",
      "metadata": {
        "id": "TRdL0t17k_h3",
        "colab_type": "code",
        "colab": {
          "base_uri": "https://localhost:8080/",
          "height": 71
        },
        "outputId": "410cc1a0-7df4-4333-c951-337603c88c4c"
      },
      "source": [
        "from sklearn.datasets import make_classification\n",
        "from matplotlib import pyplot as plt\n",
        "import seaborn as sns\n",
        "import numpy as np\n",
        "import pandas as pd\n",
        "from scipy import stats\n",
        "import matplotlib.pyplot as plt\n",
        "import random\n",
        "import time"
      ],
      "execution_count": 1,
      "outputs": [
        {
          "output_type": "stream",
          "text": [
            "/usr/local/lib/python3.6/dist-packages/statsmodels/tools/_testing.py:19: FutureWarning: pandas.util.testing is deprecated. Use the functions in the public API at pandas.testing instead.\n",
            "  import pandas.util.testing as tm\n"
          ],
          "name": "stderr"
        }
      ]
    },
    {
      "cell_type": "code",
      "metadata": {
        "id": "RCM1sRuTm-LK",
        "colab_type": "code",
        "colab": {
          "base_uri": "https://localhost:8080/",
          "height": 51
        },
        "outputId": "83e950a1-3ca7-4b16-8c96-d3555d39f47f"
      },
      "source": [
        "#User input for algorithm:\n",
        "#for synthetic data/potentially for regular datasets user can set the total subgroups/centroids\n",
        "centroids = input(\"Enter number of centroids: \")\n",
        "groupNum = input(\"Enter number of groups: \")"
      ],
      "execution_count": 2,
      "outputs": [
        {
          "output_type": "stream",
          "text": [
            "Enter number of centroids: 7\n",
            "Enter number of groups: 5\n"
          ],
          "name": "stdout"
        }
      ]
    },
    {
      "cell_type": "code",
      "metadata": {
        "id": "VnNJ6GLTIqIF",
        "colab_type": "code",
        "colab": {}
      },
      "source": [
        "#calculates euclidean distance between points\n",
        "def calc_dist(x,y,x_ref,y_ref):\n",
        "  return np.sqrt((((x-x_ref)**2)+((y-y_ref)**2))) "
      ],
      "execution_count": 3,
      "outputs": []
    },
    {
      "cell_type": "code",
      "metadata": {
        "id": "4MvuZpJO9Kg-",
        "colab_type": "code",
        "colab": {}
      },
      "source": [
        "#calculuates loss by putting euclidean distance of point->centroid into sigmoid function\n",
        "def calc_loss(x,y,x_ref,y_ref):\n",
        "    # calculate euclidean distance btw person & centroid\n",
        "    distance = calc_dist(x,y,x_ref,y_ref)\n",
        "    # refer to the above distance function to determine individual loss\n",
        "    loss = 1/(1+ np.exp(-1*(distance))) #converts distances to probability distribution\n",
        "    #return loss\n",
        "    return loss"
      ],
      "execution_count": 4,
      "outputs": []
    },
    {
      "cell_type": "code",
      "metadata": {
        "id": "AV8DU-EkimxQ",
        "colab_type": "code",
        "colab": {}
      },
      "source": [
        "#this function calculates the summation of all the individual losses within each cluster for minimizing the objective function\n",
        "def sum_loss(df, centroids, subgroup_loss):\n",
        "  #total datapoints\n",
        "  tot_len = 0\n",
        "  #sum of all individual losses between clusters\n",
        "  loss_sum = 0\n",
        "  clusters = []\n",
        "  max_val = df['min_loss'].max()\n",
        "  min_val = df['min_loss'].min()\n",
        "  for i in centroids.keys():\n",
        "    temp = df[df['min_centr']==i]\n",
        "    temp = temp.reset_index()\n",
        "    clusters.append(temp)\n",
        "    tot_len += len(temp)\n",
        "    loss_sum += temp['min_loss'].sum()\n",
        "  #weighting scheme for 2-part cost function (sum of individual losses and subgroup loss)\n",
        "  tot_loss = .8*(loss_sum/tot_len)\n",
        "  tot_loss += ((1-.8)*subgroup_loss)\n",
        "  print(subgroup_loss)\n",
        "  return tot_loss\n"
      ],
      "execution_count": 5,
      "outputs": []
    },
    {
      "cell_type": "code",
      "metadata": {
        "id": "_8N7YL7Kxs79",
        "colab_type": "code",
        "colab": {}
      },
      "source": [
        "def assign_cluster(df, centroids):\n",
        "  start = time.time()\n",
        "  for i in centroids.keys():\n",
        "    #loss based on euclidean distance for each individual point compared to both centroids\n",
        "    #stored in dataframe\n",
        "    df['loss_from_{}'.format(i)] = calc_loss(df['x_coord'], df['y_coord'], centroids[i][0], centroids[i][1])\n",
        "    df['dist_from_{}'.format(i)] = calc_dist(df['x_coord'], df['y_coord'], centroids[i][0], centroids[i][1])\n",
        "  centroid_dist_col = ['loss_from_{}'.format(i) for i in centroids.keys()]\n",
        "  #df column which holds the value of the closest centroid for each point\n",
        "  df['min_centr'] = df.loc[:, centroid_dist_col].idxmin(axis=1)\n",
        "  df['min_centr'] = df['min_centr'].map(lambda x: int(x.lstrip('loss_from_')))\n",
        "  #value of loss calculated from sigmoid in calc_loss function for individual loss\n",
        "  df['min_loss'] = df[['loss_from_{}'.format(i) for i in centroids.keys()]].min(axis=1)\n",
        "  end = time.time()\n",
        "  print('Time elapsed Assignment Step: ', end - start)\n",
        "  for i in range(len(centroids)):\n",
        "    del df['loss_from_{}'.format(i)]\n",
        "    lst = df['min_centr'].unique()\n",
        "    if i not in lst:\n",
        "      del df['dist_from_{}'.format(i)]\n",
        "  return df"
      ],
      "execution_count": 6,
      "outputs": []
    },
    {
      "cell_type": "code",
      "metadata": {
        "id": "pHz2LfEQQsZK",
        "colab_type": "code",
        "colab": {}
      },
      "source": [
        "# this function compares the loss between two groups at a certain percentile level\n",
        "def compare_loss(group1,group2,percentile):\n",
        "    select_group = [group1, group2]\n",
        "    percentile_loss = []\n",
        "    for s in select_group:\n",
        "        s.sort_values(by=['min_loss'])\n",
        "        subgroup = [s['min_loss']] # subset the two different groups of interest\n",
        "        loss_p = stats.scoreatpercentile(subgroup, percentile) # find the level of loss at given percentile\n",
        "        percentile_loss.append(loss_p) # load list with loss    \n",
        "    difference = percentile_loss[0]-percentile_loss[1] # find difference between two @ percentile\n",
        "    return np.abs(difference)"
      ],
      "execution_count": 7,
      "outputs": []
    },
    {
      "cell_type": "code",
      "metadata": {
        "id": "D6IkySh0EzcV",
        "colab_type": "code",
        "colab": {}
      },
      "source": [
        "#calculates gradient for clusters\n",
        "def update_weights(clust, lr, centr, df):\n",
        "  #total number of points in cluster 0 (points nearest to centroid 0)\n",
        "  new_centr_x, new_centr_y = centr[0], centr[1]\n",
        "  #calculate partial derivatives of euclidean distance functions\n",
        "  x = clust['x_coord']\n",
        "  y = clust['y_coord']\n",
        "  center = clust['min_centr']\n",
        "  distance = clust['dist_from_{}'.format(int(center))]\n",
        "  grad_x = (np.exp(-1*distance) * (x - centr[0])) / (1 + np.exp(-1*distance)*distance)\n",
        "  grad_y = (np.exp(-1*distance) * (y - centr[1])) / (1 + np.exp(-1*distance)*distance)\n",
        "\n",
        "  return (grad_x, grad_y)"
      ],
      "execution_count": 8,
      "outputs": []
    },
    {
      "cell_type": "code",
      "metadata": {
        "id": "jhdH_V2uYNnV",
        "colab_type": "code",
        "colab": {}
      },
      "source": [
        "def softmax(x):\n",
        "  return np.exp(x) / np.sum(np.exp(x), axis=0)"
      ],
      "execution_count": 9,
      "outputs": []
    },
    {
      "cell_type": "code",
      "metadata": {
        "id": "7Atzo5sakSfE",
        "colab_type": "code",
        "colab": {}
      },
      "source": [
        "import random\n",
        "def mini_batch(df, b, count, temp_centroids, centroids, groups, cdf1,cdf2):\n",
        "  #weighted mini-batch sampling\n",
        "  samples = []\n",
        "  group_loss = []\n",
        "  for group in groups:\n",
        "    group_loss.append(group['min_loss'].sum()/len(group))\n",
        "  weights = softmax(group_loss)\n",
        "  print('weights: ', weights)\n",
        "  for i, group in enumerate(groups):\n",
        "    samples.append(group.sample(n=int(b*weights[i]), random_state=1))\n",
        "  samp = pd.concat([samp for samp in samples], ignore_index=True, sort=False)\n",
        "  samp = samp.reset_index()\n",
        "  #initializations\n",
        "  sum_x = {}\n",
        "  for i in centroids.keys():\n",
        "    sum_x[i] = 0\n",
        "  sum_y = {}\n",
        "  for i in centroids.keys():\n",
        "    sum_y[i] = 0\n",
        "  for i in centroids.keys():\n",
        "    count[i] = 0\n",
        "  start = time.time()\n",
        "  #update centroid locations using gradient descent\n",
        "  for s in range(len(samp)):\n",
        "    clust = samp.iloc[s]['min_centr']\n",
        "    clust = int(clust)\n",
        "    count[clust]+=1\n",
        "    lr = 1/count[clust]\n",
        "    temp = update_weights(samp.iloc[s], lr, temp_centroids[clust], df)\n",
        "    sum_x[clust] += temp[0]\n",
        "    sum_y[clust] += temp[1]\n",
        "  for i in range(len(temp_centroids)):\n",
        "    if count[i]!= 0:\n",
        "      temp_centroids[i] = (temp_centroids[i][0]-lr*(sum_x[i]/count[i]), temp_centroids[i][1]-lr*(sum_y[i]/count[i]))\n",
        "  end = time.time()\n",
        "  print('Time elapsed Batch Step: ', end - start)\n",
        "  return temp_centroids"
      ],
      "execution_count": 10,
      "outputs": []
    },
    {
      "cell_type": "code",
      "metadata": {
        "id": "kkvulHEXxtsV",
        "colab_type": "code",
        "colab": {}
      },
      "source": [
        "#updates centroid locations based on gradient descent and loss constraint\n",
        "def update(centroids, df, subgroup_loss, loss, groups, cdf1, cdf2):\n",
        "  #initializations\n",
        "  tot_loss_lst = []\n",
        "  prev_centr = {}\n",
        "  for i in centroids.keys():\n",
        "    prev_centr[i] = 0\n",
        "  b = 1000\n",
        "  max_iter = 150\n",
        "  iter_num = 0\n",
        "  conv = 10\n",
        "  j = 0\n",
        "  tot_loss_lst.append(loss)\n",
        "  #set temporary centroids for assignment\n",
        "  temp_centroids = {}\n",
        "  for i in centroids.keys():\n",
        "    temp_centroids[i] = centroids[i]\n",
        "  count = {}\n",
        "  #beginning of updating \n",
        "  while iter_num < max_iter:\n",
        "    start = time.time()\n",
        "    old_loss = loss\n",
        "    #set up for mini batch gradient descent\n",
        "    temp_centroids = mini_batch(df, b, count, temp_centroids, centroids, groups, cdf1, cdf2)\n",
        "    #testing to see if new centroid locations improve summation of individual loss\n",
        "    temp_df = assign_cluster(df, temp_centroids)\n",
        "    groups = compute_groups(temp_df)\n",
        "    cdf1, cdf2 = compute_cdf(groups)\n",
        "    temp_subgroup_loss = compare_loss(groups[cdf1], groups[cdf2], 50)   \n",
        "    temp_loss = sum_loss(temp_df, temp_centroids, temp_subgroup_loss)\n",
        "    iter_num += 1\n",
        "    if old_loss != temp_loss and j < conv:\n",
        "      #only change centroid locations if it improves subgroup loss\n",
        "      if old_loss > temp_loss:\n",
        "        subgroup_loss = temp_subgroup_loss\n",
        "        loss = temp_loss\n",
        "        df = temp_df\n",
        "        groups = compute_groups(df)\n",
        "        compute_cdf_graph(groups)\n",
        "        for i in prev_centr.keys():\n",
        "          prev_centr[i] = centroids[i]\n",
        "        for i in centroids.keys():\n",
        "          centroids[i] = temp_centroids[i]\n",
        "        print('c ', centroids)\n",
        "        j = 0\n",
        "      else:\n",
        "        j += 1\n",
        "      # loss = sum_loss(temp_df, centroids, subgroup_loss)\n",
        "      tot_loss_lst.append(loss)\n",
        "    else:\n",
        "      end = time.time()\n",
        "      print('Time elapsed End of Update Step: ', end - start)\n",
        "      #plot overall cost \n",
        "      plt.title('Cost per iteration')\n",
        "      plt.plot(tot_loss_lst)\n",
        "      plt.show()\n",
        "      return centroids\n",
        "  #plot overall cost\n",
        "  plt.title('Cost per iteration')\n",
        "  plt.plot(tot_loss_lst)\n",
        "  plt.show()\n",
        "  print('Reached max iterations')\n",
        "  print('prev centroids: ', prev_centr)\n",
        "  return centroids    "
      ],
      "execution_count": 11,
      "outputs": []
    },
    {
      "cell_type": "code",
      "metadata": {
        "id": "gm1uSK1qNWF-",
        "colab_type": "code",
        "colab": {}
      },
      "source": [
        "def compute_cdf(groups):\n",
        "  lst = []\n",
        "  perc = []\n",
        "  for group in groups:\n",
        "    sorted_data = group.sort_values(by=['min_loss'])\n",
        "    sorted_len = len(sorted_data['min_loss'])\n",
        "    yvals = np.arange(sorted_len)/float(sorted_len-1)\n",
        "    lst.append(sorted_data['min_loss'].sum())\n",
        "    subgroup = [sorted_data['min_loss']] # subset the two different groups of interest\n",
        "    perc.append(stats.scoreatpercentile(subgroup, 50))\n",
        "  min_ind = perc.index(min(perc))\n",
        "  max_ind = perc.index(max(perc))\n",
        "  return (max_ind, min_ind)"
      ],
      "execution_count": 12,
      "outputs": []
    },
    {
      "cell_type": "code",
      "metadata": {
        "id": "96wNyENwo81a",
        "colab_type": "code",
        "colab": {}
      },
      "source": [
        "def compute_cdf_graph(groups):\n",
        "  #this function creates the cdf graph of all subgroups\n",
        "  for group in groups:\n",
        "    sorted_data = group.sort_values(by=['min_loss'])\n",
        "    sorted_len = len(sorted_data['min_loss'])\n",
        "    yvals = np.arange(sorted_len)/float(sorted_len-1)\n",
        "    subgroup = [sorted_data['min_loss']] # subset the two different groups of interest\n",
        "    plt.plot(sorted_data['min_loss'], yvals)\n",
        "  plt.xlabel('loss per individual')\n",
        "  plt.ylabel('% of people within certain loss of centroid')\n",
        "  plt.title('Individual loss- CDF stratified by group')\n",
        "  plt.show()"
      ],
      "execution_count": 13,
      "outputs": []
    },
    {
      "cell_type": "code",
      "metadata": {
        "id": "TwUnrQ4UmApY",
        "colab_type": "code",
        "colab": {}
      },
      "source": [
        "def compute_groups(df):\n",
        "  #divides the dataframe by subgroup membership\n",
        "  num_groups = df.group.nunique()\n",
        "  groups = []\n",
        "  for i in range(num_groups):\n",
        "    group = df[df['group']==i]\n",
        "    group = group.reset_index()\n",
        "    groups.append(group)\n",
        "  return groups"
      ],
      "execution_count": 14,
      "outputs": []
    },
    {
      "cell_type": "code",
      "metadata": {
        "id": "FsW4eBXvvi4k",
        "colab_type": "code",
        "colab": {}
      },
      "source": [
        "def compute_clusters(df):\n",
        "  #divides dataframe by centroid membership\n",
        "  num_clusters = df.min_centr.nunique()\n",
        "  clusters = []\n",
        "  for i in range(num_clusters):\n",
        "    cluster = df[df['min_centr']==i]\n",
        "    cluster = cluster.reset_index()\n",
        "    clusters.append(cluster)\n",
        "  return clusters"
      ],
      "execution_count": 15,
      "outputs": []
    },
    {
      "cell_type": "code",
      "metadata": {
        "id": "l0PFBv30obU-",
        "colab_type": "code",
        "colab": {
          "base_uri": "https://localhost:8080/",
          "height": 472
        },
        "outputId": "8f672abd-0900-497d-97c6-5f61cc90737d"
      },
      "source": [
        "from sklearn.datasets import make_blobs\n",
        "from sklearn.datasets import make_classification\n",
        "import random\n",
        "import sys\n",
        "from operator import itemgetter\n",
        "\n",
        "# Generate Imbalanced Synthetic Data\n",
        "center_box = (0,20)\n",
        "# X,y = make_classification(n_samples=800000, n_classes=int(groupNum),shift=15 ,n_informative=4, n_redundant=0,n_repeated=0, n_clusters_per_class=2,class_sep=.8,flip_y=0,weights=[0.65,.15, .12, .08], random_state=55)\n",
        "X, y = make_blobs(n_samples=800000, centers=int(centroids), n_features=2, cluster_std=.4,random_state=0)\n",
        "# X, y = make_blobs(n_samples=1000000, centers=int(groups), n_features=2,center_box=center_box,random_state=0)\n",
        "# create dataframe to hold x and y coordinates\n",
        "df = pd.DataFrame({\n",
        "    'x_coord': X[:,0],\n",
        "    'y_coord': X[:,1]})\n",
        "\n",
        "numList = [i for i in range(int(groupNum))]\n",
        "df['group'] = y\n",
        "\n",
        " \n",
        "#arbitrarily picked random k (number of centroids)\n",
        "k = int(centroids)\n",
        "centroids = {}\n",
        "#randomly initialized centroid x and y coordinates (in real data we will actually have these coordinates)\n",
        "centroids[0] = ((random.choice(X[:,0])), (random.choice(X[:,1])))\n",
        "       \n",
        "#K-Means++ \n",
        "for c in range(k - 1): \n",
        "  ## initialize a list to store distances of data \n",
        "  ## points from nearest centroid \n",
        "  dist = [] \n",
        "  for i in range(df.shape[0]): \n",
        "    point = (df['x_coord'][i],df['y_coord'][i])  \n",
        "    d = sys.maxsize \n",
        "                                                                      \n",
        "    ## compute distance of 'point' from each of the previously \n",
        "    ## selected centroid and store the minimum distance \n",
        "    for j in range(len(centroids)): \n",
        "      temp_dist = calc_dist(point[0], point[1], centroids[j][0], centroids[j][1]) \n",
        "      d = min(d, temp_dist) \n",
        "    dist.append(d) \n",
        "              \n",
        "  ## select data point with maximum distance as our next centroid \n",
        "  dist = np.array(dist) \n",
        "  next_centroid = (df['x_coord'][np.argmax(dist)], df['y_coord'][np.argmax(dist)]) \n",
        "  centroids[c+1] = (next_centroid) \n",
        "  dist = [] \n",
        "\n",
        "#colors for centroids\n",
        "color_map = {}\n",
        "for i in range(k):\n",
        "  color_map[i] = 'g'\n",
        "\n",
        "#plot synthetic data\n",
        "fig = plt.figure(figsize=(5,5))\n",
        "ax = sns.scatterplot(X[:,0],X[:,1],hue=y)\n",
        "for i in centroids.keys():\n",
        "  plt.scatter(centroids[i][0], centroids[i][1], color=color_map[i])\n",
        "df = assign_cluster(df, centroids)\n",
        "plt.xlim(-20, 20)\n",
        "plt.ylim(-20, 20)\n",
        "ax.set_title(\"Synthetic Data\")\n",
        "plt.show()\n",
        "\n",
        "centroids"
      ],
      "execution_count": 16,
      "outputs": [
        {
          "output_type": "stream",
          "text": [
            "Time elapsed Assignment Step:  2.22133207321167\n"
          ],
          "name": "stdout"
        },
        {
          "output_type": "display_data",
          "data": {
            "image/png": "[encoded data removed]",
            "text/plain": [
              "<Figure size 360x360 with 1 Axes>"
            ]
          },
          "metadata": {
            "tags": [],
            "needs_background": "light"
          }
        },
        {
          "output_type": "execute_result",
          "data": {
            "text/plain": [
              "{0: (-1.0663934097032313, 4.624169911927073),\n",
              " 1: (10.836064212369346, -3.0623102789556764),\n",
              " 2: (6.166903940066983, 2.496484593220087),\n",
              " 3: (1.8585901993874387, 10.148803538887215),\n",
              " 4: (1.389696917541647, -0.5689010826849061),\n",
              " 5: (-2.632564014227559, 8.895627374980425),\n",
              " 6: (7.344879251146389, -1.5996807567112303)}"
            ]
          },
          "metadata": {
            "tags": []
          },
          "execution_count": 16
        }
      ]
    },
    {
      "cell_type": "code",
      "metadata": {
        "id": "2MEKHTpLhcNV",
        "colab_type": "code",
        "colab": {
          "base_uri": "https://localhost:8080/",
          "height": 1000
        },
        "outputId": "08bbecfb-7756-4925-a764-aa8ddcc5008d"
      },
      "source": [
        "df = assign_cluster(df, centroids)\n",
        "groups = compute_groups(df)\n",
        "compute_cdf_graph(groups)\n",
        "clusters = compute_clusters(df)\n",
        "cdf1, cdf2 = compute_cdf(groups)\n",
        "#subgroup loss between max and min loss\n",
        "subgroup_loss = compare_loss(groups[cdf1], groups[cdf2], 50)\n",
        "loss = sum_loss(df, centroids, subgroup_loss)\n",
        "update(centroids,df, subgroup_loss, loss, groups, cdf1, cdf2)"
      ],
      "execution_count": 18,
      "outputs": [
        {
          "output_type": "stream",
          "text": [
            "Time elapsed Assignment Step:  2.043123245239258\n"
          ],
          "name": "stdout"
        },
        {
          "output_type": "display_data",
          "data": {
            "image/png": "[encoded data removed]",
            "text/plain": [
              "<Figure size 432x288 with 1 Axes>"
            ]
          },
          "metadata": {
            "tags": [],
            "needs_background": "light"
          }
        },
        {
          "output_type": "stream",
          "text": [
            "0.05323106909931341\n",
            "weights:  [0.14770429 0.14023449 0.142951   0.14252363 0.13951559 0.14508495\n",
            " 0.14198606]\n",
            "Time elapsed Batch Step:  0.4118466377258301\n",
            "Time elapsed Assignment Step:  2.0691235065460205\n",
            "0.05312345323960144\n",
            "weights:  [0.14769129 0.14024266 0.14294113 0.14252909 0.13951876 0.14508442\n",
            " 0.14199265]\n",
            "Time elapsed Batch Step:  0.4355337619781494\n",
            "Time elapsed Assignment Step:  2.081970691680908\n",
            "0.053015113727292396\n",
            "weights:  [0.14767833 0.14025082 0.1429313  0.14253453 0.13952192 0.14508386\n",
            " 0.14199923]\n",
            "Time elapsed Batch Step:  0.4132578372955322\n",
            "Time elapsed Assignment Step:  2.0687971115112305\n",
            "0.05291995976491537\n",
            "weights:  [0.14766539 0.14025898 0.1429215  0.14253997 0.13952507 0.1450833\n",
            " 0.1420058 ]\n",
            "Time elapsed Batch Step:  0.4042544364929199\n",
            "Time elapsed Assignment Step:  2.0834288597106934\n",
            "0.05280904880721449\n",
            "weights:  [0.14765257 0.14026706 0.14291179 0.14254534 0.13952817 0.14508278\n",
            " 0.14201229]\n",
            "Time elapsed Batch Step:  0.42577552795410156\n",
            "Time elapsed Assignment Step:  2.1239874362945557\n",
            "0.05272655946785354\n",
            "weights:  [0.14763979 0.14027512 0.14290212 0.14255071 0.13953125 0.14508224\n",
            " 0.14201877]\n",
            "Time elapsed Batch Step:  0.4125244617462158\n",
            "Time elapsed Assignment Step:  2.1037418842315674\n",
            "0.05263149995581051\n",
            "weights:  [0.14762703 0.14028318 0.14289247 0.14255606 0.13953432 0.14508169\n",
            " 0.14202524]\n",
            "Time elapsed Batch Step:  0.4121115207672119\n",
            "Time elapsed Assignment Step:  2.0683090686798096\n",
            "0.052536737973511105\n",
            "weights:  [0.1476143  0.14029123 0.14288285 0.14256139 0.13953739 0.14508113\n",
            " 0.14203171]\n",
            "Time elapsed Batch Step:  0.40262889862060547\n",
            "Time elapsed Assignment Step:  2.048647880554199\n",
            "0.0524278187579188\n",
            "weights:  [0.1476016  0.14029926 0.14287325 0.14256671 0.13954054 0.1450805\n",
            " 0.14203815]\n",
            "Time elapsed Batch Step:  0.41047215461730957\n",
            "Time elapsed Assignment Step:  2.0937116146087646\n",
            "0.052318413238510164\n",
            "weights:  [0.14758891 0.14030727 0.14286366 0.142572   0.13954378 0.14507981\n",
            " 0.14204457]\n",
            "Time elapsed Batch Step:  0.4001336097717285\n",
            "Time elapsed Assignment Step:  2.0563294887542725\n",
            "0.05221712718663296\n",
            "weights:  [0.14757626 0.14031527 0.14285411 0.14257727 0.13954701 0.1450791\n",
            " 0.14205098]\n",
            "Time elapsed Batch Step:  0.41173481941223145\n",
            "Time elapsed Assignment Step:  2.071211338043213\n",
            "0.0521301018575111\n",
            "Time elapsed End of Update Step:  3.5346662998199463\n"
          ],
          "name": "stdout"
        },
        {
          "output_type": "display_data",
          "data": {
            "image/png": "[encoded data removed]",
            "text/plain": [
              "<Figure size 432x288 with 1 Axes>"
            ]
          },
          "metadata": {
            "tags": [],
            "needs_background": "light"
          }
        },
        {
          "output_type": "execute_result",
          "data": {
            "text/plain": [
              "{0: (-1.0663934097032313, 4.624169911927073),\n",
              " 1: (10.836064212369346, -3.0623102789556764),\n",
              " 2: (6.166903940066983, 2.496484593220087),\n",
              " 3: (1.8585901993874387, 10.148803538887215),\n",
              " 4: (1.389696917541647, -0.5689010826849061),\n",
              " 5: (-2.632564014227559, 8.895627374980425),\n",
              " 6: (7.344879251146389, -1.5996807567112303)}"
            ]
          },
          "metadata": {
            "tags": []
          },
          "execution_count": 18
        }
      ]
    },
    {
      "cell_type": "code",
      "metadata": {
        "id": "TAMQEXmAYTC_",
        "colab_type": "code",
        "colab": {}
      },
      "source": [
        "df.head(30)"
      ],
      "execution_count": null,
      "outputs": []
    },
    {
      "cell_type": "code",
      "metadata": {
        "id": "atv_Uao4cI5h",
        "colab_type": "code",
        "colab": {}
      },
      "source": [
        "df = assign_cluster(df, centroids)\n",
        "df"
      ],
      "execution_count": null,
      "outputs": []
    }
  ]
}